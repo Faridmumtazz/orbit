{
  "nbformat": 4,
  "nbformat_minor": 0,
  "metadata": {
    "kernelspec": {
      "display_name": "Python 3",
      "language": "python",
      "name": "python3"
    },
    "language_info": {
      "codemirror_mode": {
        "name": "ipython",
        "version": 3
      },
      "file_extension": ".py",
      "mimetype": "text/x-python",
      "name": "python",
      "nbconvert_exporter": "python",
      "pygments_lexer": "ipython3",
      "version": "3.7.6"
    },
    "colab": {
      "name": "Merry KM_07_01_Student.ipynb",
      "provenance": [],
      "collapsed_sections": []
    }
  },
  "cells": [
    {
      "cell_type": "markdown",
      "metadata": {
        "id": "fXyErK3La9VY"
      },
      "source": [
        "## Import Library yg dibutuhkan"
      ]
    },
    {
      "cell_type": "code",
      "metadata": {
        "id": "o-sY0DCpa9Vi"
      },
      "source": [
        "import pandas as pd\n",
        "import matplotlib.pyplot as plt\n",
        "#tambahkan library sesuai kebutuhan"
      ],
      "execution_count": null,
      "outputs": []
    },
    {
      "cell_type": "code",
      "metadata": {
        "id": "mdVVIvqIa9Vm"
      },
      "source": [
        "data = pd.read_csv('activity_km_07_01.csv')"
      ],
      "execution_count": null,
      "outputs": []
    },
    {
      "cell_type": "code",
      "metadata": {
        "id": "Kwh2UjUMa9Vo",
        "colab": {
          "base_uri": "https://localhost:8080/",
          "height": 419
        },
        "outputId": "eff42fc4-c81f-4240-a2e9-90eb9ef38a14"
      },
      "source": [
        "data"
      ],
      "execution_count": null,
      "outputs": [
        {
          "output_type": "execute_result",
          "data": {
            "text/html": [
              "<div>\n",
              "<style scoped>\n",
              "    .dataframe tbody tr th:only-of-type {\n",
              "        vertical-align: middle;\n",
              "    }\n",
              "\n",
              "    .dataframe tbody tr th {\n",
              "        vertical-align: top;\n",
              "    }\n",
              "\n",
              "    .dataframe thead th {\n",
              "        text-align: right;\n",
              "    }\n",
              "</style>\n",
              "<table border=\"1\" class=\"dataframe\">\n",
              "  <thead>\n",
              "    <tr style=\"text-align: right;\">\n",
              "      <th></th>\n",
              "      <th>PH</th>\n",
              "      <th>cahaya</th>\n",
              "      <th>intensitas air</th>\n",
              "      <th>suhu</th>\n",
              "      <th>PPM</th>\n",
              "      <th>tinggi air</th>\n",
              "      <th>aksi</th>\n",
              "    </tr>\n",
              "  </thead>\n",
              "  <tbody>\n",
              "    <tr>\n",
              "      <th>0</th>\n",
              "      <td>6.5</td>\n",
              "      <td>Ada</td>\n",
              "      <td>Tinggi</td>\n",
              "      <td>27.0</td>\n",
              "      <td>188.0</td>\n",
              "      <td>622</td>\n",
              "      <td>Hidupkan Lampu dan Pompa nutrisi TDS</td>\n",
              "    </tr>\n",
              "    <tr>\n",
              "      <th>1</th>\n",
              "      <td>5.7</td>\n",
              "      <td>Ada</td>\n",
              "      <td>Tinggi</td>\n",
              "      <td>26.9</td>\n",
              "      <td>79.0</td>\n",
              "      <td>557</td>\n",
              "      <td>Hidupkan Lampu dan Pompa nutrisi TDS</td>\n",
              "    </tr>\n",
              "    <tr>\n",
              "      <th>2</th>\n",
              "      <td>6.0</td>\n",
              "      <td>Ada</td>\n",
              "      <td>Tinggi</td>\n",
              "      <td>27.0</td>\n",
              "      <td>11.0</td>\n",
              "      <td>491</td>\n",
              "      <td>Hidupkan Lampu dan Pompa nutrisi TDS</td>\n",
              "    </tr>\n",
              "    <tr>\n",
              "      <th>3</th>\n",
              "      <td>6.5</td>\n",
              "      <td>Ada</td>\n",
              "      <td>Tinggi</td>\n",
              "      <td>27.1</td>\n",
              "      <td>345.0</td>\n",
              "      <td>12000</td>\n",
              "      <td>Tidak melakukan apa-apa</td>\n",
              "    </tr>\n",
              "    <tr>\n",
              "      <th>4</th>\n",
              "      <td>6.2</td>\n",
              "      <td>NaN</td>\n",
              "      <td>Tinggi</td>\n",
              "      <td>27.1</td>\n",
              "      <td>602.0</td>\n",
              "      <td>444</td>\n",
              "      <td>Tidak melakukan apa-apa</td>\n",
              "    </tr>\n",
              "    <tr>\n",
              "      <th>...</th>\n",
              "      <td>...</td>\n",
              "      <td>...</td>\n",
              "      <td>...</td>\n",
              "      <td>...</td>\n",
              "      <td>...</td>\n",
              "      <td>...</td>\n",
              "      <td>...</td>\n",
              "    </tr>\n",
              "    <tr>\n",
              "      <th>611</th>\n",
              "      <td>4.6</td>\n",
              "      <td>Ada</td>\n",
              "      <td>Rendah sekali</td>\n",
              "      <td>25.3</td>\n",
              "      <td>904.0</td>\n",
              "      <td>47</td>\n",
              "      <td>Hidupkan Lampu</td>\n",
              "    </tr>\n",
              "    <tr>\n",
              "      <th>612</th>\n",
              "      <td>2.1</td>\n",
              "      <td>Ada</td>\n",
              "      <td>Rendah sekali</td>\n",
              "      <td>25.0</td>\n",
              "      <td>388.0</td>\n",
              "      <td>18</td>\n",
              "      <td>Hidupkan Lampu dan Pompa nutrisi TDS</td>\n",
              "    </tr>\n",
              "    <tr>\n",
              "      <th>613</th>\n",
              "      <td>3.2</td>\n",
              "      <td>Ada</td>\n",
              "      <td>Rendah sekali</td>\n",
              "      <td>25.3</td>\n",
              "      <td>793.0</td>\n",
              "      <td>19</td>\n",
              "      <td>Hidupkan Lampu</td>\n",
              "    </tr>\n",
              "    <tr>\n",
              "      <th>614</th>\n",
              "      <td>1.4</td>\n",
              "      <td>Ada</td>\n",
              "      <td>Rendah sekali</td>\n",
              "      <td>25.4</td>\n",
              "      <td>1052.0</td>\n",
              "      <td>3</td>\n",
              "      <td>Hidupkan Lampu</td>\n",
              "    </tr>\n",
              "    <tr>\n",
              "      <th>615</th>\n",
              "      <td>5.0</td>\n",
              "      <td>Ada</td>\n",
              "      <td>Rendah sekali</td>\n",
              "      <td>25.3</td>\n",
              "      <td>977.0</td>\n",
              "      <td>19</td>\n",
              "      <td>Hidupkan Lampu</td>\n",
              "    </tr>\n",
              "  </tbody>\n",
              "</table>\n",
              "<p>616 rows × 7 columns</p>\n",
              "</div>"
            ],
            "text/plain": [
              "      PH cahaya  ... tinggi air                                  aksi\n",
              "0    6.5    Ada  ...        622  Hidupkan Lampu dan Pompa nutrisi TDS\n",
              "1    5.7    Ada  ...        557  Hidupkan Lampu dan Pompa nutrisi TDS\n",
              "2    6.0    Ada  ...        491  Hidupkan Lampu dan Pompa nutrisi TDS\n",
              "3    6.5    Ada  ...      12000               Tidak melakukan apa-apa\n",
              "4    6.2    NaN  ...        444               Tidak melakukan apa-apa\n",
              "..   ...    ...  ...        ...                                   ...\n",
              "611  4.6    Ada  ...         47                        Hidupkan Lampu\n",
              "612  2.1    Ada  ...         18  Hidupkan Lampu dan Pompa nutrisi TDS\n",
              "613  3.2    Ada  ...         19                        Hidupkan Lampu\n",
              "614  1.4    Ada  ...          3                        Hidupkan Lampu\n",
              "615  5.0    Ada  ...         19                        Hidupkan Lampu\n",
              "\n",
              "[616 rows x 7 columns]"
            ]
          },
          "metadata": {},
          "execution_count": 72
        }
      ]
    },
    {
      "cell_type": "markdown",
      "metadata": {
        "id": "WZ3GE8pya9Vr"
      },
      "source": [
        "## 1. Mengganti nama kolom yang menggunakan spasi"
      ]
    },
    {
      "cell_type": "code",
      "metadata": {
        "id": "v0csWHwRa9Vs",
        "colab": {
          "base_uri": "https://localhost:8080/",
          "height": 419
        },
        "outputId": "89039f73-4cf2-4256-952f-602bf7ea9179"
      },
      "source": [
        "#Mengganti nama kolom yang menggunakan spasi\n",
        "data.rename(columns={'intensitas air': 'intensit_air', 'tinggi air': 'tinggi_air'}, inplace=True)\n",
        "data\n"
      ],
      "execution_count": null,
      "outputs": [
        {
          "output_type": "execute_result",
          "data": {
            "text/html": [
              "<div>\n",
              "<style scoped>\n",
              "    .dataframe tbody tr th:only-of-type {\n",
              "        vertical-align: middle;\n",
              "    }\n",
              "\n",
              "    .dataframe tbody tr th {\n",
              "        vertical-align: top;\n",
              "    }\n",
              "\n",
              "    .dataframe thead th {\n",
              "        text-align: right;\n",
              "    }\n",
              "</style>\n",
              "<table border=\"1\" class=\"dataframe\">\n",
              "  <thead>\n",
              "    <tr style=\"text-align: right;\">\n",
              "      <th></th>\n",
              "      <th>PH</th>\n",
              "      <th>cahaya</th>\n",
              "      <th>intensit_air</th>\n",
              "      <th>suhu</th>\n",
              "      <th>PPM</th>\n",
              "      <th>tinggi_air</th>\n",
              "      <th>aksi</th>\n",
              "    </tr>\n",
              "  </thead>\n",
              "  <tbody>\n",
              "    <tr>\n",
              "      <th>0</th>\n",
              "      <td>6.5</td>\n",
              "      <td>Ada</td>\n",
              "      <td>Tinggi</td>\n",
              "      <td>27.0</td>\n",
              "      <td>188.0</td>\n",
              "      <td>622</td>\n",
              "      <td>Hidupkan Lampu dan Pompa nutrisi TDS</td>\n",
              "    </tr>\n",
              "    <tr>\n",
              "      <th>1</th>\n",
              "      <td>5.7</td>\n",
              "      <td>Ada</td>\n",
              "      <td>Tinggi</td>\n",
              "      <td>26.9</td>\n",
              "      <td>79.0</td>\n",
              "      <td>557</td>\n",
              "      <td>Hidupkan Lampu dan Pompa nutrisi TDS</td>\n",
              "    </tr>\n",
              "    <tr>\n",
              "      <th>2</th>\n",
              "      <td>6.0</td>\n",
              "      <td>Ada</td>\n",
              "      <td>Tinggi</td>\n",
              "      <td>27.0</td>\n",
              "      <td>11.0</td>\n",
              "      <td>491</td>\n",
              "      <td>Hidupkan Lampu dan Pompa nutrisi TDS</td>\n",
              "    </tr>\n",
              "    <tr>\n",
              "      <th>3</th>\n",
              "      <td>6.5</td>\n",
              "      <td>Ada</td>\n",
              "      <td>Tinggi</td>\n",
              "      <td>27.1</td>\n",
              "      <td>345.0</td>\n",
              "      <td>12000</td>\n",
              "      <td>Tidak melakukan apa-apa</td>\n",
              "    </tr>\n",
              "    <tr>\n",
              "      <th>4</th>\n",
              "      <td>6.2</td>\n",
              "      <td>NaN</td>\n",
              "      <td>Tinggi</td>\n",
              "      <td>27.1</td>\n",
              "      <td>602.0</td>\n",
              "      <td>444</td>\n",
              "      <td>Tidak melakukan apa-apa</td>\n",
              "    </tr>\n",
              "    <tr>\n",
              "      <th>...</th>\n",
              "      <td>...</td>\n",
              "      <td>...</td>\n",
              "      <td>...</td>\n",
              "      <td>...</td>\n",
              "      <td>...</td>\n",
              "      <td>...</td>\n",
              "      <td>...</td>\n",
              "    </tr>\n",
              "    <tr>\n",
              "      <th>611</th>\n",
              "      <td>4.6</td>\n",
              "      <td>Ada</td>\n",
              "      <td>Rendah sekali</td>\n",
              "      <td>25.3</td>\n",
              "      <td>904.0</td>\n",
              "      <td>47</td>\n",
              "      <td>Hidupkan Lampu</td>\n",
              "    </tr>\n",
              "    <tr>\n",
              "      <th>612</th>\n",
              "      <td>2.1</td>\n",
              "      <td>Ada</td>\n",
              "      <td>Rendah sekali</td>\n",
              "      <td>25.0</td>\n",
              "      <td>388.0</td>\n",
              "      <td>18</td>\n",
              "      <td>Hidupkan Lampu dan Pompa nutrisi TDS</td>\n",
              "    </tr>\n",
              "    <tr>\n",
              "      <th>613</th>\n",
              "      <td>3.2</td>\n",
              "      <td>Ada</td>\n",
              "      <td>Rendah sekali</td>\n",
              "      <td>25.3</td>\n",
              "      <td>793.0</td>\n",
              "      <td>19</td>\n",
              "      <td>Hidupkan Lampu</td>\n",
              "    </tr>\n",
              "    <tr>\n",
              "      <th>614</th>\n",
              "      <td>1.4</td>\n",
              "      <td>Ada</td>\n",
              "      <td>Rendah sekali</td>\n",
              "      <td>25.4</td>\n",
              "      <td>1052.0</td>\n",
              "      <td>3</td>\n",
              "      <td>Hidupkan Lampu</td>\n",
              "    </tr>\n",
              "    <tr>\n",
              "      <th>615</th>\n",
              "      <td>5.0</td>\n",
              "      <td>Ada</td>\n",
              "      <td>Rendah sekali</td>\n",
              "      <td>25.3</td>\n",
              "      <td>977.0</td>\n",
              "      <td>19</td>\n",
              "      <td>Hidupkan Lampu</td>\n",
              "    </tr>\n",
              "  </tbody>\n",
              "</table>\n",
              "<p>616 rows × 7 columns</p>\n",
              "</div>"
            ],
            "text/plain": [
              "      PH cahaya  ... tinggi_air                                  aksi\n",
              "0    6.5    Ada  ...        622  Hidupkan Lampu dan Pompa nutrisi TDS\n",
              "1    5.7    Ada  ...        557  Hidupkan Lampu dan Pompa nutrisi TDS\n",
              "2    6.0    Ada  ...        491  Hidupkan Lampu dan Pompa nutrisi TDS\n",
              "3    6.5    Ada  ...      12000               Tidak melakukan apa-apa\n",
              "4    6.2    NaN  ...        444               Tidak melakukan apa-apa\n",
              "..   ...    ...  ...        ...                                   ...\n",
              "611  4.6    Ada  ...         47                        Hidupkan Lampu\n",
              "612  2.1    Ada  ...         18  Hidupkan Lampu dan Pompa nutrisi TDS\n",
              "613  3.2    Ada  ...         19                        Hidupkan Lampu\n",
              "614  1.4    Ada  ...          3                        Hidupkan Lampu\n",
              "615  5.0    Ada  ...         19                        Hidupkan Lampu\n",
              "\n",
              "[616 rows x 7 columns]"
            ]
          },
          "metadata": {},
          "execution_count": 73
        }
      ]
    },
    {
      "cell_type": "markdown",
      "metadata": {
        "id": "vCYDhpdfa9Vt"
      },
      "source": [
        "## 2. Mengganti data kategorikal menjadi bentuk numerical (Clue : Labelencoder tidak bekerja ketika ada missing value, gunakan metode lain)"
      ]
    },
    {
      "cell_type": "code",
      "metadata": {
        "id": "HNAJfwlCa9Vu",
        "colab": {
          "base_uri": "https://localhost:8080/"
        },
        "outputId": "84e47ab5-cc97-4a32-ae71-5b9e09ba4c3c"
      },
      "source": [
        "#Isi Code\n",
        "data.info()"
      ],
      "execution_count": null,
      "outputs": [
        {
          "output_type": "stream",
          "name": "stdout",
          "text": [
            "<class 'pandas.core.frame.DataFrame'>\n",
            "RangeIndex: 616 entries, 0 to 615\n",
            "Data columns (total 7 columns):\n",
            " #   Column        Non-Null Count  Dtype  \n",
            "---  ------        --------------  -----  \n",
            " 0   PH            600 non-null    float64\n",
            " 1   cahaya        590 non-null    object \n",
            " 2   intensit_air  616 non-null    object \n",
            " 3   suhu          589 non-null    float64\n",
            " 4   PPM           611 non-null    float64\n",
            " 5   tinggi_air    616 non-null    int64  \n",
            " 6   aksi          616 non-null    object \n",
            "dtypes: float64(3), int64(1), object(3)\n",
            "memory usage: 33.8+ KB\n"
          ]
        }
      ]
    },
    {
      "cell_type": "markdown",
      "metadata": {
        "id": "W5Ka60uYa9Vv"
      },
      "source": [
        "## 3. Handle Missing Value"
      ]
    },
    {
      "cell_type": "code",
      "metadata": {
        "id": "z6BbPoqPa9Vv",
        "colab": {
          "base_uri": "https://localhost:8080/",
          "height": 266
        },
        "outputId": "97ccd5b4-0aaf-4327-f6ab-55b7a9ff1eee"
      },
      "source": [
        "#Melihat presentase missing value tiap kolom\n",
        "missing_data = pd.DataFrame({'total_missing': data.isnull().sum(), 'perc_missing': (data.isnull().sum()/616)*100})\n",
        "missing_data"
      ],
      "execution_count": null,
      "outputs": [
        {
          "output_type": "execute_result",
          "data": {
            "text/html": [
              "<div>\n",
              "<style scoped>\n",
              "    .dataframe tbody tr th:only-of-type {\n",
              "        vertical-align: middle;\n",
              "    }\n",
              "\n",
              "    .dataframe tbody tr th {\n",
              "        vertical-align: top;\n",
              "    }\n",
              "\n",
              "    .dataframe thead th {\n",
              "        text-align: right;\n",
              "    }\n",
              "</style>\n",
              "<table border=\"1\" class=\"dataframe\">\n",
              "  <thead>\n",
              "    <tr style=\"text-align: right;\">\n",
              "      <th></th>\n",
              "      <th>total_missing</th>\n",
              "      <th>perc_missing</th>\n",
              "    </tr>\n",
              "  </thead>\n",
              "  <tbody>\n",
              "    <tr>\n",
              "      <th>PH</th>\n",
              "      <td>16</td>\n",
              "      <td>2.597403</td>\n",
              "    </tr>\n",
              "    <tr>\n",
              "      <th>cahaya</th>\n",
              "      <td>26</td>\n",
              "      <td>4.220779</td>\n",
              "    </tr>\n",
              "    <tr>\n",
              "      <th>intensit_air</th>\n",
              "      <td>0</td>\n",
              "      <td>0.000000</td>\n",
              "    </tr>\n",
              "    <tr>\n",
              "      <th>suhu</th>\n",
              "      <td>27</td>\n",
              "      <td>4.383117</td>\n",
              "    </tr>\n",
              "    <tr>\n",
              "      <th>PPM</th>\n",
              "      <td>5</td>\n",
              "      <td>0.811688</td>\n",
              "    </tr>\n",
              "    <tr>\n",
              "      <th>tinggi_air</th>\n",
              "      <td>0</td>\n",
              "      <td>0.000000</td>\n",
              "    </tr>\n",
              "    <tr>\n",
              "      <th>aksi</th>\n",
              "      <td>0</td>\n",
              "      <td>0.000000</td>\n",
              "    </tr>\n",
              "  </tbody>\n",
              "</table>\n",
              "</div>"
            ],
            "text/plain": [
              "              total_missing  perc_missing\n",
              "PH                       16      2.597403\n",
              "cahaya                   26      4.220779\n",
              "intensit_air              0      0.000000\n",
              "suhu                     27      4.383117\n",
              "PPM                       5      0.811688\n",
              "tinggi_air                0      0.000000\n",
              "aksi                      0      0.000000"
            ]
          },
          "metadata": {},
          "execution_count": 75
        }
      ]
    },
    {
      "cell_type": "markdown",
      "metadata": {
        "id": "GELQ5uyda9Vw"
      },
      "source": [
        "## 4. Detect outliers dan handling (bisa dihapus atau diganti nilainya dengan mean/modus/median)"
      ]
    },
    {
      "cell_type": "code",
      "metadata": {
        "id": "ll-868ipa9Vx",
        "colab": {
          "base_uri": "https://localhost:8080/",
          "height": 297
        },
        "outputId": "00586e1c-ffe4-4291-ee12-85b9318d3737"
      },
      "source": [
        "#Isi Code\n",
        "data.describe()"
      ],
      "execution_count": null,
      "outputs": [
        {
          "output_type": "execute_result",
          "data": {
            "text/html": [
              "<div>\n",
              "<style scoped>\n",
              "    .dataframe tbody tr th:only-of-type {\n",
              "        vertical-align: middle;\n",
              "    }\n",
              "\n",
              "    .dataframe tbody tr th {\n",
              "        vertical-align: top;\n",
              "    }\n",
              "\n",
              "    .dataframe thead th {\n",
              "        text-align: right;\n",
              "    }\n",
              "</style>\n",
              "<table border=\"1\" class=\"dataframe\">\n",
              "  <thead>\n",
              "    <tr style=\"text-align: right;\">\n",
              "      <th></th>\n",
              "      <th>PH</th>\n",
              "      <th>suhu</th>\n",
              "      <th>PPM</th>\n",
              "      <th>tinggi_air</th>\n",
              "    </tr>\n",
              "  </thead>\n",
              "  <tbody>\n",
              "    <tr>\n",
              "      <th>count</th>\n",
              "      <td>600.000000</td>\n",
              "      <td>589.000000</td>\n",
              "      <td>611.000000</td>\n",
              "      <td>616.000000</td>\n",
              "    </tr>\n",
              "    <tr>\n",
              "      <th>mean</th>\n",
              "      <td>6.655167</td>\n",
              "      <td>29.364007</td>\n",
              "      <td>1032.836334</td>\n",
              "      <td>288.173701</td>\n",
              "    </tr>\n",
              "    <tr>\n",
              "      <th>std</th>\n",
              "      <td>3.043234</td>\n",
              "      <td>14.937524</td>\n",
              "      <td>632.614766</td>\n",
              "      <td>622.457710</td>\n",
              "    </tr>\n",
              "    <tr>\n",
              "      <th>min</th>\n",
              "      <td>0.000000</td>\n",
              "      <td>-300.000000</td>\n",
              "      <td>1.000000</td>\n",
              "      <td>0.000000</td>\n",
              "    </tr>\n",
              "    <tr>\n",
              "      <th>25%</th>\n",
              "      <td>5.500000</td>\n",
              "      <td>27.100000</td>\n",
              "      <td>487.500000</td>\n",
              "      <td>50.000000</td>\n",
              "    </tr>\n",
              "    <tr>\n",
              "      <th>50%</th>\n",
              "      <td>6.500000</td>\n",
              "      <td>29.900000</td>\n",
              "      <td>991.000000</td>\n",
              "      <td>230.000000</td>\n",
              "    </tr>\n",
              "    <tr>\n",
              "      <th>75%</th>\n",
              "      <td>7.700000</td>\n",
              "      <td>33.000000</td>\n",
              "      <td>1603.500000</td>\n",
              "      <td>429.500000</td>\n",
              "    </tr>\n",
              "    <tr>\n",
              "      <th>max</th>\n",
              "      <td>14.000000</td>\n",
              "      <td>40.600000</td>\n",
              "      <td>2149.000000</td>\n",
              "      <td>12000.000000</td>\n",
              "    </tr>\n",
              "  </tbody>\n",
              "</table>\n",
              "</div>"
            ],
            "text/plain": [
              "               PH        suhu          PPM    tinggi_air\n",
              "count  600.000000  589.000000   611.000000    616.000000\n",
              "mean     6.655167   29.364007  1032.836334    288.173701\n",
              "std      3.043234   14.937524   632.614766    622.457710\n",
              "min      0.000000 -300.000000     1.000000      0.000000\n",
              "25%      5.500000   27.100000   487.500000     50.000000\n",
              "50%      6.500000   29.900000   991.000000    230.000000\n",
              "75%      7.700000   33.000000  1603.500000    429.500000\n",
              "max     14.000000   40.600000  2149.000000  12000.000000"
            ]
          },
          "metadata": {},
          "execution_count": 76
        }
      ]
    },
    {
      "cell_type": "markdown",
      "metadata": {
        "id": "Z-6_CaMvQJox"
      },
      "source": [
        ""
      ]
    },
    {
      "cell_type": "markdown",
      "metadata": {
        "id": "EFQ0YfYLa9Vy"
      },
      "source": [
        "## 5. Pisahkan data feature dengan label"
      ]
    },
    {
      "cell_type": "code",
      "metadata": {
        "id": "Jjxt06KTa9Vy",
        "colab": {
          "base_uri": "https://localhost:8080/"
        },
        "outputId": "e04d2c5f-e03d-468d-ede7-55a006007917"
      },
      "source": [
        "#Isi Code\n",
        "#Drop rows with missing value   \n",
        "dataset_clean = data.dropna()  \n",
        "print('Ukuran dataset_clean:', dataset_clean.shape) \n"
      ],
      "execution_count": null,
      "outputs": [
        {
          "output_type": "stream",
          "name": "stdout",
          "text": [
            "Ukuran dataset_clean: (551, 7)\n"
          ]
        }
      ]
    },
    {
      "cell_type": "code",
      "metadata": {
        "colab": {
          "base_uri": "https://localhost:8080/"
        },
        "id": "oPev7YtwTHHU",
        "outputId": "e32dd084-5c42-4311-aba2-8fb5fabd75b7"
      },
      "source": [
        "data.isnull().sum()"
      ],
      "execution_count": null,
      "outputs": [
        {
          "output_type": "execute_result",
          "data": {
            "text/plain": [
              "PH              16\n",
              "cahaya          26\n",
              "intensit_air     0\n",
              "suhu            27\n",
              "PPM              5\n",
              "tinggi_air       0\n",
              "aksi             0\n",
              "dtype: int64"
            ]
          },
          "metadata": {},
          "execution_count": 78
        }
      ]
    },
    {
      "cell_type": "code",
      "metadata": {
        "colab": {
          "base_uri": "https://localhost:8080/",
          "height": 204
        },
        "id": "VTnaFj9HTfsG",
        "outputId": "ede37167-03cb-4f2e-a7bc-546fb4fe772b"
      },
      "source": [
        "data.dropna(inplace=True)\n",
        "data.head()"
      ],
      "execution_count": null,
      "outputs": [
        {
          "output_type": "execute_result",
          "data": {
            "text/html": [
              "<div>\n",
              "<style scoped>\n",
              "    .dataframe tbody tr th:only-of-type {\n",
              "        vertical-align: middle;\n",
              "    }\n",
              "\n",
              "    .dataframe tbody tr th {\n",
              "        vertical-align: top;\n",
              "    }\n",
              "\n",
              "    .dataframe thead th {\n",
              "        text-align: right;\n",
              "    }\n",
              "</style>\n",
              "<table border=\"1\" class=\"dataframe\">\n",
              "  <thead>\n",
              "    <tr style=\"text-align: right;\">\n",
              "      <th></th>\n",
              "      <th>PH</th>\n",
              "      <th>cahaya</th>\n",
              "      <th>intensit_air</th>\n",
              "      <th>suhu</th>\n",
              "      <th>PPM</th>\n",
              "      <th>tinggi_air</th>\n",
              "      <th>aksi</th>\n",
              "    </tr>\n",
              "  </thead>\n",
              "  <tbody>\n",
              "    <tr>\n",
              "      <th>0</th>\n",
              "      <td>6.5</td>\n",
              "      <td>Ada</td>\n",
              "      <td>Tinggi</td>\n",
              "      <td>27.0</td>\n",
              "      <td>188.0</td>\n",
              "      <td>622</td>\n",
              "      <td>Hidupkan Lampu dan Pompa nutrisi TDS</td>\n",
              "    </tr>\n",
              "    <tr>\n",
              "      <th>1</th>\n",
              "      <td>5.7</td>\n",
              "      <td>Ada</td>\n",
              "      <td>Tinggi</td>\n",
              "      <td>26.9</td>\n",
              "      <td>79.0</td>\n",
              "      <td>557</td>\n",
              "      <td>Hidupkan Lampu dan Pompa nutrisi TDS</td>\n",
              "    </tr>\n",
              "    <tr>\n",
              "      <th>2</th>\n",
              "      <td>6.0</td>\n",
              "      <td>Ada</td>\n",
              "      <td>Tinggi</td>\n",
              "      <td>27.0</td>\n",
              "      <td>11.0</td>\n",
              "      <td>491</td>\n",
              "      <td>Hidupkan Lampu dan Pompa nutrisi TDS</td>\n",
              "    </tr>\n",
              "    <tr>\n",
              "      <th>3</th>\n",
              "      <td>6.5</td>\n",
              "      <td>Ada</td>\n",
              "      <td>Tinggi</td>\n",
              "      <td>27.1</td>\n",
              "      <td>345.0</td>\n",
              "      <td>12000</td>\n",
              "      <td>Tidak melakukan apa-apa</td>\n",
              "    </tr>\n",
              "    <tr>\n",
              "      <th>17</th>\n",
              "      <td>6.7</td>\n",
              "      <td>Ada</td>\n",
              "      <td>Cukup</td>\n",
              "      <td>26.5</td>\n",
              "      <td>204.0</td>\n",
              "      <td>623</td>\n",
              "      <td>Hidupkan Lampu dan Pompa nutrisi TDS</td>\n",
              "    </tr>\n",
              "  </tbody>\n",
              "</table>\n",
              "</div>"
            ],
            "text/plain": [
              "     PH cahaya  ... tinggi_air                                  aksi\n",
              "0   6.5    Ada  ...        622  Hidupkan Lampu dan Pompa nutrisi TDS\n",
              "1   5.7    Ada  ...        557  Hidupkan Lampu dan Pompa nutrisi TDS\n",
              "2   6.0    Ada  ...        491  Hidupkan Lampu dan Pompa nutrisi TDS\n",
              "3   6.5    Ada  ...      12000               Tidak melakukan apa-apa\n",
              "17  6.7    Ada  ...        623  Hidupkan Lampu dan Pompa nutrisi TDS\n",
              "\n",
              "[5 rows x 7 columns]"
            ]
          },
          "metadata": {},
          "execution_count": 79
        }
      ]
    },
    {
      "cell_type": "code",
      "metadata": {
        "colab": {
          "base_uri": "https://localhost:8080/",
          "height": 204
        },
        "id": "h6_hoKePgcYJ",
        "outputId": "7b4e0a5e-6880-476d-bfaa-c6844b7b0bb3"
      },
      "source": [
        "#Isi Code\n",
        "def getNumber(str):\n",
        "    if str==\"ada\":\n",
        "        return 1\n",
        "    else:\n",
        "        return 2\n",
        "data[\"cahaya\"]=data[\"cahaya\"].apply(getNumber)\n",
        "\n",
        "data.head()"
      ],
      "execution_count": null,
      "outputs": [
        {
          "output_type": "execute_result",
          "data": {
            "text/html": [
              "<div>\n",
              "<style scoped>\n",
              "    .dataframe tbody tr th:only-of-type {\n",
              "        vertical-align: middle;\n",
              "    }\n",
              "\n",
              "    .dataframe tbody tr th {\n",
              "        vertical-align: top;\n",
              "    }\n",
              "\n",
              "    .dataframe thead th {\n",
              "        text-align: right;\n",
              "    }\n",
              "</style>\n",
              "<table border=\"1\" class=\"dataframe\">\n",
              "  <thead>\n",
              "    <tr style=\"text-align: right;\">\n",
              "      <th></th>\n",
              "      <th>PH</th>\n",
              "      <th>cahaya</th>\n",
              "      <th>intensit_air</th>\n",
              "      <th>suhu</th>\n",
              "      <th>PPM</th>\n",
              "      <th>tinggi_air</th>\n",
              "      <th>aksi</th>\n",
              "    </tr>\n",
              "  </thead>\n",
              "  <tbody>\n",
              "    <tr>\n",
              "      <th>0</th>\n",
              "      <td>6.5</td>\n",
              "      <td>2</td>\n",
              "      <td>Tinggi</td>\n",
              "      <td>27.0</td>\n",
              "      <td>188.0</td>\n",
              "      <td>622</td>\n",
              "      <td>Hidupkan Lampu dan Pompa nutrisi TDS</td>\n",
              "    </tr>\n",
              "    <tr>\n",
              "      <th>1</th>\n",
              "      <td>5.7</td>\n",
              "      <td>2</td>\n",
              "      <td>Tinggi</td>\n",
              "      <td>26.9</td>\n",
              "      <td>79.0</td>\n",
              "      <td>557</td>\n",
              "      <td>Hidupkan Lampu dan Pompa nutrisi TDS</td>\n",
              "    </tr>\n",
              "    <tr>\n",
              "      <th>2</th>\n",
              "      <td>6.0</td>\n",
              "      <td>2</td>\n",
              "      <td>Tinggi</td>\n",
              "      <td>27.0</td>\n",
              "      <td>11.0</td>\n",
              "      <td>491</td>\n",
              "      <td>Hidupkan Lampu dan Pompa nutrisi TDS</td>\n",
              "    </tr>\n",
              "    <tr>\n",
              "      <th>3</th>\n",
              "      <td>6.5</td>\n",
              "      <td>2</td>\n",
              "      <td>Tinggi</td>\n",
              "      <td>27.1</td>\n",
              "      <td>345.0</td>\n",
              "      <td>12000</td>\n",
              "      <td>Tidak melakukan apa-apa</td>\n",
              "    </tr>\n",
              "    <tr>\n",
              "      <th>17</th>\n",
              "      <td>6.7</td>\n",
              "      <td>2</td>\n",
              "      <td>Cukup</td>\n",
              "      <td>26.5</td>\n",
              "      <td>204.0</td>\n",
              "      <td>623</td>\n",
              "      <td>Hidupkan Lampu dan Pompa nutrisi TDS</td>\n",
              "    </tr>\n",
              "  </tbody>\n",
              "</table>\n",
              "</div>"
            ],
            "text/plain": [
              "     PH  cahaya  ... tinggi_air                                  aksi\n",
              "0   6.5       2  ...        622  Hidupkan Lampu dan Pompa nutrisi TDS\n",
              "1   5.7       2  ...        557  Hidupkan Lampu dan Pompa nutrisi TDS\n",
              "2   6.0       2  ...        491  Hidupkan Lampu dan Pompa nutrisi TDS\n",
              "3   6.5       2  ...      12000               Tidak melakukan apa-apa\n",
              "17  6.7       2  ...        623  Hidupkan Lampu dan Pompa nutrisi TDS\n",
              "\n",
              "[5 rows x 7 columns]"
            ]
          },
          "metadata": {},
          "execution_count": 80
        }
      ]
    },
    {
      "cell_type": "code",
      "metadata": {
        "colab": {
          "base_uri": "https://localhost:8080/",
          "height": 204
        },
        "id": "avH18JhGglk2",
        "outputId": "9477365d-c7b0-4bd8-a08a-27391e49c0b0"
      },
      "source": [
        "def getNumber(str):\n",
        "    if str==\"Tidak melakukan apa-apa\":\n",
        "        return 1\n",
        "    elif str==\"Hidupkan Lampu\":\n",
        "        return 2\n",
        "    elif str==\"Hidupkan Lampu dan Pompa nutrisi TDS\":\n",
        "        return 3\n",
        "    else:\n",
        "        return 4\n",
        "data[\"aksi\"]=data[\"aksi\"].apply(getNumber)\n",
        "\n",
        "data.head()"
      ],
      "execution_count": null,
      "outputs": [
        {
          "output_type": "execute_result",
          "data": {
            "text/html": [
              "<div>\n",
              "<style scoped>\n",
              "    .dataframe tbody tr th:only-of-type {\n",
              "        vertical-align: middle;\n",
              "    }\n",
              "\n",
              "    .dataframe tbody tr th {\n",
              "        vertical-align: top;\n",
              "    }\n",
              "\n",
              "    .dataframe thead th {\n",
              "        text-align: right;\n",
              "    }\n",
              "</style>\n",
              "<table border=\"1\" class=\"dataframe\">\n",
              "  <thead>\n",
              "    <tr style=\"text-align: right;\">\n",
              "      <th></th>\n",
              "      <th>PH</th>\n",
              "      <th>cahaya</th>\n",
              "      <th>intensit_air</th>\n",
              "      <th>suhu</th>\n",
              "      <th>PPM</th>\n",
              "      <th>tinggi_air</th>\n",
              "      <th>aksi</th>\n",
              "    </tr>\n",
              "  </thead>\n",
              "  <tbody>\n",
              "    <tr>\n",
              "      <th>0</th>\n",
              "      <td>6.5</td>\n",
              "      <td>2</td>\n",
              "      <td>Tinggi</td>\n",
              "      <td>27.0</td>\n",
              "      <td>188.0</td>\n",
              "      <td>622</td>\n",
              "      <td>3</td>\n",
              "    </tr>\n",
              "    <tr>\n",
              "      <th>1</th>\n",
              "      <td>5.7</td>\n",
              "      <td>2</td>\n",
              "      <td>Tinggi</td>\n",
              "      <td>26.9</td>\n",
              "      <td>79.0</td>\n",
              "      <td>557</td>\n",
              "      <td>3</td>\n",
              "    </tr>\n",
              "    <tr>\n",
              "      <th>2</th>\n",
              "      <td>6.0</td>\n",
              "      <td>2</td>\n",
              "      <td>Tinggi</td>\n",
              "      <td>27.0</td>\n",
              "      <td>11.0</td>\n",
              "      <td>491</td>\n",
              "      <td>3</td>\n",
              "    </tr>\n",
              "    <tr>\n",
              "      <th>3</th>\n",
              "      <td>6.5</td>\n",
              "      <td>2</td>\n",
              "      <td>Tinggi</td>\n",
              "      <td>27.1</td>\n",
              "      <td>345.0</td>\n",
              "      <td>12000</td>\n",
              "      <td>1</td>\n",
              "    </tr>\n",
              "    <tr>\n",
              "      <th>17</th>\n",
              "      <td>6.7</td>\n",
              "      <td>2</td>\n",
              "      <td>Cukup</td>\n",
              "      <td>26.5</td>\n",
              "      <td>204.0</td>\n",
              "      <td>623</td>\n",
              "      <td>3</td>\n",
              "    </tr>\n",
              "  </tbody>\n",
              "</table>\n",
              "</div>"
            ],
            "text/plain": [
              "     PH  cahaya intensit_air  suhu    PPM  tinggi_air  aksi\n",
              "0   6.5       2       Tinggi  27.0  188.0         622     3\n",
              "1   5.7       2       Tinggi  26.9   79.0         557     3\n",
              "2   6.0       2       Tinggi  27.0   11.0         491     3\n",
              "3   6.5       2       Tinggi  27.1  345.0       12000     1\n",
              "17  6.7       2        Cukup  26.5  204.0         623     3"
            ]
          },
          "metadata": {},
          "execution_count": 81
        }
      ]
    },
    {
      "cell_type": "code",
      "metadata": {
        "colab": {
          "base_uri": "https://localhost:8080/",
          "height": 204
        },
        "id": "nsMWc9aZjRJh",
        "outputId": "b2e41e60-e08f-48f0-8bb4-9614365c0aa2"
      },
      "source": [
        "def getNumber(str):\n",
        "    if str==\"Rendah sekali\":\n",
        "        return 1\n",
        "    elif str=='tinggi':\n",
        "        return 2\n",
        "    elif str=='cukup':\n",
        "        return 3\n",
        "    else:\n",
        "        return 4\n",
        "data[\"intensit_air\"]=data[\"intensit_air\"].apply(getNumber)\n",
        "\n",
        "data.head()"
      ],
      "execution_count": null,
      "outputs": [
        {
          "output_type": "execute_result",
          "data": {
            "text/html": [
              "<div>\n",
              "<style scoped>\n",
              "    .dataframe tbody tr th:only-of-type {\n",
              "        vertical-align: middle;\n",
              "    }\n",
              "\n",
              "    .dataframe tbody tr th {\n",
              "        vertical-align: top;\n",
              "    }\n",
              "\n",
              "    .dataframe thead th {\n",
              "        text-align: right;\n",
              "    }\n",
              "</style>\n",
              "<table border=\"1\" class=\"dataframe\">\n",
              "  <thead>\n",
              "    <tr style=\"text-align: right;\">\n",
              "      <th></th>\n",
              "      <th>PH</th>\n",
              "      <th>cahaya</th>\n",
              "      <th>intensit_air</th>\n",
              "      <th>suhu</th>\n",
              "      <th>PPM</th>\n",
              "      <th>tinggi_air</th>\n",
              "      <th>aksi</th>\n",
              "    </tr>\n",
              "  </thead>\n",
              "  <tbody>\n",
              "    <tr>\n",
              "      <th>0</th>\n",
              "      <td>6.5</td>\n",
              "      <td>2</td>\n",
              "      <td>4</td>\n",
              "      <td>27.0</td>\n",
              "      <td>188.0</td>\n",
              "      <td>622</td>\n",
              "      <td>3</td>\n",
              "    </tr>\n",
              "    <tr>\n",
              "      <th>1</th>\n",
              "      <td>5.7</td>\n",
              "      <td>2</td>\n",
              "      <td>4</td>\n",
              "      <td>26.9</td>\n",
              "      <td>79.0</td>\n",
              "      <td>557</td>\n",
              "      <td>3</td>\n",
              "    </tr>\n",
              "    <tr>\n",
              "      <th>2</th>\n",
              "      <td>6.0</td>\n",
              "      <td>2</td>\n",
              "      <td>4</td>\n",
              "      <td>27.0</td>\n",
              "      <td>11.0</td>\n",
              "      <td>491</td>\n",
              "      <td>3</td>\n",
              "    </tr>\n",
              "    <tr>\n",
              "      <th>3</th>\n",
              "      <td>6.5</td>\n",
              "      <td>2</td>\n",
              "      <td>4</td>\n",
              "      <td>27.1</td>\n",
              "      <td>345.0</td>\n",
              "      <td>12000</td>\n",
              "      <td>1</td>\n",
              "    </tr>\n",
              "    <tr>\n",
              "      <th>17</th>\n",
              "      <td>6.7</td>\n",
              "      <td>2</td>\n",
              "      <td>4</td>\n",
              "      <td>26.5</td>\n",
              "      <td>204.0</td>\n",
              "      <td>623</td>\n",
              "      <td>3</td>\n",
              "    </tr>\n",
              "  </tbody>\n",
              "</table>\n",
              "</div>"
            ],
            "text/plain": [
              "     PH  cahaya  intensit_air  suhu    PPM  tinggi_air  aksi\n",
              "0   6.5       2             4  27.0  188.0         622     3\n",
              "1   5.7       2             4  26.9   79.0         557     3\n",
              "2   6.0       2             4  27.0   11.0         491     3\n",
              "3   6.5       2             4  27.1  345.0       12000     1\n",
              "17  6.7       2             4  26.5  204.0         623     3"
            ]
          },
          "metadata": {},
          "execution_count": 91
        }
      ]
    },
    {
      "cell_type": "code",
      "metadata": {
        "colab": {
          "base_uri": "https://localhost:8080/"
        },
        "id": "lUTNNRNzT6-1",
        "outputId": "2f52dba7-0ed2-4e5c-f2f3-3b42f4f0d31c"
      },
      "source": [
        "data.isnull().sum()"
      ],
      "execution_count": null,
      "outputs": [
        {
          "output_type": "execute_result",
          "data": {
            "text/plain": [
              "PH              0\n",
              "cahaya          0\n",
              "intensit_air    0\n",
              "suhu            0\n",
              "PPM             0\n",
              "tinggi_air      0\n",
              "aksi            0\n",
              "dtype: int64"
            ]
          },
          "metadata": {},
          "execution_count": 92
        }
      ]
    },
    {
      "cell_type": "code",
      "metadata": {
        "colab": {
          "base_uri": "https://localhost:8080/"
        },
        "id": "cKtaqdMhUOEJ",
        "outputId": "2650060e-dd6a-4455-adab-a104608a41d8"
      },
      "source": [
        "data.columns"
      ],
      "execution_count": null,
      "outputs": [
        {
          "output_type": "execute_result",
          "data": {
            "text/plain": [
              "Index(['PH', 'cahaya', 'intensit_air', 'suhu', 'PPM', 'tinggi_air', 'aksi'], dtype='object')"
            ]
          },
          "metadata": {},
          "execution_count": 97
        }
      ]
    },
    {
      "cell_type": "markdown",
      "metadata": {
        "id": "YCGKwPFra9Vz"
      },
      "source": [
        "## 6. Check Imbalanced Dataset, jika imbalanced, gunakan smote"
      ]
    },
    {
      "cell_type": "code",
      "metadata": {
        "id": "5YI-izdXa9V0"
      },
      "source": [
        "#pip install imbalanced-learn\n"
      ],
      "execution_count": null,
      "outputs": []
    },
    {
      "cell_type": "code",
      "metadata": {
        "id": "DIfkA5_da9V0"
      },
      "source": [
        "#Isi Code\n",
        "X = data.iloc[:,:7].values"
      ],
      "execution_count": null,
      "outputs": []
    },
    {
      "cell_type": "code",
      "metadata": {
        "colab": {
          "base_uri": "https://localhost:8080/"
        },
        "id": "3t2TG9QLaNwu",
        "outputId": "0c7deb01-ede7-4833-cbfd-980c36b9db45"
      },
      "source": [
        "X"
      ],
      "execution_count": null,
      "outputs": [
        {
          "output_type": "execute_result",
          "data": {
            "text/plain": [
              "array([[6.500e+00, 2.000e+00, 4.000e+00, ..., 1.880e+02, 6.220e+02,\n",
              "        3.000e+00],\n",
              "       [5.700e+00, 2.000e+00, 4.000e+00, ..., 7.900e+01, 5.570e+02,\n",
              "        3.000e+00],\n",
              "       [6.000e+00, 2.000e+00, 4.000e+00, ..., 1.100e+01, 4.910e+02,\n",
              "        3.000e+00],\n",
              "       ...,\n",
              "       [3.200e+00, 2.000e+00, 1.000e+00, ..., 7.930e+02, 1.900e+01,\n",
              "        2.000e+00],\n",
              "       [1.400e+00, 2.000e+00, 1.000e+00, ..., 1.052e+03, 3.000e+00,\n",
              "        2.000e+00],\n",
              "       [5.000e+00, 2.000e+00, 1.000e+00, ..., 9.770e+02, 1.900e+01,\n",
              "        2.000e+00]])"
            ]
          },
          "metadata": {},
          "execution_count": 100
        }
      ]
    },
    {
      "cell_type": "code",
      "metadata": {
        "id": "q9jeJf15ao3b"
      },
      "source": [
        "Y = data.iloc[:, 3].values"
      ],
      "execution_count": null,
      "outputs": []
    },
    {
      "cell_type": "code",
      "metadata": {
        "colab": {
          "base_uri": "https://localhost:8080/"
        },
        "id": "n9cc6KXaavJu",
        "outputId": "ffb5cfeb-6f3c-43b5-c953-8b7321eea371"
      },
      "source": [
        "Y"
      ],
      "execution_count": null,
      "outputs": [
        {
          "output_type": "execute_result",
          "data": {
            "text/plain": [
              "array([  27. ,   26.9,   27. ,   27.1,   26.5,   26.5,   26.6,   26.6,\n",
              "         26.5,   26.5,   26.5,   26.5,   26.6,   26.9,   26.7,   26.6,\n",
              "         27. ,   26.6,   26.9,   26.8,   27.1,   27. ,   27. ,   27. ,\n",
              "         27. ,   27. ,   27.2,   27.1,   27.8,   27.8,   27.9,   27.8,\n",
              "         27.8,   27.8,   27.7,   27.7,   27.6,   27.7,   27.8,   27.3,\n",
              "         27.3,   27.4,   27.4,   27.3,   27.4,   27.5,   29.5,   30.1,\n",
              "         29.5,   30. ,   30. ,   30. ,   30.1,   30. ,   30.6,   31.2,\n",
              "         32.1,   32.9,   38.1,   39.2,   39.7,   40.6,   35.6,   34.9,\n",
              "         31.9,   32.2,   32.5,   32.9,   33.2,   33.2,   33.7,   25. ,\n",
              "         33.7,   33.6,   33.7, -300. ,   33.7,   33.5,   33.2,   33.2,\n",
              "         33.9,   33.9,   33. ,   32.7, -100. ,   33.4,   33.2,   33.7,\n",
              "         34. ,   35.1,   33.9,   33.9,   34.2,   35.2,   35.2,   34.7,\n",
              "         34.6,   34.1,   34.6,   34.9,   35. ,   35.2,   35.2,   34.6,\n",
              "         34.1,   34.1,   34.2,   34.3,   34.1,   34.4,   34.4,   34.1,\n",
              "         34.1,   34. ,   34.1,   34.1,   34.5,   34.3,   33.9,   34.2,\n",
              "         33.7,   33.7,   33.7,   33.7,   33.4,   33.2,   33.3,   33.2,\n",
              "         33. ,   33. ,   33. ,   32.6,   32.5,   32.5,   32.2,   32.4,\n",
              "         32.4,   31.7,   31.7,   31.8,   32. ,   31.6,   31.6,   31.8,\n",
              "         31.7,   31.7,   31.5,   31.6,   31.7,   31.2,   31.2,   31.2,\n",
              "         31.2,   30.6,   31. ,   30.6,   30.8,   31. ,   31. ,   30.8,\n",
              "         30.9,   30.6,   30.5,   30.5,   30.7,   30.5,   30.5,   30.6,\n",
              "         30.5,   30.5,   30.5,   30.4,   30.5,   30.5,   30.6,   30.5,\n",
              "         30.5,   30.5,   29.1,   29.5,   28.6,   28.8,   28.8,   28.7,\n",
              "         28.7,   28.6,   28.8,   28.7,   28.7,   28.9,   28.1,   28. ,\n",
              "         28.3,   28.2,   27.8,   28.1,   27.8,   27.8,   27.7,   27.8,\n",
              "         27.9,   27.9,   27.6,   27.8,   27.8,   27.8,   26.5,   26.5,\n",
              "         26.7,   26.5,   26.5,   26.5,   26.6,   26.6,   26.5,   26.5,\n",
              "         26.5,   26.5,   26.6,   26.9,   26.7,   26.6,   27. ,   26.6,\n",
              "         26.9,   26.8,   27.1,   27. ,   27. ,   27. ,   27. ,   27. ,\n",
              "         27.2,   27.1,   26.9,   27. ,   27.1,   27.1,   27. ,   26.9,\n",
              "         27. ,   27.1,   26.9,   26.5,   26.6,   27.7,   26.5,   27.5,\n",
              "         27.8,   27.1,   27. ,   26.5,   27.1,   27.8,   27.8,   27.8,\n",
              "         26.9,   27. ,   27.7,   27.8,   26.9,   27.1,   26.7,   27.3,\n",
              "         27.8,   27.5,   27.8,   27.1,   27. ,   27. ,   26.6,   27.4,\n",
              "         27.9,   27.8,   27.8,   27. ,   27.7,   26.7,   27.9,   26.9,\n",
              "         26.5,   27.8,   27.1,   27. ,   27.8,   26.6,   26.6,   27.1,\n",
              "         27.4,   27. ,   27.8,   26.6,   27.6,   27.2,   26.5,   27.8,\n",
              "         27.3,   27.8,   26.5,   27.8,   27.7,   27.6,   27. ,   27. ,\n",
              "         26.9,   26.7,   26.9,   26.9,   26.8,   26.8,   26.3,   26.4,\n",
              "         25.5,   26. ,   27.1,   27.6,   28.1,   27.8,   27.8,   27.9,\n",
              "         27.9,   29.9,   39.2,   39.2,   37.5,   36.4,   36.2,   35.5,\n",
              "         33.2,   33.3,   33.2,   33.9,   34.4,   33.9,   33.9,   33.2,\n",
              "         33.2,   32.6,   33.9,   33.9,   33.9,   33.9,   33.4,   33.9,\n",
              "         34.2,   34.4,   34.4,   33.7,   33.6,   33.5,   33.4,   34. ,\n",
              "         34.6,   34.7,   35. ,   35. ,   35. ,   34.8,   34.6,   34.1,\n",
              "         34. ,   34.2,   34.6,   34.3,   34.1,   34.1,   34.4,   34.2,\n",
              "         34.1,   34.1,   34. ,   34.2,   34.6,   34.5,   34.3,   34. ,\n",
              "         34.1,   34.1,   34.2,   33.9,   33.9,   33.9,   33.8,   33.9,\n",
              "         33.7,   33.7,   33.7,   33.7,   33.6,   33.7,   33.4,   33.2,\n",
              "         33.2,   33.2,   33.1,   33. ,   33. ,   33. ,   32.4,   32.4,\n",
              "         32.4,   32.4,   32.4,   32.3,   32.2,   31.7,   31.8,   31.8,\n",
              "         31.8,   31.8,   32. ,   31.9,   31.8,   31.8,   31.8,   31.8,\n",
              "         31.9,   31.8,   31.8,   31.6,   31.7,   31.6,   31.7,   33.4,\n",
              "         33.3,   33.9,   33.6,   33.6,   33.6,   33.6,   33.6,   32.9,\n",
              "         32.9,   32.6,   32.4,   32.5,   32.5,   32.6,   32.6,   33. ,\n",
              "         32.7,   32.4,   32.4,   31.3,   31.4,   30.9,   31. ,   31. ,\n",
              "         31. ,   31. ,   31.1,   31. ,   30.7,   30.9,   30.7,   30.5,\n",
              "         30.9,   31. ,   31. ,   30.5,   30.5,   29.9,   30. ,   29.9,\n",
              "         30. ,   29.9,   29.9,   29.9,   29.9,   29.8,   30. ,   29.9,\n",
              "         29.7,   29.7,   29.5,   29.8,   30. ,   29.9,   29.8,   29.9,\n",
              "         29.9,   29.6,   29.5,   29.5,   29.5,   29.6,   29.9,   29.5,\n",
              "         29.5,   29.5,   29.5,   29.5,   29.5,   29.5,   29.4,   29.5,\n",
              "         29.5,   28.9,   29. ,   28.6,   28.7,   28.3,   27.9,   28.1,\n",
              "         27.2,   27.1,   27. ,   26.9,   27. ,   27.1,   27.1,   27. ,\n",
              "         26.9,   27. ,   27.1,   26.9,   26.5,   26.6,   26.5,   26.5,\n",
              "         26.5,   26.7,   26.5,   26.5,   26.5,   26.6,   26.6,   26.5,\n",
              "         26.5,   26.5,   26.5,   26.6,   26.9,   26.7,   26.6,   27. ,\n",
              "         26.6,   26.9,   26.8,   25.9,   25.8,   25.8,   25.8,   25.9,\n",
              "         25.9,   25.7,   25.3,   25. ,   25.3,   25.4,   25.3])"
            ]
          },
          "metadata": {},
          "execution_count": 102
        }
      ]
    },
    {
      "cell_type": "code",
      "metadata": {
        "colab": {
          "base_uri": "https://localhost:8080/",
          "height": 559
        },
        "id": "TDE_r1aIij36",
        "outputId": "b8d20356-2689-447b-f7a5-5c1daf44628f"
      },
      "source": [
        "num_cols = ['PH', 'cahaya', 'intensit_air', 'suhu', 'PPM', 'tinggi_air', 'aksi']\n",
        "plt.figure(figsize=(19,9))\n",
        "data[num_cols].boxplot()\n",
        "plt.title(\"Numerical variables in Modcloth dataset\", fontsize=20)\n",
        "plt.show()"
      ],
      "execution_count": null,
      "outputs": [
        {
          "output_type": "display_data",
          "data": {
            "image/png": "[encoded data removed]",
            "text/plain": [
              "<Figure size 1368x648 with 1 Axes>"
            ]
          },
          "metadata": {
            "needs_background": "light"
          }
        }
      ]
    },
    {
      "cell_type": "markdown",
      "metadata": {
        "id": "2gLiWKVza9V1"
      },
      "source": [
        "## 7. Visualisasikan Tiap feature dengan label"
      ]
    },
    {
      "cell_type": "code",
      "metadata": {
        "id": "hJMzN-gMa9V2"
      },
      "source": [
        "#Isi Code"
      ],
      "execution_count": null,
      "outputs": []
    },
    {
      "cell_type": "markdown",
      "metadata": {
        "id": "byMOPkmra9V2"
      },
      "source": [
        "## 8. Lakukan Normalization menggunakan MinMaxScaler atau Standardization menggunakan StandarScaler"
      ]
    },
    {
      "cell_type": "code",
      "metadata": {
        "id": "i0XxulQra9V3"
      },
      "source": [
        "#Isi Kode"
      ],
      "execution_count": null,
      "outputs": []
    },
    {
      "cell_type": "markdown",
      "metadata": {
        "id": "FJpwBxZfa9V3"
      },
      "source": [
        "## 9. Buat model ANN"
      ]
    },
    {
      "cell_type": "code",
      "metadata": {
        "id": "1Zo0ODA8a9V4"
      },
      "source": [
        "#Isi Code"
      ],
      "execution_count": null,
      "outputs": []
    },
    {
      "cell_type": "markdown",
      "metadata": {
        "id": "ZVuY2QdwW6dO"
      },
      "source": [
        "## 10. Build Model KNN"
      ]
    },
    {
      "cell_type": "code",
      "metadata": {
        "id": "Dks_OpdeW9fY"
      },
      "source": [
        ""
      ],
      "execution_count": null,
      "outputs": []
    }
  ]
}