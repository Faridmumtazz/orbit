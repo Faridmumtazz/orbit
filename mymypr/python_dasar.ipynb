{
  "nbformat": 4,
  "nbformat_minor": 0,
  "metadata": {
    "colab": {
      "name": "Activity RB-05.ipynb",
      "provenance": [],
      "collapsed_sections": []
    },
    "kernelspec": {
      "name": "python3",
      "display_name": "Python 3"
    },
    "language_info": {
      "name": "python"
    }
  },
  "cells": [
    {
      "cell_type": "markdown",
      "metadata": {
        "id": "XjxhUHQigX2l"
      },
      "source": [
        "# ***Activity 1***"
      ]
    },
    {
      "cell_type": "markdown",
      "metadata": {
        "id": "-2Xp_OphjZ8D"
      },
      "source": [
        "Ubah gaya penulisan kode program berikut sesuai dengan standar PEP8"
      ]
    },
    {
      "cell_type": "code",
      "metadata": {
        "id": "mxm0KSn4iZKD"
      },
      "source": [
        "# Main Layangan\n",
        "# Requirement:\n",
        "# - Gak Hujan\n",
        "# - Kecepatan Angin 5 - 30 km/s\n",
        "\n",
        "#Clues:\n",
        "# - Naming variable dan function, whitespace, komentar\n",
        "# - Terdapat kode duplikat, coba perbaiki\n",
        "\n",
        "def main_layangan():\n",
        "  hujan = input (\"lagi ujan ga? (y/n)\")\n",
        "  if hujan =='y' or hujan== 'Y':\n",
        "    hujan = True\n",
        "  else:\n",
        "    hujan =False\n",
        "\n",
        "  kecepatan__angin = int( input ('masukkan kecepatan angin'))\n",
        "\n",
        "  if hujan == True:\n",
        "    print('Gak bisa main layangan')\n",
        "    return False\n",
        "  else:\n",
        "    if kecepatan__angin >=5 and kecepatan__angin<= 30:\n",
        "      print( 'Asiik, gass main layangan')\n",
        "      return True\n",
        "    else:\n",
        "      print('Skip, mending main ep ep' )\n",
        "      return False\n",
        "\n",
        "capek = main_layangan()\n",
        "\n",
        "if capek ==True:\n",
        "  print(\"Istirahat\" )\n",
        "else:\n",
        "  print (\"Gass main ep ep\")"
      ],
      "execution_count": null,
      "outputs": []
    },
    {
      "cell_type": "code",
      "metadata": {
        "id": "Hg583TBPMKSk"
      },
      "source": [
        "# Perbaikan Activity 1\n",
        "# Main Layangan\n",
        "# Requirement:\n",
        "# - Gak Hujan\n",
        "# - Kecepatan Angin 5 - 30 km/s\n",
        "\n",
        "# Antara tanda hashtag(#) dan kalimat dipisah dengan satu spasi\n",
        "# Clues:\n",
        "# - Naming variable dan function, whitespace, komentar\n",
        "# - Terdapat kode duplikat, coba perbaiki\n",
        "\n",
        "def main_layangan():\n",
        "    hujan = input (\"lagi ujan ga? (y/n)\")\n",
        "    if hujan=='y' or hujan=='Y': # Jika ada dua statement, beri spasi sebelum dan sesudah pada operator yang memiliki prioritas terkecil. Selain itu tidak perlu spasi\n",
        "        hujan = True\n",
        "    else:\n",
        "        hujan = False # Sebelum dan sesudah operator logika masing - masing diberi satu spasi\n",
        "\n",
        "    kecepatan_angin = int(input('masukkan kecepatan angin')) # Pakai snake_case (hanya satu underscore), tidak ada spasi antar tanda kurung\n",
        "\n",
        "    if hujan == True:\n",
        "        print('Gak bisa main layangan')\n",
        "        return False\n",
        "    else:\n",
        "        if kecepatan_angin>=5 and kecepatan_angin<=30: # Jika ada dua statement, beri spasi sebelum dan sesudah pada operator yang memiliki prioritas terkecil. Selain itu tidak perlu spasi\n",
        "            print('Asiik, gass main layangan') # Tidak ada spasi antar tanda kurung\n",
        "            return True\n",
        "        else:\n",
        "            print('Skip, mending main ep ep')\n",
        "            return False\n",
        "\n",
        "capek = main_layangan()\n",
        "\n",
        "if capek == True: # Sebelum dan sesudah operator logika masing - masing diberi satu spasi\n",
        "    print(\"Istirahat\") # Tidak ada spasi antar tanda kurung\n",
        "else:\n",
        "    print(\"Gass main ep ep\") # Setelah nama fungsi tidak boleh ada spasi"
      ],
      "execution_count": null,
      "outputs": []
    },
    {
      "cell_type": "markdown",
      "metadata": {
        "id": "wyAczSR3i2M4"
      },
      "source": [
        "# ***Activity 2***"
      ]
    },
    {
      "cell_type": "markdown",
      "metadata": {
        "id": "nUjEQJzyilwc"
      },
      "source": [
        "2. Memilih delegasi Tim Sudirman Cup dari Indonesia\n",
        "\n",
        "Berikut adalah data nama pemain bulu tangkis Indonesia beserta medali yang sudah diraih selama 2020 - 2021:"
      ]
    },
    {
      "cell_type": "code",
      "metadata": {
        "id": "T-7f4QrRfvkv"
      },
      "source": [
        "pemain_dan_medali = [[7, \"Ginting\"], [5, \"Jonathan C.\"], [9,\" Hendra\"], [9,\" Ahsan\"], [8, \"Markus\"], [8, \"Kevin\"], [4, \"Gregoria\"], \n",
        "                     [6, \"Praven\"], [6, \"Melati\"], [7, \"Greysia\"], [7, \"Apriani\"], [5, \"Putri\"], [5, \"Rian\"], [5, \"Fajar\"]]"
      ],
      "execution_count": null,
      "outputs": []
    },
    {
      "cell_type": "markdown",
      "metadata": {
        "id": "kFijkjzwgmDu"
      },
      "source": [
        "Buatlah program seleksi pemain bulu tangkis untuk Tim Sudirman dengan menerapkan konsep Clean Code"
      ]
    },
    {
      "cell_type": "code",
      "metadata": {
        "id": "0yflR8FbgtkX"
      },
      "source": [
        "# Buat list baru dengan mengurutkan list diatas berdasarkan medali yang diraih dari yang paling banyak\n",
        "\n",
        "pemain_dan_medali_sorted = pemain_dan_medali.copy()\n",
        "pemain_dan_medali_sorted.sort()\n",
        "print(pemain_dan_medali_sorted)"
      ],
      "execution_count": null,
      "outputs": []
    },
    {
      "cell_type": "code",
      "metadata": {
        "id": "_wWrTDC3gwMX"
      },
      "source": [
        "# Dengan looping, buatlah 2 list terpisah dari pemain dan juga medalinya, namun urutannya harus tetap sama dengan yang diatas\n",
        "pemain_dan_medali_sorted.sort()\n",
        "pemain = []\n",
        "medali = []\n",
        "\n",
        "for x in pemain_dan_medali_sorted:\n",
        "    pemain.append(x[0])\n",
        "    medali.append(x[1])\n",
        "\n",
        "print(pemain)\n",
        "print(medali)"
      ],
      "execution_count": null,
      "outputs": []
    },
    {
      "cell_type": "markdown",
      "metadata": {
        "id": "SEVtgqk8g63O"
      },
      "source": [
        "Misalkan Rio dan Dewi adalah pemain baru dengan perolehan medali : [2, \"Rio\"], [5, \"Dewi\"]. Jika maksimal 1 tim hanya 14 pemain, buatlah fungsi baru yang dapat memeriksa apakah Rio dan Dewi bisa menjadi pemain baru jika dibandingkan perolehan medalinya dengan squad tim saat ini. Output:\n",
        "\n",
        "\"Nama\" layak/tidak layak bergabung Tim Sudirman cup indonesia = \"list pemain yg layak\""
      ]
    },
    {
      "cell_type": "code",
      "metadata": {
        "id": "3E-gRYw7g_lR"
      },
      "source": [
        "# Bikin fungsinya disini\n",
        "pemain_dan_medali_sorted.extend([[2,\"Rio\"], [5, \"Dewi\"]])\n",
        "pemain_dan_medali_sorted.sort()\n",
        "pemain_dan_medali_sorted.reverse()\n",
        "print(pemain_dan_medali_sorted)"
      ],
      "execution_count": null,
      "outputs": []
    },
    {
      "cell_type": "code",
      "metadata": {
        "id": "7aIGZXZXNfaj"
      },
      "source": [
        "def seleksi_tim_sudirman(list_pemain_dan_medali):\n",
        "    for index, (medali, pemain) in enumerate(list_pemain_dan_medali):\n",
        "        if index <= 13:\n",
        "            print(f'{pemain} layak bergabung di Tim Sudirman')\n",
        "        else:\n",
        "            print(f'{pemain} belum layak bergabung di Tim Sudirman')\n",
        "\n",
        "seleksi_tim_sudirman(pemain_dan_medali_sorted)"
      ],
      "execution_count": null,
      "outputs": []
    },
    {
      "cell_type": "markdown",
      "metadata": {
        "id": "3LKr9U5KJtP4"
      },
      "source": [
        ""
      ]
    }
  ]
}