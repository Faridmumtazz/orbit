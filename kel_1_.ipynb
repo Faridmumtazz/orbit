{
  "nbformat": 4,
  "nbformat_minor": 0,
  "metadata": {
    "colab": {
      "name": "kel 1-.ipynb",
      "provenance": []
    },
    "kernelspec": {
      "name": "python3",
      "display_name": "Python 3"
    },
    "language_info": {
      "name": "python"
    }
  },
  "cells": [
    {
      "cell_type": "code",
      "metadata": {
        "colab": {
          "base_uri": "https://localhost:8080/"
        },
        "id": "T3IjyqTNimMC",
        "outputId": "30d087f0-eae0-481a-cdc4-08c595cd8590"
      },
      "source": [
        "!pip install words"
      ],
      "execution_count": 2,
      "outputs": [
        {
          "output_type": "stream",
          "name": "stdout",
          "text": [
            "Requirement already satisfied: words in /usr/local/lib/python3.7/dist-packages (0.0.1)\n"
          ]
        }
      ]
    },
    {
      "cell_type": "code",
      "metadata": {
        "id": "x66dMzRUir3d"
      },
      "source": [
        "# Import Library yang dibutuhkan\n",
        "import requests   # Library untuk melakukan request dari website tertentu\n",
        "from bs4 import BeautifulSoup # Library untuk ekstraksi konten dalam website"
      ],
      "execution_count": 3,
      "outputs": []
    },
    {
      "cell_type": "code",
      "metadata": {
        "colab": {
          "base_uri": "https://localhost:8080/",
          "height": 118
        },
        "id": "PsUHhuUFixOY",
        "outputId": "30488047-3ebc-40c4-cf4d-56f4a47eed5a"
      },
      "source": [
        "result = requests.get(\"https://warstek.com/kertas-stone/\")\n",
        "result.text"
      ],
      "execution_count": 4,
      "outputs": [
        {
          "output_type": "execute_result",
          "data": {
            "application/vnd.google.colaboratory.intrinsic+json": {
              "type": "string"
            },
            "text/plain": [
              "'<!DOCTYPE html>\\n<html lang=\"id-ID\">\\n<head>\\n<script data-ad-client=\"ca-pub-9638064869561472\" async src=\"https://pagead2.googlesyndication.com/pagead/js/adsbygoogle.js\"></script>\\n<meta charset=\"UTF-8\">\\n<meta name=\"viewport\" content=\"width=device-width, initial-scale=1, minimum-scale=1\">\\n<link rel=\"profile\" href=\"http://gmpg.org/xfn/11\">\\n<meta name=\\'robots\\' content=\\'index, follow, max-image-preview:large, max-snippet:-1, max-video-preview:-1\\'/>\\n<link rel=\"preload\" href=\"https://warstek.com/wp-content/plugins/rate-my-post/public/css/fonts/ratemypost.ttf\" type=\"font/ttf\" as=\"font\" crossorigin=\"anonymous\">\\n<title>Kertas Ajaib Racikan Dr. Stone dan Kaitannya Dalam Aplikasi Dunia Nyata - Warung Sains Teknologi</title>\\n<meta name=\"description\" content=\"nalnal ncence uiuianime atatmemmemberikanatatmemmemberikan manmanterhadapnya. ababdisajikan amambentuk asiasiyang t rikrik n ng\"/>\\n<link rel=\"canonical\" href=\"https://warstek.com/kertas-stone/\"/>\\n<meta property=\"og:locale\" content=\"id_ID\"/>\\n<meta property=\"og:type\" content=\"article\"/>\\n<meta property=\"og:title\" content=\"Kertas Ajaib Racikan Dr. Stone dan Kaitannya Dalam Aplikasi Dunia Nyata - Warung Sains Teknologi\"/>\\n<meta property=\"og:description\" content=\"nalnal ncence uiuianime atatmemmemberikanatatmemmemberikan manmanterhadapnya. ababdisajikan amambentuk asiasiyang t rikrik n ng\"/>\\n<meta property=\"og:url\" content=\"https://warstek.com/kertas-stone/\"/>\\n<meta property=\"og:site_name\" content=\"Warung Sains Teknologi\"/>\\n<meta property=\"article:publisher\" content=\"http://fb.com/warstek\"/>\\n<meta property=\"article:published_time\" content=\"2021-09-28T06:42:41+00:00\"/>\\n<meta property=\"article:modified_time\" content=\"2021-09-28T06:42:44+00:00\"/>\\n<meta property=\"og:image\" content=\"https://warstek.com/wp-content/uploads/2021/09/6reNeTx.jpg\"/>\\n<meta property=\"og:image:width\" content=\"1280\"/>\\n<meta property=\"og:image:height\" content=\"720\"/>\\n<meta name=\"twitter:card\" content=\"summary\"/>\\n<meta name=\"twitter:creator\" content=\"@KimiaWarstek\"/>\\n<meta name=\"twitter:site\" content=\"@KimiaWarstek\"/>\\n<meta name=\"twitter:label1\" content=\"Ditulis oleh\"/>\\n<meta name=\"twitter:data1\" content=\"Siti Rahmawati\"/>\\n<meta name=\"twitter:label2\" content=\"Estimasi waktu membaca\"/>\\n<meta name=\"twitter:data2\" content=\"4 menit\"/>\\n<script type=\"application/ld+json\" class=\"yoast-schema-graph\">{\"@context\":\"https://schema.org\",\"@graph\":[{\"@type\":\"WebSite\",\"@id\":\"https://warstek.com/#website\",\"url\":\"https://warstek.com/\",\"name\":\"Warung Sains Teknologi\",\"description\":\"Sains dan Teknologi yang Seru dan Menyenangkan\",\"potentialAction\":[{\"@type\":\"SearchAction\",\"target\":{\"@type\":\"EntryPoint\",\"urlTemplate\":\"https://warstek.com/?s={search_term_string}\"},\"query-input\":\"required name=search_term_string\"}],\"inLanguage\":\"id-ID\"},{\"@type\":\"ImageObject\",\"@id\":\"https://warstek.com/kertas-stone/#primaryimage\",\"inLanguage\":\"id-ID\",\"url\":\"https://warstek.com/wp-content/uploads/2021/09/6reNeTx.jpg\",\"contentUrl\":\"https://warstek.com/wp-content/uploads/2021/09/6reNeTx.jpg\",\"width\":1280,\"height\":720},{\"@type\":\"WebPage\",\"@id\":\"https://warstek.com/kertas-stone/#webpage\",\"url\":\"https://warstek.com/kertas-stone/\",\"name\":\"Kertas Ajaib Racikan Dr. Stone dan Kaitannya Dalam Aplikasi Dunia Nyata - Warung Sains Teknologi\",\"isPartOf\":{\"@id\":\"https://warstek.com/#website\"},\"primaryImageOfPage\":{\"@id\":\"https://warstek.com/kertas-stone/#primaryimage\"},\"datePublished\":\"2021-09-28T06:42:41+00:00\",\"dateModified\":\"2021-09-28T06:42:44+00:00\",\"author\":{\"@id\":\"https://warstek.com/#/schema/person/98e44829a5941bebab55212f695d2a27\"},\"description\":\"nalnal ncence uiuianime atatmemmemberikanatatmemmemberikan manmanterhadapnya. ababdisajikan amambentuk asiasiyang t rikrik n ng\",\"breadcrumb\":{\"@id\":\"https://warstek.com/kertas-stone/#breadcrumb\"},\"inLanguage\":\"id-ID\",\"potentialAction\":[{\"@type\":\"ReadAction\",\"target\":[\"https://warstek.com/kertas-stone/\"]}]},{\"@type\":\"BreadcrumbList\",\"@id\":\"https://warstek.com/kertas-stone/#breadcrumb\",\"itemListElement\":[{\"@type\":\"ListItem\",\"position\":1,\"name\":\"Home\",\"item\":\"https://warstek.com/\"},{\"@type\":\"ListItem\",\"position\":2,\"name\":\"Kertas Ajaib Racikan Dr. Stone dan Kaitannya Dalam Aplikasi Dunia Nyata\"}]},{\"@type\":\"Person\",\"@id\":\"https://warstek.com/#/schema/person/98e44829a5941bebab55212f695d2a27\",\"name\":\"Siti Rahmawati\",\"image\":{\"@type\":\"ImageObject\",\"@id\":\"https://warstek.com/#personlogo\",\"inLanguage\":\"id-ID\",\"url\":\"https://secure.gravatar.com/avatar/4e4b66e754d35da395d40e189e1183a7?s=96&d=retro&r=g\",\"contentUrl\":\"https://secure.gravatar.com/avatar/4e4b66e754d35da395d40e189e1183a7?s=96&d=retro&r=g\",\"caption\":\"Siti Rahmawati\"},\"description\":\"Siti Rahmawati Makhluk biotik yang sedang mencari jawaban teka-teki misteri alam.\",\"url\":\"https://warstek.com/author/sitirahma/\"}]}</script>\\n<link rel=\"alternate\" type=\"application/rss+xml\" title=\"Warung Sains Teknologi &raquo; Feed\" href=\"https://warstek.com/feed/\"/>\\n<link rel=\"alternate\" type=\"application/rss+xml\" title=\"Warung Sains Teknologi &raquo; Umpan Komentar\" href=\"https://warstek.com/comments/feed/\"/>\\n<link rel=\"alternate\" type=\"application/rss+xml\" title=\"Warung Sains Teknologi &raquo; Kertas Ajaib Racikan Dr. Stone dan Kaitannya Dalam Aplikasi Dunia Nyata Umpan Komentar\" href=\"https://warstek.com/kertas-stone/feed/\"/>\\n<link rel=\"stylesheet\" type=\"text/css\" href=\"//warstek.com/wp-content/cache/wpfc-minified/e4buso0a/dx2m4.css\" media=\"all\"/>\\n<style id=\\'wp-block-library-inline-css\\'>.has-text-align-justify{text-align:justify;}</style>\\n<link rel=\"stylesheet\" type=\"text/css\" href=\"//warstek.com/wp-content/cache/wpfc-minified/lbfp6j25/e4tew.css\" media=\"all\"/>\\n<style id=\\'neve-style-inline-css\\'>.header-menu-sidebar-inner li.menu-item-nav-search{display:none;}\\n.container{max-width:748px;}\\n.has-neve-button-color-color{color:var(--nv-primary-accent)!important;}\\n.has-neve-button-color-background-color{background-color:var(--nv-primary-accent)!important;}\\n.single-post-container .alignfull > [class*=\"__inner-container\"], .single-post-container .alignwide > [class*=\"__inner-container\"]{max-width:718px}\\n.button.button-primary, button, input[type=button], .btn, input[type=\"submit\"], \\nul[id^=\"nv-primary-navigation\"] li.button.button-primary > a, .menu li.button.button-primary > a, .wp-block-button.is-style-primary .wp-block-button__link, .wc-block-grid .wp-block-button .wp-block-button__link, form input[type=\"submit\"], form button[type=\"submit\"], #comments input[type=\"submit\"]{background-color:var(--nv-primary-accent);color:#ffffff;border-radius:3px;border:none;border-width:1px 1px 1px 1px;}\\n.button.button-primary:hover, ul[id^=\"nv-primary-navigation\"] li.button.button-primary > a:hover, .menu li.button.button-primary > a:hover, .wp-block-button.is-style-primary .wp-block-button__link:hover, .wc-block-grid .wp-block-button .wp-block-button__link:hover, form input[type=\"submit\"]:hover, form button[type=\"submit\"]:hover, #comments input[type=\"submit\"]:hover{background-color:var(--nv-primary-accent);color:#ffffff;}\\n.button.button-secondary:not(.secondary-default), .wp-block-button.is-style-secondary .wp-block-button__link{background-color:rgba(0,0,0,0);color:var(--nv-text-color);border-radius:3px;border:1px solid;border-width:1px 1px 1px 1px;}\\n.button.button-secondary.secondary-default{background-color:rgba(0,0,0,0);color:var(--nv-text-color);border-radius:3px;border:1px solid;border-width:1px 1px 1px 1px;}\\n.button.button-secondary:not(.secondary-default):hover, .wp-block-button.is-style-secondary .wp-block-button__link:hover{background-color:rgba(0,0,0,0);color:var(--nv-text-color);}\\n.button.button-secondary.secondary-default:hover{background-color:rgba(0,0,0,0);color:var(--nv-text-color);}\\nbody, .site-title{font-size:16px;}\\nform:not([role=\"search\"]):not(.woocommerce-cart-form):not(.woocommerce-ordering):not(.cart) input:read-write:not(#coupon_code), form textarea, form select, .widget select{margin-bottom:10px;}\\nform input:read-write, form textarea, form select, form select option, form.wp-block-search input.wp-block-search__input, .widget select{color:var(--nv-text-color);}\\nform label, .wpforms-container .wpforms-field-label{margin-bottom:10px;}\\nform.search-form input:read-write{padding-right:45px !important;}\\n.header-main-inner,.header-main-inner a:not(.button),.header-main-inner .navbar-toggle{color:var(--nv-text-color);}\\n.header-main-inner .nv-icon svg,.header-main-inner .nv-contact-list svg{fill:var(--nv-text-color);}\\n.header-main-inner .icon-bar{background-color:var(--nv-text-color);}\\n.hfg_header .header-main-inner .nav-ul .sub-menu{background-color:#ffffff;}\\n.hfg_header .header-main-inner{background-color:#ffffff;}\\n.header-bottom-inner,.header-bottom-inner a:not(.button),.header-bottom-inner .navbar-toggle{color:var(--nv-text-dark-bg);}\\n.header-bottom-inner .nv-icon svg,.header-bottom-inner .nv-contact-list svg{fill:var(--nv-text-dark-bg);}\\n.header-bottom-inner .icon-bar{background-color:var(--nv-text-dark-bg);}\\n.hfg_header .header-bottom-inner .nav-ul .sub-menu{background-color:#fba912;}\\n.hfg_header .header-bottom-inner{background-color:#fba912;}\\n.header-menu-sidebar .header-menu-sidebar-bg,.header-menu-sidebar .header-menu-sidebar-bg a:not(.button),.header-menu-sidebar .header-menu-sidebar-bg .navbar-toggle{color:var(--nv-text-color);}\\n.header-menu-sidebar .header-menu-sidebar-bg .nv-icon svg,.header-menu-sidebar .header-menu-sidebar-bg .nv-contact-list svg{fill:var(--nv-text-color);}\\n.header-menu-sidebar .header-menu-sidebar-bg .icon-bar{background-color:var(--nv-text-color);}\\n.hfg_header .header-menu-sidebar .header-menu-sidebar-bg .nav-ul .sub-menu{background-color:#ffffff;}\\n.hfg_header .header-menu-sidebar .header-menu-sidebar-bg{background-color:#ffffff;}\\n.header-menu-sidebar{width:360px;}\\n.builder-item--logo .site-logo img{max-width:120px;}\\n.builder-item--logo .site-logo{padding:10px 0px 10px 0px;}\\n.builder-item--logo{margin:0px 0px 0px 0px;}\\n.builder-item--nav-icon .navbar-toggle{padding:10px 15px 10px 15px;}\\n.builder-item--nav-icon{margin:0px 0px 0px 0px;}\\n.builder-item--primary-menu .nav-menu-primary > .nav-ul li:not(.woocommerce-mini-cart-item) > a,.builder-item--primary-menu .nav-menu-primary > .nav-ul .has-caret > a,.builder-item--primary-menu .nav-menu-primary > .nav-ul .neve-mm-heading span,.builder-item--primary-menu .nav-menu-primary > .nav-ul .has-caret{color:var(--nv-text-color);}\\n.builder-item--primary-menu .nav-menu-primary > .nav-ul li:not(.woocommerce-mini-cart-item) > a:after,.builder-item--primary-menu .nav-menu-primary > .nav-ul li > .has-caret > a:after{background-color:var(--nv-secondary-accent);}\\n.builder-item--primary-menu .nav-menu-primary > .nav-ul li:not(.woocommerce-mini-cart-item):hover > a,.builder-item--primary-menu .nav-menu-primary > .nav-ul li:hover > .has-caret > a,.builder-item--primary-menu .nav-menu-primary > .nav-ul li:hover > .has-caret{color:var(--nv-secondary-accent);}\\n.builder-item--primary-menu .nav-menu-primary > .nav-ul li:hover > .has-caret svg{fill:var(--nv-secondary-accent);}\\n.builder-item--primary-menu .nav-menu-primary > .nav-ul li.current-menu-item > a,.builder-item--primary-menu .nav-menu-primary > .nav-ul li.current_page_item > a,.builder-item--primary-menu .nav-menu-primary > .nav-ul li.current_page_item > .has-caret > a{color:var(--nv-primary-accent);}\\n.builder-item--primary-menu .nav-menu-primary > .nav-ul li.current-menu-item > .has-caret svg{fill:var(--nv-primary-accent);}\\n.builder-item--primary-menu .nav-ul > li:not(:last-of-type){margin-right:20px;}\\n.builder-item--primary-menu .style-full-height .nav-ul li:not(.menu-item-nav-search):not(.menu-item-nav-cart):hover > a:after{width:calc(100% + 20px);}\\n.builder-item--primary-menu .nav-ul li a, .builder-item--primary-menu .neve-mm-heading span{min-height:25px;}\\n.builder-item--primary-menu{font-size:1em;line-height:1.6em;letter-spacing:0px;font-weight:500;text-transform:none;padding:0px 0px 0px 0px;margin:0px 0px 0px 0px;}\\n.builder-item--primary-menu svg{width:1em;height:1em;}\\n.builder-item--custom_html .nv-html-content{font-size:1em;line-height:1.6em;letter-spacing:0px;font-weight:900;text-transform:none;}\\n.builder-item--custom_html .nv-html-content svg{width:1em;height:1em;}\\n.builder-item--custom_html{padding:0px 0px 0px 0px;margin:0px 0px 0px 0px;}\\n.footer-top-inner{background-color:#ffffff;}\\n.footer-top-inner,.footer-top-inner a:not(.button),.footer-top-inner .navbar-toggle{color:var(--nv-text-color);}\\n.footer-top-inner .nv-icon svg,.footer-top-inner .nv-contact-list svg{fill:var(--nv-text-color);}\\n.footer-top-inner .icon-bar{background-color:var(--nv-text-color);}\\n.footer-top-inner .nav-ul .sub-menu{background-color:#ffffff;}\\n.footer-bottom-inner{background-color:#24292e;}\\n.footer-bottom-inner,.footer-bottom-inner a:not(.button),.footer-bottom-inner .navbar-toggle{color:#ffffff;}\\n.footer-bottom-inner .nv-icon svg,.footer-bottom-inner .nv-contact-list svg{fill:#ffffff;}\\n.footer-bottom-inner .icon-bar{background-color:#ffffff;}\\n.footer-bottom-inner .nav-ul .sub-menu{background-color:#24292e;}\\n.builder-item--footer-one-widgets{padding:0px 0px 0px 0px;margin:0px 0px 0px 0px;}\\n.builder-item--footer-two-widgets{padding:0px 0px 0px 0px;margin:0px 0px 0px 0px;}\\n.builder-item--footer_copyright{font-size:1em;line-height:1.6em;letter-spacing:0px;font-weight:500;text-transform:none;padding:0px 0px 0px 0px;margin:0px 0px 0px 0px;}\\n.builder-item--footer_copyright svg{width:1em;height:1em;}\\n@media(min-width:576px){ .container{max-width:992px;}\\n.single-post-container .alignfull > [class*=\"__inner-container\"], .single-post-container .alignwide > [class*=\"__inner-container\"]{max-width:962px}\\nbody, .site-title{font-size:16px;}\\n.header-menu-sidebar{width:360px;}\\n.builder-item--logo .site-logo img{max-width:120px;}\\n.builder-item--logo .site-logo{padding:10px 0px 10px 0px;}\\n.builder-item--logo{margin:0px 0px 0px 0px;}\\n.builder-item--nav-icon .navbar-toggle{padding:10px 15px 10px 15px;}\\n.builder-item--nav-icon{margin:0px 0px 0px 0px;}\\n.builder-item--primary-menu .nav-ul > li:not(:last-of-type){margin-right:20px;}\\n.builder-item--primary-menu .style-full-height .nav-ul li:not(.menu-item-nav-search):not(.menu-item-nav-cart):hover > a:after{width:calc(100% + 20px);}\\n.builder-item--primary-menu .nav-ul li a, .builder-item--primary-menu .neve-mm-heading span{min-height:25px;}\\n.builder-item--primary-menu{font-size:1em;line-height:1.6em;letter-spacing:0px;padding:0px 0px 0px 0px;margin:0px 0px 0px 0px;}\\n.builder-item--primary-menu svg{width:1em;height:1em;}\\n.builder-item--custom_html .nv-html-content{font-size:1em;line-height:1.6em;letter-spacing:0px;}\\n.builder-item--custom_html .nv-html-content svg{width:1em;height:1em;}\\n.builder-item--custom_html{padding:0px 0px 0px 0px;margin:0px 0px 0px 0px;}\\n.builder-item--footer-one-widgets{padding:0px 0px 0px 0px;margin:0px 0px 0px 0px;}\\n.builder-item--footer-two-widgets{padding:0px 0px 0px 0px;margin:0px 0px 0px 0px;}\\n.builder-item--footer_copyright{font-size:1em;line-height:1.6em;letter-spacing:0px;padding:0px 0px 0px 0px;margin:0px 0px 0px 0px;}\\n.builder-item--footer_copyright svg{width:1em;height:1em;}\\n}@media(min-width:960px){ .container{max-width:1170px;}\\n.neve-main > .archive-container .nv-index-posts.col{max-width:75%;}\\n.neve-main > .archive-container .nv-sidebar-wrap{max-width:25%;}\\n.neve-main > .single-post-container .nv-single-post-wrap.col{max-width:70%;}\\n.single-post-container .alignfull > [class*=\"__inner-container\"], .single-post-container .alignwide > [class*=\"__inner-container\"]{max-width:789px}\\n.container-fluid.single-post-container .alignfull > [class*=\"__inner-container\"], .container-fluid.single-post-container .alignwide > [class*=\"__inner-container\"]{max-width:calc(70% + 15px)}\\n.neve-main > .single-post-container .nv-sidebar-wrap{max-width:30%;}\\nbody, .site-title{font-size:15px;}\\n.header-menu-sidebar{width:360px;}\\n.builder-item--logo .site-logo img{max-width:210px;}\\n.builder-item--logo .site-logo{padding:10px 0px 10px 0px;}\\n.builder-item--logo{margin:0px 0px 0px 0px;}\\n.builder-item--nav-icon .navbar-toggle{padding:10px 15px 10px 15px;}\\n.builder-item--nav-icon{margin:0px 0px 0px 0px;}\\n.builder-item--primary-menu .nav-ul > li:not(:last-of-type){margin-right:20px;}\\n.builder-item--primary-menu .style-full-height .nav-ul li:not(.menu-item-nav-search):not(.menu-item-nav-cart) > a:after{left:-10px;right:-10px}\\n.builder-item--primary-menu .style-full-height .nav-ul li:not(.menu-item-nav-search):not(.menu-item-nav-cart):hover > a:after{width:calc(100% + 20px);}\\n.builder-item--primary-menu .nav-ul li a, .builder-item--primary-menu .neve-mm-heading span{min-height:25px;}\\n.builder-item--primary-menu{font-size:1em;line-height:1.6em;letter-spacing:0px;padding:0px 0px 0px 0px;margin:0px 0px 0px 0px;}\\n.builder-item--primary-menu svg{width:1em;height:1em;}\\n.builder-item--custom_html .nv-html-content{font-size:1.7em;line-height:1.6em;letter-spacing:0px;}\\n.builder-item--custom_html .nv-html-content svg{width:1.7em;height:1.7em;}\\n.builder-item--custom_html{padding:0px 0px 0px 0px;margin:0px 0px 0px 0px;}\\n.builder-item--footer-one-widgets{padding:0px 0px 0px 0px;margin:0px 0px 0px 0px;}\\n.builder-item--footer-two-widgets{padding:0px 0px 0px 0px;margin:0px 0px 0px 0px;}\\n.builder-item--footer_copyright{font-size:1em;line-height:1.6em;letter-spacing:0px;padding:0px 0px 0px 0px;margin:0px 0px 0px 0px;}\\n.builder-item--footer_copyright svg{width:1em;height:1em;}\\n}.nv-content-wrap .elementor a:not(.button):not(.wp-block-file__button){text-decoration:none;}:root{--nv-primary-accent:#ffa500;--nv-secondary-accent:#ffa500;--nv-site-bg:#ffffff;--nv-light-bg:#ededed;--nv-dark-bg:#14171c;--nv-text-color:#393939;--nv-text-dark-bg:#ffffff;--nv-c-1:#77b978;--nv-c-2:#f37262;--nv-fallback-ff:Arial, Helvetica, sans-serif;}:root{--e-global-color-nvprimaryaccent:#ffa500;--e-global-color-nvsecondaryaccent:#ffa500;--e-global-color-nvsitebg:#;--e-global-color-nvlightbg:#ededed;--e-global-color-nvdarkbg:#14171c;--e-global-color-nvtextcolor:#393939;--e-global-color-nvtextdarkbg:#ffffff;--e-global-color-nvc1:#77b978;--e-global-color-nvc2:#f37262;}</style>\\n<link rel=\"stylesheet\" type=\"text/css\" href=\"//warstek.com/wp-content/cache/wpfc-minified/1e3worhh/dx2m4.css\" media=\"all\"/>\\n<style id=\\'quads-styles-inline-css\\'>.quads-location ins.adsbygoogle{background:transparent !important;}\\n.quads-ad-label{font-size:12px;text-align:center;color:#333;}</style>\\n<link rel=\"https://api.w.org/\" href=\"https://warstek.com/wp-json/\"/><link rel=\"alternate\" type=\"application/json\" href=\"https://warstek.com/wp-json/wp/v2/posts/53021\"/><link rel=\"EditURI\" type=\"application/rsd+xml\" title=\"RSD\" href=\"https://warstek.com/xmlrpc.php?rsd\"/>\\n<link rel=\"wlwmanifest\" type=\"application/wlwmanifest+xml\" href=\"https://warstek.com/wp-includes/wlwmanifest.xml\"/> \\n<meta name=\"generator\" content=\"WordPress 5.8.1\"/>\\n<link rel=\\'shortlink\\' href=\\'https://warstek.com/?p=53021\\'/>\\n<link rel=\"alternate\" type=\"application/json+oembed\" href=\"https://warstek.com/wp-json/oembed/1.0/embed?url=https%3A%2F%2Fwarstek.com%2Fkertas-stone%2F\"/>\\n<link rel=\"alternate\" type=\"text/xml+oembed\" href=\"https://warstek.com/wp-json/oembed/1.0/embed?url=https%3A%2F%2Fwarstek.com%2Fkertas-stone%2F&#038;format=xml\"/>\\n<style>.abh_tab_content .abh_text .abh_name,section.abh_tab{padding:0!important;margin:0!important}.abh_box,.abh_tabs{width:100%!important}.abh_box{clear:both!important;position:relative!important;padding:25px 0!important}.abh_tabs{list-style:none!important;padding:5px 0 1px!important;margin:0!important;font:13px arial!important;border-bottom:1px solid #ccc!important}.abh_tab_content .abh_text ul,.abh_tabs li{list-style:none!important;padding:0!important}.abh_tabs li{display:inline!important;margin:0!important}.abh_tabs li:after,.abh_tabs li:before{content:\"\"!important;padding:0!important;margin:0!important}.abh_tab_content .abh_tab,.abh_tabs li i{display:none}.abh_tabs li a,.abh_tabs li a:hover{padding:4px 10px 5px!important;box-shadow:none!important;-webkit-box-shadow:none!important}.abh_tabs li a{background-color:transparent!important;border:0 solid #ccc!important;text-decoration:none!important;border-bottom:none!important;outline:0!important;font-size:100%!important;line-height:23px!important}.abh_tabs li a:hover{background-color:#ddd!important}.abh_tabs li a,.abh_tabs li.abh_active a{color:#333!important}.abh_tabs li.abh_active a,.abh_tabs li.abh_active a:hover{background-color:#eee!important;padding:4px 10px 5px!important;border-bottom:none!important;box-shadow:none!important;-webkit-box-shadow:none!important}.abh_tabs li a.icon_accept:hover{padding-left:24px!important}.abh_tabs_content_container{border:2px solid #ccc!important;border-top:none!important;padding:10px!important;width:400px!important}.abh_tab_content{padding:20px 12px!important;min-height:80px!important;overflow:hidden!important;border-bottom:1px solid #ccc!important}.abh_tab_content .abh_image{display:block;float:left!important;width:80px!important;margin-top:10px!important}.abh_tab_content .abh_image img{max-width:80px!important;height:auto;box-shadow:0 1px 4px rgba(0,0,0,.2)!important;overflow:hidden!important;-webkit-border-radius:50% 50% 50% 50%!important;-moz-border-radius:50% 50% 50% 50%!important;border-radius:50% 50% 50% 50%!important}.abh_tab_content .abh_image a{border:0!important;box-shadow:0 1px 4px rgba(0,0,0,.2)!important;-webkit-box-shadow:none!important}.abh_tab_content .abh_text{margin-left:96px!important;font-size:100%!important;line-height:1.5!important}.abh_tab_content .abh_text .abh_name{font-size:20px!important;clear:none!important;font-weight:700!important;text-align:left!important;line-height:20px!important}.abh_tab_content .abh_text .fn{text-transform:capitalize!important;clear:none!important;font-size:18px!important;line-height:24px!important;margin:0!important;padding:0!important;border:0!important}.abh_tab_content .abh_text a{font-size:100%!important}.abh_tab_content .abh_text .abh_job{line-height:20px!important;font-size:100%!important}.abh_tab_content .abh_text .abh_job span{vertical-align:top!important;font-size:13px!important;background-image:none!important;padding:0!important;margin:0!important}.abh_tab_content .abh_text .abh_description{position:static!important;padding-top:6px!important;font-size:14px!important;width:100%!important}.abh_tab_content .abh_text .abh_allposts{font-size:11px!important;vertical-align:middle!important}.abh_tab_content .abh_text ul{margin:5px 0 0 15px!important}.abh_tab_content .abh_text ul li,.abh_tab_content .abh_text ul li span{font-size:13px!important;line-height:20px!important;margin:0!important}.abh_tab_content .abh_social{display:block;float:right!important;line-height:1px!important;padding:0!important;margin:3px 0 0!important;text-align:right!important}.abh_tab_content .abh_social div{width:140px!important;margin:0 0 0 auto!important}.abh_box .abh_pwb a,.abh_tab_content .abh_social a,.abh_tab_content .abh_text a{text-decoration:none!important;box-shadow:none!important;-webkit-box-shadow:none!important}.abh_tab_content .abh_social a{display:inline-block;background:url(//warstek.com/wp-content/plugins/starbox/themes/business/img/sprite.png) no-repeat!important;width:24px!important;height:24px!important;margin:1px!important;padding:0!important;opacity:.5!important;transition:opacity .2s!important;-moz-transition:opacity .2s!important;-webkit-transition:opacity .2s!important;-o-transition:opacity .2s!important;border-radius:5px!important;-webkit-border-radius:5px!important;-moz-border-radius:5px!important}.abh_tab_content .abh_social a:hover{opacity:1!important}.abh_tab_content .abh_social a.abh_facebook{background-position:0 0!important}.abh_tab_content .abh_social a.abh_flickr{background-position:-24px 0!important}.abh_tab_content .abh_social a.abh_google{background-position:-48px 0!important}.abh_tab_content .abh_social a.abh_instagram{background-position:-72px 0!important}.abh_tab_content .abh_social a.abh_linkedin{background-position:-96px 0!important}.abh_tab_content .abh_social a.abh_pinterest{background-position:-120px 0!important}.abh_tab_content .abh_social a.abh_tumblr{background-position:-144px 0!important}.abh_tab_content .abh_social a.abh_twitter{background-position:-168px 0!important}.abh_tab_content .abh_social a.abh_vimeo{background-position:-192px 0!important}.abh_tab_content .abh_social a.abh_youtube{background-position:-216px 0!important}.abh_box .vcard{background:0 0!important;font-size:100%!important;border:0!important}.abh_box .abh_pwb a{position:absolute!important;font-size:9px!important;color:#999!important;right:0!important;bottom:5px!important}#author-bio-box,#authorarea,#cab-author,#entry-author-info,#post-author,.article-author,.author-bio,.author-box,.author-info,.author-wrap,.autore,.card-profile{display:none}</style>\\n<style>.um_request_name{display:none !important;}</style>\\n<script>!function(e,n){\"function\"==typeof define&&define.amd?define([],n(\"adsenseLoader\")):\"object\"==typeof exports?module.exports=n(\"adsenseLoader\"):e.adsenseLoader=n(\"adsenseLoader\")}(this,function(e){\"use strict\";var n=250,t={laziness:1,onLoad:!1},o=function(e,n){var t,o={};for(t in e)Object.prototype.hasOwnProperty.call(e,t)&&(o[t]=e[t]);for(t in n)Object.prototype.hasOwnProperty.call(n,t)&&(o[t]=n[t]);return o},r=function(e,n){var t,o;return function(){var r=this,a=arguments,i=+new Date;t&&i<t+e?(clearTimeout(o),o=setTimeout(function(){t=i,n.apply(r,a)},e)):(t=i,n.apply(r,a))}},a=[],i=[],s=[],d=function(){if(!a.length)return!0;var e=window.pageYOffset,n=window.innerHeight;a.forEach(function(t){var o,r,d=(o=t,r=o.getBoundingClientRect(),{top:r.top+document.body.scrollTop,left:r.left+document.body.scrollLeft}).top,f=t._adsenseLoaderData.options.laziness+1;if(d-e>n*f||e-d-t.offsetHeight-n*f>0)return!0;a=u(a,t),t._adsenseLoaderData.width=c(t),function(e,n){e.classList?e.classList.add(n):e.className+=\" \"+n}(t.querySelector(\"ins\"),\"adsbygoogle\"),i.push(t),\"undefined\"!=typeof adsbygoogle?function(e){(adsbygoogle=window.adsbygoogle||[]).push({});var n=e._adsenseLoaderData.options.onLoad;\"function\"==typeof n&&e.querySelector(\"iframe\")&&e.querySelector(\"iframe\").addEventListener(\"load\",function(){n(e)})}(t):s.push(t)})},c=function(e){return parseInt(window.getComputedStyle(e,\":before\").getPropertyValue(\"content\").slice(1,-1)||9999)},u=function(e,n){return e.filter(function(e){return e!==n})},f=function(e,n){return e._adsenseLoaderData={originalHTML:e.innerHTML,options:n},e.adsenseLoader=function(n){\"destroy\"==n&&(a=u(a,e),i=u(i,e),s=u(i,e),e.innerHTML=e._adsenseLoaderData.originalHTML)},e};function l(e,n){\"string\"==typeof e?e=document.querySelectorAll(e):void 0===e.length&&(e=[e]),n=o(t,n),[].forEach.call(e,function(e){e=f(e,n),a.push(e)}),this.elements=e,d()}return window.addEventListener(\"scroll\",r(n,d)),window.addEventListener(\"resize\",r(n,d)),window.addEventListener(\"resize\",r(n,function(){if(!i.length)return!0;var e=!1;i.forEach(function(n){n.querySelector(\"ins\").classList.contains(\"adsbygoogle\")||n._adsenseLoaderData.width==c(n)||(e=!0,i=u(i,n),n.innerHTML=n._adsenseLoaderData.originalHTML,a.push(n))}),e&&d()})),l.prototype={destroy:function(){this.elements.forEach(function(e){e.adsenseLoader(\"destroy\")})}},window.adsenseLoaderConfig=function(e){void 0!==e.throttle&&(n=e.throttle)},l});</script>\\n<style>img#wpstats{display:none}</style>\\n<link rel=\"icon\" href=\"https://warstek.com/wp-content/uploads/2018/12/cropped-logo-kecil-32x32.png\" sizes=\"32x32\"/>\\n<link rel=\"icon\" href=\"https://warstek.com/wp-content/uploads/2018/12/cropped-logo-kecil-192x192.png\" sizes=\"192x192\"/>\\n<link rel=\"apple-touch-icon\" href=\"https://warstek.com/wp-content/uploads/2018/12/cropped-logo-kecil-180x180.png\"/>\\n<meta name=\"msapplication-TileImage\" content=\"https://warstek.com/wp-content/uploads/2018/12/cropped-logo-kecil-270x270.png\"/>\\n<style id=\"wp-custom-css\">.entry-date{display:none;}</style>\\n<script data-wpfc-render=\"false\">var Wpfcll={s:[],osl:0,scroll:false,i:function(){Wpfcll.ss();window.addEventListener(\\'load\\',function(){window.addEventListener(\"DOMSubtreeModified\",function(e){Wpfcll.osl=Wpfcll.s.length;Wpfcll.ss();if(Wpfcll.s.length > Wpfcll.osl){Wpfcll.ls(false);}},false);Wpfcll.ls(true);});window.addEventListener(\\'scroll\\',function(){Wpfcll.scroll=true;Wpfcll.ls(false);});window.addEventListener(\\'resize\\',function(){Wpfcll.scroll=true;Wpfcll.ls(false);});window.addEventListener(\\'click\\',function(){Wpfcll.scroll=true;Wpfcll.ls(false);});},c:function(e,pageload){var w=document.documentElement.clientHeight || body.clientHeight;var n=0;if(pageload){n=0;}else{n=(w > 800) ? 800:200;n=Wpfcll.scroll ? 800:n;}var er=e.getBoundingClientRect();var t=0;var p=e.parentNode ? e.parentNode:false;if(typeof p.getBoundingClientRect==\"undefined\"){var pr=false;}else{var pr=p.getBoundingClientRect();}if(er.x==0 && er.y==0){for(var i=0;i < 10;i++){if(p){if(pr.x==0 && pr.y==0){if(p.parentNode){p=p.parentNode;}if(typeof p.getBoundingClientRect==\"undefined\"){pr=false;}else{pr=p.getBoundingClientRect();}}else{t=pr.top;break;}}};}else{t=er.top;}if(w - t+n > 0){return true;}return false;},r:function(e,pageload){var s=this;var oc,ot;try{oc=e.getAttribute(\"data-wpfc-original-src\");ot=e.getAttribute(\"data-wpfc-original-srcset\");originalsizes=e.getAttribute(\"data-wpfc-original-sizes\");if(s.c(e,pageload)){if(oc || ot){if(e.tagName==\"DIV\" || e.tagName==\"A\" || e.tagName==\"SPAN\"){e.style.backgroundImage=\"url(\"+oc+\")\";e.removeAttribute(\"data-wpfc-original-src\");e.removeAttribute(\"data-wpfc-original-srcset\");e.removeAttribute(\"onload\");}else{if(oc){e.setAttribute(\\'src\\',oc);}if(ot){e.setAttribute(\\'srcset\\',ot);}if(originalsizes){e.setAttribute(\\'sizes\\',originalsizes);}if(e.getAttribute(\"alt\") && e.getAttribute(\"alt\")==\"blank\"){e.removeAttribute(\"alt\");}e.removeAttribute(\"data-wpfc-original-src\");e.removeAttribute(\"data-wpfc-original-srcset\");e.removeAttribute(\"data-wpfc-original-sizes\");e.removeAttribute(\"onload\");if(e.tagName==\"IFRAME\"){var y=\"https://www.youtube.com/embed/\";if(navigator.userAgent.match(/\\\\sEdge?\\\\/\\\\d/i)){e.setAttribute(\\'src\\',e.getAttribute(\"src\").replace(/.+\\\\/templates\\\\/youtube\\\\.html\\\\#/,y));}e.onload=function(){if(typeof window.jQuery !=\"undefined\"){if(jQuery.fn.fitVids){jQuery(e).parent().fitVids({customSelector:\"iframe[src]\"});}}var s=e.getAttribute(\"src\").match(/templates\\\\/youtube\\\\.html\\\\#(.+)/);if(s){try{var i=e.contentDocument || e.contentWindow;if(i.location.href==\"about:blank\"){e.setAttribute(\\'src\\',y+s[1]);}}catch(err){e.setAttribute(\\'src\\',y+s[1]);}}}}}}else{if(e.tagName==\"NOSCRIPT\"){if(jQuery(e).attr(\"data-type\")==\"wpfc\"){e.removeAttribute(\"data-type\");jQuery(e).after(jQuery(e).text());}}}}}catch(error){console.log(error);console.log(\"==>\",e);}},ss:function(){var i=Array.prototype.slice.call(document.getElementsByTagName(\"img\"));var f=Array.prototype.slice.call(document.getElementsByTagName(\"iframe\"));var d=Array.prototype.slice.call(document.getElementsByTagName(\"div\"));var a=Array.prototype.slice.call(document.getElementsByTagName(\"a\"));var s=Array.prototype.slice.call(document.getElementsByTagName(\"span\"));var n=Array.prototype.slice.call(document.getElementsByTagName(\"noscript\"));this.s=i.concat(f).concat(d).concat(a).concat(s).concat(n);},ls:function(pageload){var s=this;[].forEach.call(s.s,function(e,index){s.r(e,pageload);});}};document.addEventListener(\\'DOMContentLoaded\\',function(){wpfci();});function wpfci(){Wpfcll.i();}</script>\\n</head>\\n<body class=\"post-template-default single single-post postid-53021 single-format-standard wp-custom-logo nv-sidebar-right menu_sidebar_slide_left elementor-default elementor-kit-47276\" id=\"neve_body\">\\n<div class=\"wrapper\">\\n<header class=\"header\" role=\"banner\">\\n<a class=\"neve-skip-link show-on-focus\" href=\"#content\" tabindex=\"0\">\\nLompat ke konten\\t\\t</a>\\n<div id=\"header-grid\" class=\"hfg_header site-header\">\\n<nav class=\"header--row header-main hide-on-mobile hide-on-tablet layout-full-contained nv-navbar header--row\" data-row-id=\"main\" data-show-on=\"desktop\">\\n<div class=\"header--row-inner header-main-inner\">\\n<div class=\"container\">\\n<div class=\"row row--wrapper\" data-section=\"hfg_header_layout_main\">\\n<div class=\"builder-item hfg-item-first col-4 desktop-left\"><div class=\"item--inner builder-item--logo\" data-section=\"title_tagline\" data-item-id=\"logo\">\\n<div class=\"site-logo\"> <a class=\"brand\" href=\"https://warstek.com/\" title=\"Warung Sains Teknologi\" aria-label=\"Warung Sains Teknologi\"><img width=\"296\" height=\"90\" src=\"https://warstek.com/wp-content/uploads/2017/08/footer-logo-copy-1.png\" class=\"skip-lazy\" alt=\"\" loading=\"lazy\"/></a></div></div></div><div class=\"builder-item has-nav hfg-item-last col-8 desktop-right\"><div class=\"item--inner builder-item--primary-menu has_menu\" data-section=\"header_menu_primary\" data-item-id=\"primary-menu\">\\n<div class=\"nv-nav-wrap\">\\n<div role=\"navigation\" class=\"style-plain nav-menu-primary\" aria-label=\"Menu Utama\">\\n<ul id=\"nv-primary-navigation-main\" class=\"primary-menu-ul nav-ul\"><li id=\"menu-item-32620\" class=\"menu-item menu-item-type-custom menu-item-object-custom menu-item-home menu-item-32620\"><a href=\"https://warstek.com\">Beranda</a></li>\\n<li id=\"menu-item-43746\" class=\"menu-item menu-item-type-custom menu-item-object-custom menu-item-has-children menu-item-43746\"><a href=\"#\"><span class=\"menu-item-title-wrap\">Sains</span><div class=\"caret-wrap 2\" tabindex=\"0\"><span class=\"caret\"><svg xmlns=\"http://www.w3.org/2000/svg\" viewBox=\"0 0 448 512\"><path d=\"M207.029 381.476L12.686 187.132c-9.373-9.373-9.373-24.569 0-33.941l22.667-22.667c9.357-9.357 24.522-9.375 33.901-.04L224 284.505l154.745-154.021c9.379-9.335 24.544-9.317 33.901.04l22.667 22.667c9.373 9.373 9.373 24.569 0 33.941L240.971 381.476c-9.373 9.372-24.569 9.372-33.942 0z\"/></svg></span></div></a>\\n<ul class=\"sub-menu\">\\n<li id=\"menu-item-32644\" class=\"menu-item menu-item-type-taxonomy menu-item-object-category current-post-ancestor current-menu-parent current-post-parent menu-item-32644\"><a href=\"https://warstek.com/category/sains-alam/\">Sains Alam</a></li>\\n<li id=\"menu-item-32645\" class=\"menu-item menu-item-type-taxonomy menu-item-object-category menu-item-32645\"><a href=\"https://warstek.com/category/sains-sosial/\">Sains Sosial</a></li>\\n</ul>\\n</li>\\n<li id=\"menu-item-32646\" class=\"menu-item menu-item-type-taxonomy menu-item-object-category menu-item-32646\"><a href=\"https://warstek.com/category/teknologi/\">Teknologi</a></li>\\n<li id=\"menu-item-44128\" class=\"menu-item menu-item-type-custom menu-item-object-custom menu-item-44128\"><a href=\"https://warstek.com/materi/\">Materi Sekolah</a></li>\\n<li id=\"menu-item-43747\" class=\"menu-item menu-item-type-custom menu-item-object-custom menu-item-43747\"><a href=\"https://warstek.com/dashboard\">Kontributor</a></li>\\n<li id=\"menu-item-32647\" class=\"menu-item menu-item-type-post_type menu-item-object-page menu-item-32647\"><a href=\"https://warstek.com/kontak/\">Kontak</a></li>\\n<li class=\"menu-item-nav-search minimal\" id=\"nv-menu-item-search-1\" tabindex=\"0\" aria-label=\"search\"><a href=\"#\" class=\"nv-nav-search-icon\"><div class=\"nv-icon nv-search\"> <svg width=\"15\" height=\"15\" viewBox=\"0 0 1792 1792\" xmlns=\"http://www.w3.org/2000/svg\"><path d=\"M1216 832q0-185-131.5-316.5t-316.5-131.5-316.5 131.5-131.5 316.5 131.5 316.5 316.5 131.5 316.5-131.5 131.5-316.5zm512 832q0 52-38 90t-90 38q-54 0-90-38l-343-342q-179 124-399 124-143 0-273.5-55.5t-225-150-150-225-55.5-273.5 55.5-273.5 150-225 225-150 273.5-55.5 273.5 55.5 225 150 150 225 55.5 273.5q0 220-124 399l343 343q37 37 37 90z\"/></svg></div></a><div class=\"nv-nav-search\"><form role=\"search\" method=\"get\" class=\"search-form\" action=\"https://warstek.com/\"> <label> <span class=\"screen-reader-text\">Cari untuk:</span> <input type=\"search\" class=\"search-field\" placeholder=\"Cari &hellip;\" value=\"\" name=\"s\" /> </label> <input type=\"submit\" class=\"search-submit\" value=\"Cari\" /> <div class=\"nv-search-icon-wrap\"><div class=\"nv-icon nv-search\"> <svg width=\"15\" height=\"15\" viewBox=\"0 0 1792 1792\" xmlns=\"http://www.w3.org/2000/svg\"><path d=\"M1216 832q0-185-131.5-316.5t-316.5-131.5-316.5 131.5-131.5 316.5 131.5 316.5 316.5 131.5 316.5-131.5 131.5-316.5zm512 832q0 52-38 90t-90 38q-54 0-90-38l-343-342q-179 124-399 124-143 0-273.5-55.5t-225-150-150-225-55.5-273.5 55.5-273.5 150-225 225-150 273.5-55.5 273.5 55.5 225 150 150 225 55.5 273.5q0 220-124 399l343 343q37 37 37 90z\"/></svg></div></div></form></div></li></ul></div></div></div></div></div></div></div></nav>\\n<div class=\"header--row header-bottom hide-on-mobile hide-on-tablet layout-fullwidth header--row\" data-row-id=\"bottom\" data-show-on=\"desktop\">\\n<div class=\"header--row-inner header-bottom-inner\">\\n<div class=\"container\">\\n<div class=\"row row--wrapper\" data-section=\"hfg_header_layout_bottom\">\\n<div class=\"builder-item hfg-item-last hfg-item-first col-12 desktop-center\"><div class=\"item--inner builder-item--custom_html\" data-section=\"custom_html\" data-item-id=\"custom_html\">\\n<div class=\"nv-html-content\"> <p>Sains dan Teknologi yang Seru dan Menyenangkan</p></div></div></div></div></div></div></div><nav class=\"header--row header-main hide-on-desktop layout-full-contained nv-navbar header--row\" data-row-id=\"main\" data-show-on=\"mobile\">\\n<div class=\"header--row-inner header-main-inner\">\\n<div class=\"container\">\\n<div class=\"row row--wrapper\" data-section=\"hfg_header_layout_main\">\\n<div class=\"builder-item hfg-item-first col-8 tablet-left mobile-left\"><div class=\"item--inner builder-item--logo\" data-section=\"title_tagline\" data-item-id=\"logo\">\\n<div class=\"site-logo\"> <a class=\"brand\" href=\"https://warstek.com/\" title=\"Warung Sains Teknologi\" aria-label=\"Warung Sains Teknologi\"><img width=\"296\" height=\"90\" src=\"https://warstek.com/wp-content/uploads/2017/08/footer-logo-copy-1.png\" class=\"skip-lazy\" alt=\"\" loading=\"lazy\"/></a></div></div></div><div class=\"builder-item hfg-item-last col-4 tablet-right mobile-right\"><div class=\"item--inner builder-item--nav-icon\" data-section=\"header_menu_icon\" data-item-id=\"nav-icon\">\\n<div class=\"menu-mobile-toggle item-button navbar-toggle-wrapper\">\\n<button class=\"navbar-toggle\"\\naria-label=\"\\nMenu Navigasi\\t\\t\\t\">\\n<div class=\"bars\"> <span class=\"icon-bar\"></span> <span class=\"icon-bar\"></span> <span class=\"icon-bar\"></span></div><span class=\"screen-reader-text\">Tombol Navigasi</span>\\n</button></div></div></div></div></div></div></nav>\\n<div id=\"header-menu-sidebar\" class=\"header-menu-sidebar menu-sidebar-panel slide_left\">\\n<div id=\"header-menu-sidebar-bg\" class=\"header-menu-sidebar-bg\">\\n<div class=\"close-sidebar-panel navbar-toggle-wrapper\">\\n<button class=\"navbar-toggle active\" \\t\\t\\t\\t\\taria-label=\"\\nMenu Navigasi\\t\\t\\t\\t\">\\n<div class=\"bars\"> <span class=\"icon-bar\"></span> <span class=\"icon-bar\"></span> <span class=\"icon-bar\"></span></div><span class=\"screen-reader-text\">\\nTombol Navigasi\\t\\t\\t\\t\\t</span>\\n</button></div><div id=\"header-menu-sidebar-inner\" class=\"header-menu-sidebar-inner\">\\n<div class=\"builder-item has-nav hfg-item-last hfg-item-first col-12 desktop-right tablet-left mobile-left\"><div class=\"item--inner builder-item--primary-menu has_menu\" data-section=\"header_menu_primary\" data-item-id=\"primary-menu\">\\n<div class=\"nv-nav-wrap\">\\n<div role=\"navigation\" class=\"style-plain nav-menu-primary\" aria-label=\"Menu Utama\">\\n<ul id=\"nv-primary-navigation-sidebar\" class=\"primary-menu-ul nav-ul\"><li class=\"menu-item menu-item-type-custom menu-item-object-custom menu-item-home menu-item-32620\"><a href=\"https://warstek.com\">Beranda</a></li>\\n<li class=\"menu-item menu-item-type-custom menu-item-object-custom menu-item-has-children menu-item-43746\"><a href=\"#\"><span class=\"menu-item-title-wrap\">Sains</span><div class=\"caret-wrap 2\" tabindex=\"0\"><span class=\"caret\"><svg xmlns=\"http://www.w3.org/2000/svg\" viewBox=\"0 0 448 512\"><path d=\"M207.029 381.476L12.686 187.132c-9.373-9.373-9.373-24.569 0-33.941l22.667-22.667c9.357-9.357 24.522-9.375 33.901-.04L224 284.505l154.745-154.021c9.379-9.335 24.544-9.317 33.901.04l22.667 22.667c9.373 9.373 9.373 24.569 0 33.941L240.971 381.476c-9.373 9.372-24.569 9.372-33.942 0z\"/></svg></span></div></a>\\n<ul class=\"sub-menu\">\\n<li class=\"menu-item menu-item-type-taxonomy menu-item-object-category current-post-ancestor current-menu-parent current-post-parent menu-item-32644\"><a href=\"https://warstek.com/category/sains-alam/\">Sains Alam</a></li>\\n<li class=\"menu-item menu-item-type-taxonomy menu-item-object-category menu-item-32645\"><a href=\"https://warstek.com/category/sains-sosial/\">Sains Sosial</a></li>\\n</ul>\\n</li>\\n<li class=\"menu-item menu-item-type-taxonomy menu-item-object-category menu-item-32646\"><a href=\"https://warstek.com/category/teknologi/\">Teknologi</a></li>\\n<li class=\"menu-item menu-item-type-custom menu-item-object-custom menu-item-44128\"><a href=\"https://warstek.com/materi/\">Materi Sekolah</a></li>\\n<li class=\"menu-item menu-item-type-custom menu-item-object-custom menu-item-43747\"><a href=\"https://warstek.com/dashboard\">Kontributor</a></li>\\n<li class=\"menu-item menu-item-type-post_type menu-item-object-page menu-item-32647\"><a href=\"https://warstek.com/kontak/\">Kontak</a></li>\\n<li class=\"menu-item-nav-search minimal\" id=\"nv-menu-item-search-2\" tabindex=\"0\" aria-label=\"search\"><a href=\"#\" class=\"nv-nav-search-icon\"><div class=\"nv-icon nv-search\"> <svg width=\"15\" height=\"15\" viewBox=\"0 0 1792 1792\" xmlns=\"http://www.w3.org/2000/svg\"><path d=\"M1216 832q0-185-131.5-316.5t-316.5-131.5-316.5 131.5-131.5 316.5 131.5 316.5 316.5 131.5 316.5-131.5 131.5-316.5zm512 832q0 52-38 90t-90 38q-54 0-90-38l-343-342q-179 124-399 124-143 0-273.5-55.5t-225-150-150-225-55.5-273.5 55.5-273.5 150-225 225-150 273.5-55.5 273.5 55.5 225 150 150 225 55.5 273.5q0 220-124 399l343 343q37 37 37 90z\"/></svg></div></a><div class=\"nv-nav-search\"><form role=\"search\" method=\"get\" class=\"search-form\" action=\"https://warstek.com/\"> <label> <span class=\"screen-reader-text\">Cari untuk:</span> <input type=\"search\" class=\"search-field\" placeholder=\"Cari &hellip;\" value=\"\" name=\"s\" /> </label> <input type=\"submit\" class=\"search-submit\" value=\"Cari\" /> <div class=\"nv-search-icon-wrap\"><div class=\"nv-icon nv-search\"> <svg width=\"15\" height=\"15\" viewBox=\"0 0 1792 1792\" xmlns=\"http://www.w3.org/2000/svg\"><path d=\"M1216 832q0-185-131.5-316.5t-316.5-131.5-316.5 131.5-131.5 316.5 131.5 316.5 316.5 131.5 316.5-131.5 131.5-316.5zm512 832q0 52-38 90t-90 38q-54 0-90-38l-343-342q-179 124-399 124-143 0-273.5-55.5t-225-150-150-225-55.5-273.5 55.5-273.5 150-225 225-150 273.5-55.5 273.5 55.5 225 150 150 225 55.5 273.5q0 220-124 399l343 343q37 37 37 90z\"/></svg></div></div></form></div></li></ul></div></div></div></div></div></div></div><div class=\"header-menu-sidebar-overlay\"></div></div></header>\\n<main id=\"content\" class=\"neve-main\" role=\"main\">\\n<div class=\"container single-post-container\">\\n<div class=\"row\">\\n<article id=\"post-53021\" class=\"nv-single-post-wrap col post-53021 post type-post status-publish format-standard has-post-thumbnail hentry category-pilihan-editor category-sains-alam tag-anime tag-dr-stone tag-kertas-ajaib tag-komposit tag-perisai-kertas tag-serat-karbon tag-tank\">\\n<div class=\"entry-header\"><div class=\"nv-title-meta-wrap\"><h1 class=\"title entry-title \">Kertas Ajaib Racikan Dr. Stone dan Kaitannya Dalam Aplikasi Dunia Nyata</h1><ul class=\"nv-meta-list\"><li class=\"meta author vcard\"><span class=\"author-name fn\">by <a href=\"https://warstek.com/author/sitirahma/\" title=\"Posts by Siti Rahmawati\" rel=\"author\">Siti Rahmawati</a></span></li><li class=\"meta date posted-on\"><time class=\"entry-date published\" datetime=\"2021-09-28T13:42:41+07:00\" content=\"2021-09-28\">28 September 2021</time><time class=\"updated\" datetime=\"2021-09-28T13:42:44+07:00\">28 September 2021</time></li></ul></div></div><div class=\"nv-thumb-wrap\"><img width=\"930\" height=\"620\" src=\"https://warstek.com/wp-content/uploads/2021/09/6reNeTx-930x620.jpg\" class=\"skip-lazy wp-post-image\" alt=\"\" loading=\"lazy\"/></div><div class=\"nv-content-wrap entry-content\">\\n<div class=\"quads-location quads-ad1\" id=\"quads-ad1\" style=\"float:none;margin:0px 0 0px 0;text-align:center;\">\\n<script async src=\"//pagead2.googlesyndication.com/pagead/js/adsbygoogle.js\"></script>\\n<ins class=\"adsbygoogle\" style=\"display:block; text-align:center;\" data-ad-layout=\"in-article\" data-ad-format=\"fluid\" data-ad-client=\"ca-pub-9638064869561472\" data-ad-slot=\"6075996024\"></ins>\\n<script>(adsbygoogle=window.adsbygoogle||[]).push({});</script></div><p class=\"has-text-align-justify\">Kertas yang kita kenal sehari-hari merupakan suatu  lembaran yang memiliki sifat ringan, lunak, halus, mudah dibentuk, mudah terbakar, dan mudah sobek. Namun, tahukah Anda jika kertas dapat berubah menjadi sesuatu yang kuat bahkan dapat dijadikan sebuah perisai dalam sebuah pertarungan? </p>\\n<p class=\"has-text-align-center\"><img onload=\"Wpfcll.r(this,true);\" src=\"https://warstek.com/wp-content/plugins/wp-fastest-cache-premium/pro/images/blank.gif\" loading=\"lazy\" width=\"800\" height=\"450\" class=\"wp-image-53022\" style=\"width: 600px;\" data-wpfc-original-src=\"https://warstek.com/wp-content/uploads/2021/09/18463637331615185077.webp\" alt=\"blank\" data-wpfc-original-srcset=\"https://warstek.com/wp-content/uploads/2021/09/18463637331615185077.webp 800w, https://warstek.com/wp-content/uploads/2021/09/18463637331615185077-300x169.webp 300w, https://warstek.com/wp-content/uploads/2021/09/18463637331615185077-768x432.webp 768w\" data-wpfc-original-sizes=\"(max-width: 800px) 100vw, 800px\"></p>\\n<p class=\"has-text-align-center\">Gambar 1: Pertarungan Taiju melawan pasukan Tsukasa dengan menggunakan kertas ajaib sebagai perisai (Sumber: duniagames.co.id)</p>\\n<div class=\"quads-location quads-ad3\" id=\"quads-ad3\" style=\"float:none;margin:0px 0 0px 0;text-align:center;\">\\n<script async src=\"//pagead2.googlesyndication.com/pagead/js/adsbygoogle.js\"></script>\\n<ins class=\"adsbygoogle\" style=\"display:block; text-align:center;\" data-ad-layout=\"in-article\" data-ad-format=\"fluid\" data-ad-client=\"ca-pub-9638064869561472\" data-ad-slot=\"6075996024\"></ins>\\n<script>(adsbygoogle=window.adsbygoogle||[]).push({});</script></div><p class=\"has-text-align-justify\">Secara logika, rasanya memang tidak mungkin sebuah lembaran yang lunak dan mudah sobek seperti kertas dapat menjadi sesuatu kuat bak besi atau beton. Namun logika tersebut terbantahkan berdasarkan percobaan yang dilakukan oleh Senku Ishigami (tokoh dalam anime Dr. Stone) yang membuat perisai kertas untuk pelapis kereta uap dengan menggunakan prinsip ilmu kimia dalam proses pembuatannya. </p>\\n<p class=\"has-text-align-justify\">Berawal dari usaha kerajaan sains (yang dipimpin oleh Senku) ingin menyelamatkan Chrome dari pasukan Tsukasa, maka untuk menghindari perlawanan musuh dan menghindari adanya pertumpahan darah, Senku berinisiatif untuk menambah kekuatan alutsistanya yaitu steam gorila (kereta uap) dengan dilapisi perisai yang memiliki kekuatan seperti besi. </p>\\n<p class=\"has-text-align-justify\">Langkah pertama, Senku membuat kertas ajaib tersebut dari rumput dengan proses perebusan. Langkah kedua, Senku menambahkan sodium hidroksida (NaOH) untuk melunakkan rumput tersebut. Langkah ketiga, rumput yang telah direbus dengan NaOH akan menjadi lengket lalu kemudian angkat dan rumput tersebut dibersihkan dengan air bersih. Langkah keempat, Senku menghaluskan rumput dengan cara ditumbuk. Langkah kelima, Senku mengeringkan dan membentuk rumput tersebut seperti kertas dan berfungsi sebagai perisai untuk pasukannya. Langkah terakhir, Senku menambahkan resin alami yang dapat memberikan efek penguat dan pengeras yang sangat baik. </p>\\n<p class=\"has-text-align-center\"><img onload=\"Wpfcll.r(this,true);\" src=\"https://warstek.com/wp-content/plugins/wp-fastest-cache-premium/pro/images/blank.gif\" loading=\"lazy\" width=\"1280\" height=\"720\" class=\"wp-image-53062\" style=\"width: 600px;\" data-wpfc-original-src=\"https://warstek.com/wp-content/uploads/2021/09/6reNeTx.jpg\" alt=\"blank\" data-wpfc-original-srcset=\"https://warstek.com/wp-content/uploads/2021/09/6reNeTx.jpg 1280w, https://warstek.com/wp-content/uploads/2021/09/6reNeTx-300x169.jpg 300w, https://warstek.com/wp-content/uploads/2021/09/6reNeTx-1024x576.jpg 1024w, https://warstek.com/wp-content/uploads/2021/09/6reNeTx-768x432.jpg 768w\" data-wpfc-original-sizes=\"(max-width: 1280px) 100vw, 1280px\"></p>\\n<p class=\"has-text-align-center\">Gambar 2: Senku melapisi kertas ajaibnya dengan resin alami dengan menggunakan lilin lebah cair (Sumber: benigmatica.wordpress.com)</p>\\n<p class=\"has-text-align-justify\">Penggabungan fleksibilitas kertas dan kerasnya sifat plastik yang berasal dari resin akan menciptakan serat karbon. Dan pembuatan kertas ajaib ini dapat dicoba di rumah karena alat dan bahan yang digunakan sangat sederhana dan juga sebagai ajang pembuktian jika Anda masih ragu dalam kekuatan kertas ajaib tersebut. </p>\\n<p class=\"has-text-align-center\"><img onload=\"Wpfcll.r(this,true);\" src=\"https://warstek.com/wp-content/plugins/wp-fastest-cache-premium/pro/images/blank.gif\" loading=\"lazy\" width=\"1280\" height=\"720\" class=\"wp-image-53063\" style=\"width: 600px;\" data-wpfc-original-src=\"https://warstek.com/wp-content/uploads/2021/09/5j0gN7i.jpg\" alt=\"blank\" data-wpfc-original-srcset=\"https://warstek.com/wp-content/uploads/2021/09/5j0gN7i.jpg 1280w, https://warstek.com/wp-content/uploads/2021/09/5j0gN7i-300x169.jpg 300w, https://warstek.com/wp-content/uploads/2021/09/5j0gN7i-1024x576.jpg 1024w, https://warstek.com/wp-content/uploads/2021/09/5j0gN7i-768x432.jpg 768w\" data-wpfc-original-sizes=\"(max-width: 1280px) 100vw, 1280px\"></p>\\n<p class=\"has-text-align-center\">Gambar 3: Kinro teman Senku sedang mengetes kekuatan kertas ajaib yang telah dibuat (benigmatica.wordpress.com)</p>\\n<p class=\"has-text-align-justify\">Hasilnya tombak Kinro yang hancur, sementara kertas ajaibnya hanya penyok saja dan berhasil menjadi perisai dari serangan tombak yang sangat cepat dan keras. </p>\\n<p class=\"has-text-align-center\"><img onload=\"Wpfcll.r(this,true);\" src=\"https://warstek.com/wp-content/plugins/wp-fastest-cache-premium/pro/images/blank.gif\" loading=\"lazy\" width=\"1280\" height=\"720\" class=\"wp-image-53065\" style=\"width: 600px;\" data-wpfc-original-src=\"https://warstek.com/wp-content/uploads/2021/09/Wia1BNW.jpg\" alt=\"blank\" data-wpfc-original-srcset=\"https://warstek.com/wp-content/uploads/2021/09/Wia1BNW.jpg 1280w, https://warstek.com/wp-content/uploads/2021/09/Wia1BNW-300x169.jpg 300w, https://warstek.com/wp-content/uploads/2021/09/Wia1BNW-1024x576.jpg 1024w, https://warstek.com/wp-content/uploads/2021/09/Wia1BNW-768x432.jpg 768w\" data-wpfc-original-sizes=\"(max-width: 1280px) 100vw, 1280px\"></p>\\n<p class=\"has-text-align-center\">Gambar 4: Tombak Kinro hancur setelah menghantam kertas ajaib Senku (Sumber: benigmatica.wordpress.com)</p>\\n<p class=\"has-text-align-justify\">Percobaan Senku ternyata bukan imajinasi belaka. Hakikatnya, konsep kimia (yaitu serat karbon) yang dilakukan Senku sudah diterapkan di dunia otomotif, roket, dan moda transportasi.</p>\\n<p class=\"has-text-align-justify\">Menurut Dinur (2019) menyatakan penggunaan material seperti serat karbon mulai banyak digunakan dalam dunia industri karena memiliki karakteristik yang mampu memenuhi tuntutan teknologi seperti ringan, tahan terhadap temperatur tinggi, dan tahan fatik (rusak). </p>\\n<p class=\"has-text-align-justify\">Selain itu, serat karbon juga memiliki ketahanan terhadap korosi, 70% lebih ringan dari baja dan 40% dari aluminium, dan memperkuat struktur benda yang dilapisi serat tersebut.</p>\\n<p class=\"has-text-align-justify\">Kesimpulannya, dari anime Dr. Stone yang menampilkan percobaan mengenai pembuatan serat karbon dalam bentuk kertas ajaib (digunakan sebagai perisai ketahanan dan penambah kekuatan) memberikan wawasan kepada kita agar bisa memanfaatkan sumber daya yang ada disekitar untuk dijadikan sesuatu yang memiliki nilai guna. Selain itu, juga mengajarkan kita untuk dapat berekreasi dan produktif di manapun dan kapanpun kita berada. </p>\\n<p>Referensi : </p>\\n<div class=\"quads-location quads-ad5\" id=\"quads-ad5\" style=\"float:none;margin:0px 0 0px 0;text-align:center;\">\\n<script async src=\"//pagead2.googlesyndication.com/pagead/js/adsbygoogle.js\"></script>\\n<ins class=\"adsbygoogle\" style=\"display:block; text-align:center;\" data-ad-layout=\"in-article\" data-ad-format=\"fluid\" data-ad-client=\"ca-pub-9638064869561472\" data-ad-slot=\"6075996024\"></ins>\\n<script>(adsbygoogle=window.adsbygoogle||[]).push({});</script></div><ul><li>Dinur, R. (2019). Proses Pembuatan Komposit <em>Sandwich</em> Serat Karbon Menggunakan Metode <em>Vacuum Infusion</em>. Tugas Akhir. Yogyakarta: Universitas Islam Indonesia. </li><li>Hidayah, R. (2021). Nonton Dr. Stone Season 2 Episode 5: Perisai Besi Untuk Kereta Uap. Indonesia. Diakses pada tanggal 23 September 2021 &lt;https://duniagames.co.id/discover/article/nonton-dr-stone-season-2-episode-5&gt; </li><li>Tasuns Composite Technology. (2018). Manfaat Serat Karbon. China. Diakses pada tanggal 23 September 2021 &lt;http://m.id.t-composites.net/info/the-benefits-of-carbon-fiber-31250972.html&gt;</li></ul>\\n<p></p>\\n<div class=\"rmp-widgets-container rmp-wp-plugin rmp-main-container js-rmp-widgets-container js-rmp-widgets-container--53021\" data-post-id=\"53021\">      <div class=\"rmp-rating-widget js-rmp-rating-widget\">          <p class=\"rmp-heading rmp-heading--title\">        Setelah selesai membaca, yuk berikan artikel ini penilaian!      </p>              <p class=\"rmp-heading rmp-heading--subtitle\">        Klik berdasarkan jumlah bintang untuk menilai!      </p>        <div class=\"rmp-rating-widget__icons\"> <ul class=\"rmp-rating-widget__icons-list js-rmp-rating-icons-list\"> <li class=\"rmp-rating-widget__icons-list__icon js-rmp-rating-item\" data-descriptive-rating=\"Artikel Menyesatkan\" data-value=\"1\"> <i class=\"js-rmp-rating-icon rmp-icon rmp-icon--ratings rmp-icon--star rmp-icon--full-highlight\"></i> </li> <li class=\"rmp-rating-widget__icons-list__icon js-rmp-rating-item\" data-descriptive-rating=\"Artikel Kurang Berkualitas\" data-value=\"2\"> <i class=\"js-rmp-rating-icon rmp-icon rmp-icon--ratings rmp-icon--star rmp-icon--full-highlight\"></i> </li> <li class=\"rmp-rating-widget__icons-list__icon js-rmp-rating-item\" data-descriptive-rating=\"Artikel Biasa Saja\" data-value=\"3\"> <i class=\"js-rmp-rating-icon rmp-icon rmp-icon--ratings rmp-icon--star rmp-icon--full-highlight\"></i> </li> <li class=\"rmp-rating-widget__icons-list__icon js-rmp-rating-item\" data-descriptive-rating=\"Artikel Bermanfaat\" data-value=\"4\"> <i class=\"js-rmp-rating-icon rmp-icon rmp-icon--ratings rmp-icon--star rmp-icon--full-highlight\"></i> </li> <li class=\"rmp-rating-widget__icons-list__icon js-rmp-rating-item\" data-descriptive-rating=\"Artikel Sangat Bermanfaat\" data-value=\"5\"> <i class=\"js-rmp-rating-icon rmp-icon rmp-icon--ratings rmp-icon--star\"></i> </li> </ul></div><p class=\"rmp-rating-widget__hover-text js-rmp-hover-text\"></p>    <button class=\"rmp-rating-widget__submit-btn rmp-btn js-submit-rating-btn\">      Berikan penilaian    </button>    <p class=\"rmp-rating-widget__results js-rmp-results\">      Rata-rata nilai <span class=\"rmp-rating-widget__results__rating js-rmp-avg-rating\">4</span> / 5. Banyaknya vote: <span class=\"rmp-rating-widget__results__votes js-rmp-vote-count\">1</span>    </p>    <p class=\"rmp-rating-widget__not-rated js-rmp-not-rated rmp-rating-widget__not-rated--hidden\">      Belum ada yang menilai! Yuk jadi yang pertama kali menilai!    </p>    <p class=\"rmp-rating-widget__msg js-rmp-msg\">\\n</p><div class=\"quads-location quads-ad4\" id=\"quads-ad4\" style=\"float:none;margin:0px 0 0px 0;text-align:center;\">\\nBaca juga:\\n<br>\\n<script async src=\"//pagead2.googlesyndication.com/pagead/js/adsbygoogle.js\"></script>\\n<ins class=\"adsbygoogle\" style=\"display:inline-block;width:100%;height:150px\" data-ad-client=\"ca-pub-9638064869561472\" data-ad-slot=\"5198682179\"></ins>\\n<script>(adsbygoogle=window.adsbygoogle||[]).push({});</script></div></div></div><div class=\"abh_box abh_box_down abh_box_business\"><ul class=\"abh_tabs\"> <li class=\"abh_about abh_active\"><a href=\"#abh_about\">About</a></li> <li class=\"abh_posts\"><a href=\"#abh_posts\">Latest Posts</a></li></ul><div class=\"abh_tab_content\"><section class=\"vcard author abh_about_tab abh_tab\" itemscope itemprop=\"author\" itemtype=\"http://schema.org/Person\" style=\"display:block\"><div class=\"abh_image\" itemscope itemtype=\"http://schema.org/ImageObject\"><a href=\"https://warstek.com/author/sitirahma/\" class=\"url\" title=\"Siti Rahmawati\"> <img onload=\"Wpfcll.r(this,true);\" src=\"https://warstek.com/wp-content/plugins/wp-fastest-cache-premium/pro/images/blank.gif\" data-wpfc-original-src=\"https://warstek.com/wp-content/uploads/gravatar/20210309_184717.jpg\" class=\"photo\" width=\"250\" alt=\"Siti Rahmawati\"></a></div><div class=\"abh_social\"></div><div class=\"abh_text\"><div class=\"abh_name fn name\" itemprop=\"name\"><a href=\"https://warstek.com/author/sitirahma/\" class=\"url\">Siti Rahmawati</a></div><div class=\"abh_job\"></div><div class=\"description note abh_description\" itemprop=\"description\">Siti Rahmawati<br>Makhluk biotik yang sedang mencari jawaban teka-teki misteri alam.</div></div></section><section class=\"abh_posts_tab abh_tab\"><div class=\"abh_image\"><a href=\"https://warstek.com/author/sitirahma/\" class=\"url\" title=\"Siti Rahmawati\"><img onload=\"Wpfcll.r(this,true);\" src=\"https://warstek.com/wp-content/plugins/wp-fastest-cache-premium/pro/images/blank.gif\" data-wpfc-original-src=\"https://warstek.com/wp-content/uploads/gravatar/20210309_184717.jpg\" class=\"photo\" width=\"250\" alt=\"Siti Rahmawati\"></a></div><div class=\"abh_social\"></div><div class=\"abh_text\"><div class=\"abh_name\">Latest posts by Siti Rahmawati <span class=\"abh_allposts\">(<a href=\"https://warstek.com/author/sitirahma/\">see all</a>)</span></div><div class=\"abh_description note\"><ul> <li> <a href=\"https://warstek.com/kertas-stone/\">Kertas Ajaib Racikan Dr. Stone dan Kaitannya Dalam Aplikasi Dunia Nyata</a><span> - 28 September 2021</span> </li> <li> <a href=\"https://warstek.com/polyurea/\">Polyurea: Kandidat Material Pelapis Terbaik di Masa Depan</a><span> - 13 September 2021</span> </li> <li> <a href=\"https://warstek.com/tumbuhan-beracun-alami/\">Mengenal Tumbuhan Beracun Alami</a><span> - 06 Agustus 2021</span> </li></ul></div></div></section></div></div><div class=\"sharedaddy sd-sharing-enabled\"><div class=\"robots-nocontent sd-block sd-social sd-social-icon-text sd-sharing\"><h3 class=\"sd-title\"><span id=\"Bagikan_ini\">Bagikan ini:</span></h3><div class=\"sd-content\"><ul><li class=\"share-print\"><a rel=\"nofollow noopener noreferrer\" data-shared=\"\" class=\"share-print sd-button share-icon\" href=\"https://warstek.com/kertas-stone/#print\" target=\"_blank\" title=\"Klik untuk mencetak\"><span>Cetak</span></a></li><li class=\"share-jetpack-whatsapp\"><a rel=\"nofollow noopener noreferrer\" data-shared=\"\" class=\"share-jetpack-whatsapp sd-button share-icon\" href=\"https://warstek.com/kertas-stone/?share=jetpack-whatsapp\" target=\"_blank\" title=\"Klik untuk berbagi di WhatsApp\"><span>WhatsApp</span></a></li><li class=\"share-facebook\"><a rel=\"nofollow noopener noreferrer\" data-shared=\"sharing-facebook-53021\" class=\"share-facebook sd-button share-icon\" href=\"https://warstek.com/kertas-stone/?share=facebook\" target=\"_blank\" title=\"Klik untuk membagikan di Facebook\"><span>Facebook</span></a></li><li class=\"share-twitter\"><a rel=\"nofollow noopener noreferrer\" data-shared=\"sharing-twitter-53021\" class=\"share-twitter sd-button share-icon\" href=\"https://warstek.com/kertas-stone/?share=twitter\" target=\"_blank\" title=\"Klik untuk berbagi pada Twitter\"><span>Twitter</span></a></li><li class=\"share-telegram\"><a rel=\"nofollow noopener noreferrer\" data-shared=\"\" class=\"share-telegram sd-button share-icon\" href=\"https://warstek.com/kertas-stone/?share=telegram\" target=\"_blank\" title=\"Klik untuk berbagi di Telegram\"><span>Telegram</span></a></li><li class=\"share-end\"></ul></div></div></div><div class=\"quads-location quads-ad2\" id=\"quads-ad2\" style=\"float:none;margin:0px 0 0px 0;text-align:center;\">\\nArtikel Berhubungan:\\n<script async src=\"//pagead2.googlesyndication.com/pagead/js/adsbygoogle.js\"></script>\\n<ins class=\"adsbygoogle\" style=\"display:block\" data-ad-format=\"autorelaxed\" data-ad-client=\"ca-pub-9638064869561472\" data-ad-slot=\"4368873124\"></ins>\\n<script>(adsbygoogle=window.adsbygoogle||[]).push({});</script>\\n<br>\\n<br> <style>div#btm_banner{width:100%;bottom:0;left:0;position:fixed;opacity:0.9;}div#btm_banner img{border:0;cursor:pointer;}</style><div style=\"height: 0px;\"></div><div align=\"center\" id=\"btm_banner\" style=\"height: 100px; z-index: 9999;\"><div style=\"text-align: right; width: 320px; height: 6px;\"></div><div style=\"clear: both;\"></div><p></p><p></p><center>\\n<center><div style=\"position:fixed;bottom:0; width:100%;\"><ins class=\"adsbyadop\" _adop_zon=\"6e6a8d7b-22fe-46c3-896b-2b87c25df83b\" _adop_type=\"rs\" style=\"display:inline-block;width:320px;height:50px;\" _page_url=\"\" _over_size=\"auto\" _over_zone=\\'{\"728x90\":\"68af245d-5c6b-41b8-8d8f-df928265291d\"}\\'></ins></div></center>\\n</center></div><div id=\"ADOP_V_c1RqTHa2x8\" style=\"height:0;\"></div></div></div><div class=\"nv-tags-list\"><span>Tag:</span><a href=https://warstek.com/tag/anime/ title=\"Anime\" class=anime rel=\"tag\">Anime</a><a href=https://warstek.com/tag/dr-stone/ title=\"Dr. Stone\" class=dr-stone rel=\"tag\">Dr. Stone</a><a href=https://warstek.com/tag/kertas-ajaib/ title=\"Kertas Ajaib\" class=kertas-ajaib rel=\"tag\">Kertas Ajaib</a><a href=https://warstek.com/tag/komposit/ title=\"Komposit\" class=komposit rel=\"tag\">Komposit</a><a href=https://warstek.com/tag/perisai-kertas/ title=\"Perisai kertas\" class=perisai-kertas rel=\"tag\">Perisai kertas</a><a href=https://warstek.com/tag/serat-karbon/ title=\"Serat karbon\" class=serat-karbon rel=\"tag\">Serat karbon</a><a href=https://warstek.com/tag/tank/ title=\"Tank\" class=tank rel=\"tag\">Tank</a></div><div id=\"comments\" class=\"comments-area\">\\n<div id=\"respond\" class=\"comment-respond\">\\n<h3 id=\"reply-title\" class=\"comment-reply-title\">Tinggalkan Balasan <small><a rel=\"nofollow\" id=\"cancel-comment-reply-link\" href=\"/kertas-stone/#respond\" style=\"display:none;\">Batalkan balasan</a></small></h3><form action=\"https://warstek.com/wp-comments-post.php\" method=\"post\" id=\"commentform\" class=\"comment-form\"><p class=\"comment-notes\"><span id=\"email-notes\">Alamat email Anda tidak akan dipublikasikan.</span> Ruas yang wajib ditandai <span class=\"required\">*</span></p><p class=\"comment-form-comment\"><label for=\"comment\">Komentar</label> <textarea id=\"comment\" name=\"comment\" cols=\"45\" rows=\"8\" maxlength=\"65525\" required=\"required\"></textarea></p><p class=\"comment-form-author\"><label for=\"author\">Nama <span class=\"required\">*</span></label> <input id=\"author\" name=\"author\" type=\"text\" value=\"\" size=\"30\" maxlength=\"245\" required=\\'required\\' /></p>\\n<p class=\"comment-form-email\"><label for=\"email\">Email <span class=\"required\">*</span></label> <input id=\"email\" name=\"email\" type=\"text\" value=\"\" size=\"30\" maxlength=\"100\" aria-describedby=\"email-notes\" required=\\'required\\' /></p>\\n<p class=\"comment-form-url\"><label for=\"url\">Situs Web</label> <input id=\"url\" name=\"url\" type=\"text\" value=\"\" size=\"30\" maxlength=\"200\" /></p>\\n<p class=\"form-submit\"><input name=\"submit\" type=\"submit\" id=\"submit\" class=\"submit\" value=\"Kirim Komentar\" /> <input type=\\'hidden\\' name=\\'comment_post_ID\\' value=\\'53021\\' id=\\'comment_post_ID\\' />\\n<input type=\\'hidden\\' name=\\'comment_parent\\' id=\\'comment_parent\\' value=\\'0\\' />\\n</p></form></div></div></article>\\n<div class=\"nv-sidebar-wrap col-sm-12 nv-right blog-sidebar\">\\n<aside id=\"secondary\" role=\"complementary\">\\n<div id=\"search-3\" class=\"widget widget_search\"><p class=\"widget-title\">Cari Artikel</p><form role=\"search\" method=\"get\" class=\"search-form\" action=\"https://warstek.com/\">\\n<label>\\n<span class=\"screen-reader-text\">Cari untuk:</span>\\n<input type=\"search\" class=\"search-field\" placeholder=\"Cari &hellip;\" value=\"\" name=\"s\" />\\n</label>\\n<input type=\"submit\" class=\"search-submit\" value=\"Cari\" />\\n<div class=\"nv-search-icon-wrap\"><div class=\"nv-icon nv-search\"> <svg width=\"15\" height=\"15\" viewBox=\"0 0 1792 1792\" xmlns=\"http://www.w3.org/2000/svg\"><path d=\"M1216 832q0-185-131.5-316.5t-316.5-131.5-316.5 131.5-131.5 316.5 131.5 316.5 316.5 131.5 316.5-131.5 131.5-316.5zm512 832q0 52-38 90t-90 38q-54 0-90-38l-343-342q-179 124-399 124-143 0-273.5-55.5t-225-150-150-225-55.5-273.5 55.5-273.5 150-225 225-150 273.5-55.5 273.5 55.5 225 150 150 225 55.5 273.5q0 220-124 399l343 343q37 37 37 90z\"/></svg></div></div></form></div><div id=\"custom_html-49\" class=\"widget_text widget widget_custom_html\"><p class=\"widget-title\">Langganan via Email</p><div class=\"textwidget custom-html-widget\"><form style=\"border:0px solid #ccc;padding:0px;text-align:center;\" action=\"https://feedburner.google.com/fb/a/mailverify\" method=\"post\" target=\"popupwindow\" onsubmit=\"window.open(\\'https://feedburner.google.com/fb/a/mailverify?uri=warstek/EOtr\\', \\'popupwindow\\', \\'scrollbars=yes,width=550,height=520\\');return true\"><p>Masukkan Email Anda:</p><p><input type=\"text\" style=\"width:180px\" name=\"email\"/></p><input type=\"hidden\" value=\"warstek/EOtr\" name=\"uri\"/><input type=\"hidden\" name=\"loc\" value=\"en_US\"/><input type=\"submit\" value=\"Langganan\" /></form></div></div><div id=\"eaw-recent-posts-plus-2\" class=\"widget widget_recent_posts_plus\"><p class=\"widget-title\">Artikel Pilihan Editor</p>\\t\\t\\t\\t<div class=\"eaw-recent-posts\">\\n<img onload=\"Wpfcll.r(this,true);\" src=\"https://warstek.com/wp-content/plugins/wp-fastest-cache-premium/pro/images/blank.gif\" width=\"300\" height=\"185\" data-wpfc-original-src=\"https://warstek.com/wp-content/uploads/2021/10/15-juni-obat-san-prima-300x185.jpg\" class=\"attachment-medium size-medium wp-post-image\" alt=\"blank\" loading=\"lazy\" data-wpfc-original-srcset=\"https://warstek.com/wp-content/uploads/2021/10/15-juni-obat-san-prima-300x185.jpg 300w, https://warstek.com/wp-content/uploads/2021/10/15-juni-obat-san-prima-768x474.jpg 768w, https://warstek.com/wp-content/uploads/2021/10/15-juni-obat-san-prima.jpg 1003w\" data-wpfc-original-sizes=\"(max-width: 300px) 100vw, 300px\"/>\\t\\t\\t\\t\\t<div class=\"eaw-content\"> <h3><a href=\"https://warstek.com/obat-2/\">Benarkah Obat Dapat Menyebabkan Gagal Ginjal dan Kerusakan Fungsi Hati?</a> </h3> <p> Berdasarkan DJ International Journal of Medical Research, obat merupakan hal pertama yang di pertimbangkan saat suatu penyakit menyerang. Dari zaman &hellip; </p></div></div><div class=\"eaw-recent-posts\">\\n<img onload=\"Wpfcll.r(this,true);\" src=\"https://warstek.com/wp-content/plugins/wp-fastest-cache-premium/pro/images/blank.gif\" width=\"300\" height=\"168\" data-wpfc-original-src=\"https://warstek.com/wp-content/uploads/2021/10/flyby-300x168.jpg\" class=\"attachment-medium size-medium wp-post-image\" alt=\"foto yang diambil oleh wahana BepiColombo sesaat setelah flyby\" loading=\"lazy\" data-wpfc-original-srcset=\"https://warstek.com/wp-content/uploads/2021/10/flyby-300x168.jpg 300w, https://warstek.com/wp-content/uploads/2021/10/flyby-1024x573.jpg 1024w, https://warstek.com/wp-content/uploads/2021/10/flyby-768x430.jpg 768w, https://warstek.com/wp-content/uploads/2021/10/flyby-1536x860.jpg 1536w, https://warstek.com/wp-content/uploads/2021/10/flyby.jpg 1929w\" data-wpfc-original-sizes=\"(max-width: 300px) 100vw, 300px\"/>\\t\\t\\t\\t\\t<div class=\"eaw-content\"> <h3><a href=\"https://warstek.com/bepicolombo/\">BepiColombo: Misi Satelit ke Planet Neraka, Merkurius</a> </h3> <p> BepiColombo sedang di perjalanan sebelum mengorbit Merkurius tahun 2025. Bertemu dengan Merkurius minggu lalu, wahana buatan Eropa dan Jepang ini &hellip; </p></div></div><div class=\"eaw-recent-posts\">\\n<img onload=\"Wpfcll.r(this,true);\" src=\"https://warstek.com/wp-content/plugins/wp-fastest-cache-premium/pro/images/blank.gif\" width=\"300\" height=\"168\" data-wpfc-original-src=\"https://warstek.com/wp-content/uploads/2021/09/9696d4bdf9-300x168.jpg\" class=\"attachment-medium size-medium wp-post-image\" alt=\"blank\" loading=\"lazy\" data-wpfc-original-srcset=\"https://warstek.com/wp-content/uploads/2021/09/9696d4bdf9-300x168.jpg 300w, https://warstek.com/wp-content/uploads/2021/09/9696d4bdf9-1024x574.jpg 1024w, https://warstek.com/wp-content/uploads/2021/09/9696d4bdf9-768x431.jpg 768w, https://warstek.com/wp-content/uploads/2021/09/9696d4bdf9.jpg 1280w\" data-wpfc-original-sizes=\"(max-width: 300px) 100vw, 300px\"/>\\t\\t\\t\\t\\t<div class=\"eaw-content\"> <h3><a href=\"https://warstek.com/komet-raksasa/\">Penemuan Komet Raksasa, Diameternya Ratusan Kilometer</a> </h3> <p> Komet Komet&nbsp;adalah benda&nbsp;langit&nbsp;yang mengelilingi&nbsp;matahari&nbsp;dengan&nbsp;garis edar&nbsp;berbentuk&nbsp;lonjong,&nbsp;parabolis, atau&nbsp;hiperbolis. Istilah â\\x80\\x9ckometâ\\x80\\x9d berasal dari&nbsp;bahasa Yunani,&nbsp;kometes&nbsp;(ÎºÎ¿Î¼Î®Ï\\x84Î·Ï\\x82) yang berarti â\\x80\\x9crambut panjangâ\\x80\\x9d.&nbsp;Istilah lainnya adalah&nbsp;bintang berekor yang tidak &hellip; </p></div></div></div><div id=\"rate-my-post-top-rated-widget-2\" class=\"widget widget_rate-my-post-top-rated-widget\"><p class=\"widget-title\">Artikel Terpopuler</p>        \\n<div class=\"rmp-tr-posts-widget\">\\n<div class=\"rmp-tr-posts-widget__post\">\\n<div class=\"rmp-tr-posts-widget__img-container\"> <a href=\"https://warstek.com/bepicolombo/\"> <img onload=\"Wpfcll.r(this,true);\" src=\"https://warstek.com/wp-content/plugins/wp-fastest-cache-premium/pro/images/blank.gif\" class=\"rmp-tr-posts-widget__img\" data-wpfc-original-src=\"https://warstek.com/wp-content/uploads/2021/10/flyby.jpg\" alt=\"BepiColombo: Misi Satelit ke Planet Neraka, Merkurius\"/> </a></div><div class=\"rmp-tr-posts-widget__star-rating\"> <i class=\"rmp-icon rmp-icon--ratings rmp-icon--star rmp-icon--full-highlight\"></i><i class=\"rmp-icon rmp-icon--ratings rmp-icon--star rmp-icon--full-highlight\"></i><i class=\"rmp-icon rmp-icon--ratings rmp-icon--star rmp-icon--full-highlight\"></i><i class=\"rmp-icon rmp-icon--ratings rmp-icon--star rmp-icon--full-highlight\"></i><i class=\"rmp-icon rmp-icon--ratings rmp-icon--star rmp-icon--full-highlight\"></i> <span class=\"rmp-tr-posts-widget__avg-rating\">5</span> <span class=\"rmp-tr-posts-widget__num-votes\">(1)</span></div><p>\\n<a class=\"rmp-tr-posts-widget__link\" href=\"https://warstek.com/bepicolombo/\">BepiColombo: Misi Satelit ke Planet Neraka, Merkurius</a>\\n</p></div><div class=\"rmp-tr-posts-widget__post\">\\n<div class=\"rmp-tr-posts-widget__img-container\"> <a href=\"https://warstek.com/sebelum-big-bang/\"> <img onload=\"Wpfcll.r(this,true);\" src=\"https://warstek.com/wp-content/plugins/wp-fastest-cache-premium/pro/images/blank.gif\" class=\"rmp-tr-posts-widget__img\" data-wpfc-original-src=\"https://warstek.com/wp-content/uploads/2018/04/big-bang-sound-1jpg.jpg\" alt=\"Ada Apa Sebelum Big Bang? Ini Jawaban Peraih Nobel Fisika, Roger Penrose\"/> </a></div><div class=\"rmp-tr-posts-widget__star-rating\"> <i class=\"rmp-icon rmp-icon--ratings rmp-icon--star rmp-icon--full-highlight\"></i><i class=\"rmp-icon rmp-icon--ratings rmp-icon--star rmp-icon--full-highlight\"></i><i class=\"rmp-icon rmp-icon--ratings rmp-icon--star rmp-icon--full-highlight\"></i><i class=\"rmp-icon rmp-icon--ratings rmp-icon--star rmp-icon--full-highlight\"></i><i class=\"rmp-icon rmp-icon--ratings rmp-icon--star rmp-icon--full-highlight\"></i> <span class=\"rmp-tr-posts-widget__avg-rating\">5</span> <span class=\"rmp-tr-posts-widget__num-votes\">(1)</span></div><p>\\n<a class=\"rmp-tr-posts-widget__link\" href=\"https://warstek.com/sebelum-big-bang/\">Ada Apa Sebelum Big Bang? Ini Jawaban Peraih Nobel Fisika, Roger Penrose</a>\\n</p></div><div class=\"rmp-tr-posts-widget__post\">\\n<div class=\"rmp-tr-posts-widget__img-container\"> <a href=\"https://warstek.com/manajemen-bencana/\"> <img onload=\"Wpfcll.r(this,true);\" src=\"https://warstek.com/wp-content/plugins/wp-fastest-cache-premium/pro/images/blank.gif\" class=\"rmp-tr-posts-widget__img\" data-wpfc-original-src=\"https://warstek.com/wp-content/uploads/2020/10/mister.enviro-20201003-0001.jpg\" alt=\"Manajemen Bencana Dalam Perspektif Kesehatan Lingkungan dan Masyarakat\"/> </a></div><div class=\"rmp-tr-posts-widget__star-rating\"> <i class=\"rmp-icon rmp-icon--ratings rmp-icon--star rmp-icon--full-highlight\"></i><i class=\"rmp-icon rmp-icon--ratings rmp-icon--star rmp-icon--full-highlight\"></i><i class=\"rmp-icon rmp-icon--ratings rmp-icon--star rmp-icon--full-highlight\"></i><i class=\"rmp-icon rmp-icon--ratings rmp-icon--star rmp-icon--full-highlight\"></i><i class=\"rmp-icon rmp-icon--ratings rmp-icon--star rmp-icon--full-highlight\"></i> <span class=\"rmp-tr-posts-widget__avg-rating\">5</span> <span class=\"rmp-tr-posts-widget__num-votes\">(1)</span></div><p>\\n<a class=\"rmp-tr-posts-widget__link\" href=\"https://warstek.com/manajemen-bencana/\">Manajemen Bencana Dalam Perspektif Kesehatan Lingkungan dan Masyarakat</a>\\n</p></div><div class=\"rmp-tr-posts-widget__post\">\\n<div class=\"rmp-tr-posts-widget__img-container\"> <a href=\"https://warstek.com/bioinformatika-apa-sih-bioinformatika-itu/\"> <img onload=\"Wpfcll.r(this,true);\" src=\"https://warstek.com/wp-content/plugins/wp-fastest-cache-premium/pro/images/blank.gif\" class=\"rmp-tr-posts-widget__img\" data-wpfc-original-src=\"https://warstek.com/wp-content/uploads/2020/10/istockphoto-533906136-1024x1024-1.jpg\" alt=\"Bioinformatika, apa sih Bioinformatika itu?\"/> </a></div><div class=\"rmp-tr-posts-widget__star-rating\"> <i class=\"rmp-icon rmp-icon--ratings rmp-icon--star rmp-icon--full-highlight\"></i><i class=\"rmp-icon rmp-icon--ratings rmp-icon--star rmp-icon--full-highlight\"></i><i class=\"rmp-icon rmp-icon--ratings rmp-icon--star rmp-icon--full-highlight\"></i><i class=\"rmp-icon rmp-icon--ratings rmp-icon--star rmp-icon--full-highlight\"></i><i class=\"rmp-icon rmp-icon--ratings rmp-icon--star rmp-icon--full-highlight\"></i> <span class=\"rmp-tr-posts-widget__avg-rating\">5</span> <span class=\"rmp-tr-posts-widget__num-votes\">(1)</span></div><p>\\n<a class=\"rmp-tr-posts-widget__link\" href=\"https://warstek.com/bioinformatika-apa-sih-bioinformatika-itu/\">Bioinformatika, apa sih Bioinformatika itu?</a>\\n</p></div><div class=\"rmp-tr-posts-widget__post\">\\n<div class=\"rmp-tr-posts-widget__img-container\"> <a href=\"https://warstek.com/pancasila/\"> <img onload=\"Wpfcll.r(this,true);\" src=\"https://warstek.com/wp-content/plugins/wp-fastest-cache-premium/pro/images/blank.gif\" class=\"rmp-tr-posts-widget__img\" data-wpfc-original-src=\"https://warstek.com/wp-content/uploads/2020/11/Untitled-3.jpg\" alt=\"Pancasila: Pengertian, Sejarah, Butir, Nilai, dan Dasar Pandangan Hidup [Lengkap + Contoh Soal]\"/> </a></div><div class=\"rmp-tr-posts-widget__star-rating\"> <i class=\"rmp-icon rmp-icon--ratings rmp-icon--star rmp-icon--full-highlight\"></i><i class=\"rmp-icon rmp-icon--ratings rmp-icon--star rmp-icon--full-highlight\"></i><i class=\"rmp-icon rmp-icon--ratings rmp-icon--star rmp-icon--full-highlight\"></i><i class=\"rmp-icon rmp-icon--ratings rmp-icon--star rmp-icon--full-highlight\"></i><i class=\"rmp-icon rmp-icon--ratings rmp-icon--star rmp-icon--full-highlight\"></i> <span class=\"rmp-tr-posts-widget__avg-rating\">5</span> <span class=\"rmp-tr-posts-widget__num-votes\">(1)</span></div><p>\\n<a class=\"rmp-tr-posts-widget__link\" href=\"https://warstek.com/pancasila/\">Pancasila:  Pengertian, Sejarah, Butir, Nilai, dan Dasar Pandangan Hidup [Lengkap + Contoh Soal]</a>\\n</p></div></div></div><div id=\"custom_html-50\" class=\"widget_text widget widget_custom_html\"><p class=\"widget-title\">Artikel yang Terkait</p><div class=\"textwidget custom-html-widget\">\\n<script async src=\"//pagead2.googlesyndication.com/pagead/js/adsbygoogle.js\"></script>\\n<ins class=\"adsbygoogle\"\\nstyle=\"display:block\"\\ndata-ad-format=\"autorelaxed\"\\ndata-ad-client=\"ca-pub-9638064869561472\"\\ndata-ad-slot=\"4368873124\"></ins>\\n<script>(adsbygoogle=window.adsbygoogle||[]).push({});</script>\\n<br/>\\n<ins class=\\'adsbyadop\\' _adop_zon = \\'6dc5bcbb-1006-49b8-9ffd-eb8a5e464239\\' _adop_type = \\'re\\' style=\\'display:inline-block;width:300px;height:250px;\\' _page_url=\\'\\'></ins></div></div></aside></div></div></div></main>\\n<footer class=\"site-footer\" id=\"site-footer\">\\n<div class=\"hfg_footer\">\\n<div class=\"footer--row footer-top layout-full-contained\" id=\"cb-row--footer-top\" data-row-id=\"top\" data-show-on=\"desktop\">\\n<div class=\"footer--row-inner footer-top-inner footer-content-wrap\">\\n<div class=\"container\">\\n<div class=\"hfg-grid nv-footer-content hfg-grid-top row--wrapper row\" data-section=\"hfg_footer_layout_top\">\\n<div class=\"builder-item hfg-item-last hfg-item-first col-12 desktop-center tablet-center mobile-center hfg-item-v-middle\"><div class=\"item--inner builder-item--footer_copyright\" data-section=\"footer_copyright\" data-item-id=\"footer_copyright\">\\n<div class=\"component-wrap\"> <p>Didesain dengan hati | Copyright Warstek.com 2021 </p></div></div></div></div></div></div></div><div class=\"footer--row footer-bottom layout-full-contained\" id=\"cb-row--footer-bottom\" data-row-id=\"bottom\" data-show-on=\"desktop\">\\n<div class=\"footer--row-inner footer-bottom-inner footer-content-wrap\">\\n<div class=\"container\">\\n<div class=\"hfg-grid nv-footer-content hfg-grid-bottom row--wrapper row\" data-section=\"hfg_footer_layout_bottom\">\\n<div class=\"builder-item hfg-item-first col-6 desktop-left tablet-left mobile-left hfg-item-v-middle\"><div class=\"item--inner builder-item--footer-one-widgets\" data-section=\"sidebar-widgets-footer-one-widgets\" data-item-id=\"footer-one-widgets\">\\n<div class=\"widget-area\">\\n<div id=\"text-7\" class=\"widget widget_text\">\\t\\t\\t<div class=\"textwidget\"><p><img onload=\"Wpfcll.r(this,true);\" src=\"https://warstek.com/wp-content/plugins/wp-fastest-cache-premium/pro/images/blank.gif\" loading=\"lazy\" data-wpfc-original-src=\"http://warstek.com/wp-content/uploads/2017/12/footer-logo-copy-min.png\" alt=\"blank\" width=\"163\" height=\"50\"/></p>\\n<div><strong>UP TO DATE | TERPERCAYAÂ\\xa0| SERU</strong></div><div></div><div style=\"margin: 0px 0 0px 0;\">Warstek adalah media SAINS POPULER yang dibuat untuk seluruh masyarakat Indonesia baik kalangan akademisi, masyarakat sipil, atau industri.</div></div></div></div></div></div><div class=\"builder-item hfg-item-last col-6 desktop-left tablet-left mobile-left hfg-item-v-middle\"><div class=\"item--inner builder-item--footer-two-widgets\" data-section=\"sidebar-widgets-footer-two-widgets\" data-item-id=\"footer-two-widgets\">\\n<div class=\"widget-area\">\\n<div id=\"text-4\" class=\"widget widget_text\"><p class=\"widget-title\">Kontak</p>\\t\\t\\t<div class=\"textwidget\"><p>Address: Jl. Sukolilo Baru gg. VI no 10 | Surabaya | Indonesia<br /> Phone: (+62)87750118140<br /> Email: warstek.jurnal@gmail.com<br /> Office Hour: 08.00 WIB Â\\xa0&#8211; 15.00 WIB (Monday &#8211; Friday)</p></div></div></div></div></div></div></div></div></div></div></footer></div><div id=\"um_upload_single\" style=\"display:none\"></div><div id=\"um_view_photo\" style=\"display:none\">\\n<a href=\"javascript:void(0);\" data-action=\"um_remove_modal\" class=\"um-modal-close\" aria-label=\"Close view photo modal\">\\n<i class=\"um-faicon-times\"></i>\\n</a>\\n<div class=\"um-modal-body photo\">\\n<div class=\"um-modal-photo\"></div></div></div><ul class=\"obfx-sharing obfx-sharing-right obfx-sharing-bottom\">\\n<li> <a class =\"facebook\" href=\"https://www.facebook.com/sharer.php?u=https://warstek.com/kertas-stone/\"> <i class=\"socicon-facebook\"></i> </a> </li>\\n<li> <a class =\"twitter\" href=\"https://twitter.com/intent/tweet?url=https://warstek.com/kertas-stone/&#038;text=Kertas%20Ajaib%20Racikan%20Dr.%20Stone%20dan%20Kaitannya%20Dalam%20Aplikasi%20Dunia%20Nyata&#038;hashtags=Pilihan%20Editor,Sains%20Alam\"> <i class=\"socicon-twitter\"></i> </a> </li>\\n<li> <a class =\"whatsapp\" href=\"whatsapp://send?text=https://warstek.com/kertas-stone/\"> <i class=\"socicon-whatsapp\"></i> </a> </li>\\n</ul>\\n<div class=\"wp-dark-mode-switcher wp-dark-mode-ignore style-1 floating right_bottom\">\\n<label for=\"wp-dark-mode-switch\" class=\"wp-dark-mode-ignore wp-dark-mode-wobble\">\\n<div class=\"modes wp-dark-mode-ignore\"> <img onload=\"Wpfcll.r(this,true);\" src=\"https://warstek.com/wp-content/plugins/wp-fastest-cache-premium/pro/images/blank.gif\" class=\"light\" data-wpfc-original-src=\"https://warstek.com/wp-content/plugins/wp-dark-mode//assets/images/btn-1/light.png\" alt=\"Light\"> <img onload=\"Wpfcll.r(this,true);\" src=\"https://warstek.com/wp-content/plugins/wp-fastest-cache-premium/pro/images/blank.gif\" class=\"dark\" data-wpfc-original-src=\"https://warstek.com/wp-content/plugins/wp-dark-mode//assets/images/btn-1/dark.png\" alt=\"Dark\"></div></label></div><script id=\\'rate-my-post-js-extra\\'>var rmp_frontend={\"admin_ajax\":\"https:\\\\/\\\\/warstek.com\\\\/wp-admin\\\\/admin-ajax.php\",\"postID\":\"53021\",\"noVotes\":\"Belum ada yang menilai! Yuk jadi yang pertama kali menilai!\",\"cookie\":\"Anda telah memberikan penilaian.\",\"afterVote\":\"Terima kasih telah menilai post ini :)\",\"notShowRating\":\"1\",\"social\":\"1\",\"feedback\":\"1\",\"cookieDisable\":\"1\",\"emptyFeedback\":\"Please insert your feedback in the box above!\",\"hoverTexts\":\"2\",\"preventAccidental\":\"2\",\"grecaptcha\":\"1\",\"siteKey\":\"\",\"votingPriv\":\"1\",\"loggedIn\":\"\",\"positiveThreshold\":\"2\",\"ajaxLoad\":\"1\",\"nonce\":\"9adb6e4ebb\"};</script>\\n<script id=\\'wp-util-js-extra\\'>var _wpUtilSettings={\"ajax\":{\"url\":\"\\\\/wp-admin\\\\/admin-ajax.php\"}};</script>\\n<script id=\\'wp-dark-mode-frontend-js-extra\\'>var wpDarkMode={\"config\":{\"brightness\":100,\"contrast\":90,\"sepia\":10},\"enable_preset\":\"\",\"customize_colors\":\"\",\"colors\":{\"bg\":\"#000\",\"text\":\"#dfdedb\",\"link\":\"#e58c17\"},\"enable_frontend\":\"1\",\"enable_backend\":\"\",\"enable_os_mode\":\"1\",\"excludes\":\"rs-fullwidth-wrap,.mejs-container\",\"includes\":\"\",\"is_excluded\":\"\",\"remember_darkmode\":\"\",\"default_mode\":\"1\",\"keyboard_shortcut\":\"1\",\"images\":\"\",\"videos\":\"\",\"is_pro_active\":\"\",\"is_ultimate_active\":\"\",\"pro_version\":\"0\",\"is_elementor_editor\":\"\",\"is_block_editor\":\"\",\"frontend_mode\":\"\"};</script>\\n<script id=\\'neve-script-js-extra\\'>var NeveProperties={\"ajaxurl\":\"https:\\\\/\\\\/warstek.com\\\\/wp-admin\\\\/admin-ajax.php\",\"nonce\":\"ceb08bac55\",\"isRTL\":\"\",\"isCustomize\":\"\"};</script>\\n<script id=\\'um_scripts-js-extra\\'>var um_scripts={\"max_upload_size\":\"134217728\",\"nonce\":\"72f098fd80\"};</script>\\n<script id=\\'sharing-js-js-extra\\'>var sharing_js_options={\"lang\":\"en\",\"counts\":\"1\",\"is_stats_active\":\"1\"};</script>\\n<script async src=\\'https://propsid.b-cdn.net/gpt/warstek.js\\'></script>\\n<script src=\\'//warstek.com/wp-content/cache/wpfc-minified/1pd75ehe/e4tew.js\\'></script>\\n<script>(function (){\\nwindow.wpDarkMode={\"config\":{\"brightness\":100,\"contrast\":90,\"sepia\":10},\"enable_preset\":false,\"customize_colors\":false,\"colors\":{\"bg\":\"#000\",\"text\":\"#dfdedb\",\"link\":\"#e58c17\"},\"enable_frontend\":true,\"enable_backend\":false,\"enable_os_mode\":true,\"excludes\":\"rs-fullwidth-wrap,.mejs-container\",\"includes\":\"\",\"is_excluded\":false,\"remember_darkmode\":false,\"default_mode\":true,\"keyboard_shortcut\":true,\"images\":\"\",\"videos\":\"\",\"is_pro_active\":false,\"is_ultimate_active\":false,\"pro_version\":0,\"is_elementor_editor\":false,\"is_block_editor\":false,\"frontend_mode\":false};\\nwindow.checkOsDarkMode=()=> {\\nif(!wpDarkMode.enable_os_mode||localStorage.getItem(\\'wp_dark_mode_active\\')){\\nreturn false;\\n}\\nconst darkMediaQuery=window.matchMedia(\\'(prefers-color-scheme: dark)\\');\\nif(darkMediaQuery.matches) return true;\\ntry {\\ndarkMediaQuery.addEventListener(\\'change\\', function (e){\\nconst newColorScheme=e.matches ? \\'dark\\':\\'light\\';\\nconst isDark=\\'dark\\'===newColorScheme;\\nreturn isDark;\\n});\\n} catch (e1){\\ntry {\\ndarkMediaQuery.addListener(function (e){\\nconst newColorScheme=e.matches ? \\'dark\\':\\'light\\';\\nconst isDark=\\'dark\\'===newColorScheme;\\nreturn isDark\\n});\\n} catch (e2){\\nconsole.error(e2);\\nreturn false;\\n}}\\nreturn false;\\n}\\nconst is_saved=localStorage.getItem(\\'wp_dark_mode_active\\');\\nconst isCustomColor=parseInt(\"\");\\nconst shouldDarkMode=is_saved==\\'1\\'||(!is_saved&&wpDarkMode.default_mode)||checkOsDarkMode();\\nif(shouldDarkMode){\\ndocument.querySelector(\\'html\\').classList.add(\\'wp-dark-mode-active\\');\\nconst isPerformanceMode=Boolean();\\nif(!isCustomColor&&!isPerformanceMode){\\nvar css=`body, div, section, header, article, main, aside{background-color: #2B2D2D !important;}`;\\nvar head=document.head||document.getElementsByTagName(\\'head\\')[0],\\nstyle=document.createElement(\\'style\\');\\nstyle.setAttribute(\\'id\\', \\'pre_css\\');\\nhead.appendChild(style);\\nstyle.type=\\'text/css\\';\\nif(style.styleSheet){\\nstyle.styleSheet.cssText=css;\\n}else{\\nstyle.appendChild(document.createTextNode(css));\\n}}\\n}})();</script>\\n<script>document.cookie=\\'quads_browser_width=\\'+screen.width;</script>\\n<script async src=\\'//ajax.googleapis.com/ajax/libs/jquery/1.4.2/jquery.min.js\\'></script>\\n<script async src=\\'//compass.adop.cc/assets/js/adop/adop.js?v=10\\'></script>\\n<script src=\\'https://compasscdn.adop.cc/js/adop_new_collapse_width100_0.0.1.js\\' data-id=\\'ADOP_V_c1RqTHa2x8\\' data-width=\\'336\\' data-height=\\'280\\' data-type=\\'re\\' data-zone=\\'29afe64a-216e-40c3-b40e-db77f972d773\\' data-fl=\\'Y\\' data-margin=\\'0,0,0,0\\' data-fl-width=\\'400\\' data-loc=\\'rt\\'></script>\\n<script async src=\\'//compass.adop.cc/assets/js/adop/adopJ.js?v=10\\'></script>\\n<script>;(function (){\\nif(\\'\\'!==`rs-fullwidth-wrap,.mejs-container`){\\nconst elements=document.querySelectorAll(`rs-fullwidth-wrap,.mejs-container`);\\nelements.forEach((element)=> {\\nelement.classList.add(\\'wp-dark-mode-ignore\\');\\nconst children=element.querySelectorAll(\\'*\\');\\nchildren.forEach((child)=> {\\nchild.classList.add(\\'wp-dark-mode-ignore\\');\\n});\\n});\\n}\\nif(\\'\\'!==``){\\nconst elements=document.querySelectorAll(``);\\nelements.forEach((element)=> {\\nelement.classList.add(\\'wp-dark-mode-include\\');\\nconst children=element.querySelectorAll(\\'*\\');\\nchildren.forEach((child)=> {\\nchild.classList.add(\\'wp-dark-mode-include\\');\\n})\\n});\\n}})();</script>\\n<script>;(function (){\\nwindow.wpDarkMode={\"config\":{\"brightness\":100,\"contrast\":90,\"sepia\":10},\"enable_preset\":false,\"customize_colors\":false,\"colors\":{\"bg\":\"#000\",\"text\":\"#dfdedb\",\"link\":\"#e58c17\"},\"enable_frontend\":true,\"enable_backend\":false,\"enable_os_mode\":true,\"excludes\":\"rs-fullwidth-wrap,.mejs-container\",\"includes\":\"\",\"is_excluded\":false,\"remember_darkmode\":false,\"default_mode\":true,\"keyboard_shortcut\":true,\"images\":\"\",\"videos\":\"\",\"is_pro_active\":false,\"is_ultimate_active\":false,\"pro_version\":0,\"is_elementor_editor\":false,\"is_block_editor\":false,\"frontend_mode\":false};\\nconst is_saved=localStorage.getItem(\\'wp_dark_mode_active\\');\\nconst shouldDarkMode=is_saved==\\'1\\'||(!is_saved&&wpDarkMode.default_mode)||checkOsDarkMode();\\nif(shouldDarkMode){\\nconst isCustomColor=parseInt(\"\");\\nconst isPerformanceMode=Boolean();\\nif(!isCustomColor&&!isPerformanceMode){\\nif(document.getElementById(\\'pre_css\\')){\\ndocument.getElementById(\\'pre_css\\').remove();\\n}\\nif(\\'\\'===``){\\nDarkMode.enable();\\n}}\\n}})();</script>\\n<script>window.WPCOM_sharing_counts={\"https:\\\\/\\\\/warstek.com\\\\/kertas-stone\\\\/\":53021};</script>\\n<script src=\\'//warstek.com/wp-content/cache/wpfc-minified/6ojeht00/e4tew.js\\'></script>\\n<script id=\\'wp-i18n-js-after\\'>wp.i18n.setLocaleData({ \\'text direction\\\\u0004ltr\\': [ \\'ltr\\' ] });</script>\\n<script src=\\'//warstek.com/wp-content/cache/wpfc-minified/8mnw8w79/dx2m4.js\\'></script>\\n<script id=\\'sharing-js-js-after\\'>var windowOpen;\\n(function (){\\nfunction matches(el, sel){\\nreturn !! (\\nel.matches&&el.matches(sel) ||\\nel.msMatchesSelector&&el.msMatchesSelector(sel)\\n);\\n}\\ndocument.body.addEventListener(\\'click\\', function(event){\\nif(! event.target){\\nreturn;\\n}\\nvar el;\\nif(matches(event.target, \\'a.share-facebook\\')){\\nel=event.target;\\n}else if(event.target.parentNode&&matches(event.target.parentNode, \\'a.share-facebook\\')){\\nel=event.target.parentNode;\\n}\\nif(el){\\nevent.preventDefault();\\nif(typeof windowOpen!==\\'undefined\\'){\\nwindowOpen.close();\\n}\\nwindowOpen=window.open(el.getAttribute(\\'href\\'), \\'wpcomfacebook\\', \\'menubar=1,resizable=1,width=600,height=400\\');\\nreturn false;\\n}});\\n})();\\nvar windowOpen;\\n(function (){\\nfunction matches(el, sel){\\nreturn !! (\\nel.matches&&el.matches(sel) ||\\nel.msMatchesSelector&&el.msMatchesSelector(sel)\\n);\\n}\\ndocument.body.addEventListener(\\'click\\', function(event){\\nif(! event.target){\\nreturn;\\n}\\nvar el;\\nif(matches(event.target, \\'a.share-twitter\\')){\\nel=event.target;\\n}else if(event.target.parentNode&&matches(event.target.parentNode, \\'a.share-twitter\\')){\\nel=event.target.parentNode;\\n}\\nif(el){\\nevent.preventDefault();\\nif(typeof windowOpen!==\\'undefined\\'){\\nwindowOpen.close();\\n}\\nwindowOpen=window.open(el.getAttribute(\\'href\\'), \\'wpcomtwitter\\', \\'menubar=1,resizable=1,width=600,height=350\\');\\nreturn false;\\n}});\\n})();\\nvar windowOpen;\\n(function (){\\nfunction matches(el, sel){\\nreturn !! (\\nel.matches&&el.matches(sel) ||\\nel.msMatchesSelector&&el.msMatchesSelector(sel)\\n);\\n}\\ndocument.body.addEventListener(\\'click\\', function(event){\\nif(! event.target){\\nreturn;\\n}\\nvar el;\\nif(matches(event.target, \\'a.share-telegram\\')){\\nel=event.target;\\n}else if(event.target.parentNode&&matches(event.target.parentNode, \\'a.share-telegram\\')){\\nel=event.target.parentNode;\\n}\\nif(el){\\nevent.preventDefault();\\nif(typeof windowOpen!==\\'undefined\\'){\\nwindowOpen.close();\\n}\\nwindowOpen=window.open(el.getAttribute(\\'href\\'), \\'wpcomtelegram\\', \\'menubar=1,resizable=1,width=450,height=450\\');\\nreturn false;\\n}});\\n})();</script>\\n<script defer src=\\'https://stats.wp.com/e-202142.js\\' defer></script>\\n<script>_stq=window._stq||[];\\n_stq.push([ \\'view\\', {v:\\'ext\\',j:\\'1:10.2\\',blog:\\'139897316\\',post:\\'53021\\',tz:\\'7\\',srv:\\'warstek.com\\'} ]);\\n_stq.push([ \\'clickTrackerInit\\', \\'139897316\\', \\'53021\\' ]);</script>\\n<script>document.addEventListener(\\'DOMContentLoaded\\',function(){\\njQuery(window).on(\\'load\\', function(){\\njQuery(\\'input[name=\"um_request\"]\\').val(\\'\\');\\n});});</script>\\n</body>\\n</html><!-- WP Fastest Cache file was created in 1.6224610805511 seconds, on 21-10-21 8:43:04 -->'"
            ]
          },
          "metadata": {},
          "execution_count": 4
        }
      ]
    },
    {
      "cell_type": "code",
      "metadata": {
        "colab": {
          "base_uri": "https://localhost:8080/",
          "height": 35
        },
        "id": "hrMc_3Pdiz8o",
        "outputId": "eb4db429-9397-4f85-b3a2-86b752815ce3"
      },
      "source": [
        "result.encoding = result.apparent_encoding\n",
        "result.encoding"
      ],
      "execution_count": 5,
      "outputs": [
        {
          "output_type": "execute_result",
          "data": {
            "application/vnd.google.colaboratory.intrinsic+json": {
              "type": "string"
            },
            "text/plain": [
              "'utf-8'"
            ]
          },
          "metadata": {},
          "execution_count": 5
        }
      ]
    },
    {
      "cell_type": "code",
      "metadata": {
        "id": "wiyh7ZHli2-C"
      },
      "source": [
        "wp = BeautifulSoup(result.text, \"html.parser\")"
      ],
      "execution_count": 6,
      "outputs": []
    },
    {
      "cell_type": "code",
      "metadata": {
        "id": "DxMUXli6i4Jh"
      },
      "source": [
        "wp.find(\"p\").getText()\n",
        "pass"
      ],
      "execution_count": 7,
      "outputs": []
    },
    {
      "cell_type": "code",
      "metadata": {
        "id": "n7e4y7uCi7M0",
        "colab": {
          "base_uri": "https://localhost:8080/"
        },
        "outputId": "02959666-b28a-4e65-da8f-b9764f2b1b4f"
      },
      "source": [
        "wp.find_all(\"p\")"
      ],
      "execution_count": 8,
      "outputs": [
        {
          "output_type": "execute_result",
          "data": {
            "text/plain": [
              "[<p>Sains dan Teknologi yang Seru dan Menyenangkan</p>,\n",
              " <p class=\"has-text-align-justify\">Kertas yang kita kenal sehari-hari merupakan suatu  lembaran yang memiliki sifat ringan, lunak, halus, mudah dibentuk, mudah terbakar, dan mudah sobek. Namun, tahukah Anda jika kertas dapat berubah menjadi sesuatu yang kuat bahkan dapat dijadikan sebuah perisai dalam sebuah pertarungan? </p>,\n",
              " <p class=\"has-text-align-center\"><img alt=\"blank\" class=\"wp-image-53022\" data-wpfc-original-sizes=\"(max-width: 800px) 100vw, 800px\" data-wpfc-original-src=\"https://warstek.com/wp-content/uploads/2021/09/18463637331615185077.webp\" data-wpfc-original-srcset=\"https://warstek.com/wp-content/uploads/2021/09/18463637331615185077.webp 800w, https://warstek.com/wp-content/uploads/2021/09/18463637331615185077-300x169.webp 300w, https://warstek.com/wp-content/uploads/2021/09/18463637331615185077-768x432.webp 768w\" height=\"450\" loading=\"lazy\" onload=\"Wpfcll.r(this,true);\" src=\"https://warstek.com/wp-content/plugins/wp-fastest-cache-premium/pro/images/blank.gif\" style=\"width: 600px;\" width=\"800\"/></p>,\n",
              " <p class=\"has-text-align-center\">Gambar 1: Pertarungan Taiju melawan pasukan Tsukasa dengan menggunakan kertas ajaib sebagai perisai (Sumber: duniagames.co.id)</p>,\n",
              " <p class=\"has-text-align-justify\">Secara logika, rasanya memang tidak mungkin sebuah lembaran yang lunak dan mudah sobek seperti kertas dapat menjadi sesuatu kuat bak besi atau beton. Namun logika tersebut terbantahkan berdasarkan percobaan yang dilakukan oleh Senku Ishigami (tokoh dalam anime Dr. Stone) yang membuat perisai kertas untuk pelapis kereta uap dengan menggunakan prinsip ilmu kimia dalam proses pembuatannya. </p>,\n",
              " <p class=\"has-text-align-justify\">Berawal dari usaha kerajaan sains (yang dipimpin oleh Senku) ingin menyelamatkan Chrome dari pasukan Tsukasa, maka untuk menghindari perlawanan musuh dan menghindari adanya pertumpahan darah, Senku berinisiatif untuk menambah kekuatan alutsistanya yaitu steam gorila (kereta uap) dengan dilapisi perisai yang memiliki kekuatan seperti besi. </p>,\n",
              " <p class=\"has-text-align-justify\">Langkah pertama, Senku membuat kertas ajaib tersebut dari rumput dengan proses perebusan. Langkah kedua, Senku menambahkan sodium hidroksida (NaOH) untuk melunakkan rumput tersebut. Langkah ketiga, rumput yang telah direbus dengan NaOH akan menjadi lengket lalu kemudian angkat dan rumput tersebut dibersihkan dengan air bersih. Langkah keempat, Senku menghaluskan rumput dengan cara ditumbuk. Langkah kelima, Senku mengeringkan dan membentuk rumput tersebut seperti kertas dan berfungsi sebagai perisai untuk pasukannya. Langkah terakhir, Senku menambahkan resin alami yang dapat memberikan efek penguat dan pengeras yang sangat baik. </p>,\n",
              " <p class=\"has-text-align-center\"><img alt=\"blank\" class=\"wp-image-53062\" data-wpfc-original-sizes=\"(max-width: 1280px) 100vw, 1280px\" data-wpfc-original-src=\"https://warstek.com/wp-content/uploads/2021/09/6reNeTx.jpg\" data-wpfc-original-srcset=\"https://warstek.com/wp-content/uploads/2021/09/6reNeTx.jpg 1280w, https://warstek.com/wp-content/uploads/2021/09/6reNeTx-300x169.jpg 300w, https://warstek.com/wp-content/uploads/2021/09/6reNeTx-1024x576.jpg 1024w, https://warstek.com/wp-content/uploads/2021/09/6reNeTx-768x432.jpg 768w\" height=\"720\" loading=\"lazy\" onload=\"Wpfcll.r(this,true);\" src=\"https://warstek.com/wp-content/plugins/wp-fastest-cache-premium/pro/images/blank.gif\" style=\"width: 600px;\" width=\"1280\"/></p>,\n",
              " <p class=\"has-text-align-center\">Gambar 2: Senku melapisi kertas ajaibnya dengan resin alami dengan menggunakan lilin lebah cair (Sumber: benigmatica.wordpress.com)</p>,\n",
              " <p class=\"has-text-align-justify\">Penggabungan fleksibilitas kertas dan kerasnya sifat plastik yang berasal dari resin akan menciptakan serat karbon. Dan pembuatan kertas ajaib ini dapat dicoba di rumah karena alat dan bahan yang digunakan sangat sederhana dan juga sebagai ajang pembuktian jika Anda masih ragu dalam kekuatan kertas ajaib tersebut. </p>,\n",
              " <p class=\"has-text-align-center\"><img alt=\"blank\" class=\"wp-image-53063\" data-wpfc-original-sizes=\"(max-width: 1280px) 100vw, 1280px\" data-wpfc-original-src=\"https://warstek.com/wp-content/uploads/2021/09/5j0gN7i.jpg\" data-wpfc-original-srcset=\"https://warstek.com/wp-content/uploads/2021/09/5j0gN7i.jpg 1280w, https://warstek.com/wp-content/uploads/2021/09/5j0gN7i-300x169.jpg 300w, https://warstek.com/wp-content/uploads/2021/09/5j0gN7i-1024x576.jpg 1024w, https://warstek.com/wp-content/uploads/2021/09/5j0gN7i-768x432.jpg 768w\" height=\"720\" loading=\"lazy\" onload=\"Wpfcll.r(this,true);\" src=\"https://warstek.com/wp-content/plugins/wp-fastest-cache-premium/pro/images/blank.gif\" style=\"width: 600px;\" width=\"1280\"/></p>,\n",
              " <p class=\"has-text-align-center\">Gambar 3: Kinro teman Senku sedang mengetes kekuatan kertas ajaib yang telah dibuat (benigmatica.wordpress.com)</p>,\n",
              " <p class=\"has-text-align-justify\">Hasilnya tombak Kinro yang hancur, sementara kertas ajaibnya hanya penyok saja dan berhasil menjadi perisai dari serangan tombak yang sangat cepat dan keras. </p>,\n",
              " <p class=\"has-text-align-center\"><img alt=\"blank\" class=\"wp-image-53065\" data-wpfc-original-sizes=\"(max-width: 1280px) 100vw, 1280px\" data-wpfc-original-src=\"https://warstek.com/wp-content/uploads/2021/09/Wia1BNW.jpg\" data-wpfc-original-srcset=\"https://warstek.com/wp-content/uploads/2021/09/Wia1BNW.jpg 1280w, https://warstek.com/wp-content/uploads/2021/09/Wia1BNW-300x169.jpg 300w, https://warstek.com/wp-content/uploads/2021/09/Wia1BNW-1024x576.jpg 1024w, https://warstek.com/wp-content/uploads/2021/09/Wia1BNW-768x432.jpg 768w\" height=\"720\" loading=\"lazy\" onload=\"Wpfcll.r(this,true);\" src=\"https://warstek.com/wp-content/plugins/wp-fastest-cache-premium/pro/images/blank.gif\" style=\"width: 600px;\" width=\"1280\"/></p>,\n",
              " <p class=\"has-text-align-center\">Gambar 4: Tombak Kinro hancur setelah menghantam kertas ajaib Senku (Sumber: benigmatica.wordpress.com)</p>,\n",
              " <p class=\"has-text-align-justify\">Percobaan Senku ternyata bukan imajinasi belaka. Hakikatnya, konsep kimia (yaitu serat karbon) yang dilakukan Senku sudah diterapkan di dunia otomotif, roket, dan moda transportasi.</p>,\n",
              " <p class=\"has-text-align-justify\">Menurut Dinur (2019) menyatakan penggunaan material seperti serat karbon mulai banyak digunakan dalam dunia industri karena memiliki karakteristik yang mampu memenuhi tuntutan teknologi seperti ringan, tahan terhadap temperatur tinggi, dan tahan fatik (rusak). </p>,\n",
              " <p class=\"has-text-align-justify\">Selain itu, serat karbon juga memiliki ketahanan terhadap korosi, 70% lebih ringan dari baja dan 40% dari aluminium, dan memperkuat struktur benda yang dilapisi serat tersebut.</p>,\n",
              " <p class=\"has-text-align-justify\">Kesimpulannya, dari anime Dr. Stone yang menampilkan percobaan mengenai pembuatan serat karbon dalam bentuk kertas ajaib (digunakan sebagai perisai ketahanan dan penambah kekuatan) memberikan wawasan kepada kita agar bisa memanfaatkan sumber daya yang ada disekitar untuk dijadikan sesuatu yang memiliki nilai guna. Selain itu, juga mengajarkan kita untuk dapat berekreasi dan produktif di manapun dan kapanpun kita berada. </p>,\n",
              " <p>Referensi : </p>,\n",
              " <p></p>,\n",
              " <p class=\"rmp-heading rmp-heading--title\">        Setelah selesai membaca, yuk berikan artikel ini penilaian!      </p>,\n",
              " <p class=\"rmp-heading rmp-heading--subtitle\">        Klik berdasarkan jumlah bintang untuk menilai!      </p>,\n",
              " <p class=\"rmp-rating-widget__hover-text js-rmp-hover-text\"></p>,\n",
              " <p class=\"rmp-rating-widget__results js-rmp-results\">      Rata-rata nilai <span class=\"rmp-rating-widget__results__rating js-rmp-avg-rating\">4</span> / 5. Banyaknya vote: <span class=\"rmp-rating-widget__results__votes js-rmp-vote-count\">1</span> </p>,\n",
              " <p class=\"rmp-rating-widget__not-rated js-rmp-not-rated rmp-rating-widget__not-rated--hidden\">      Belum ada yang menilai! Yuk jadi yang pertama kali menilai!    </p>,\n",
              " <p class=\"rmp-rating-widget__msg js-rmp-msg\">\n",
              " </p>,\n",
              " <p></p>,\n",
              " <p></p>,\n",
              " <p class=\"comment-notes\"><span id=\"email-notes\">Alamat email Anda tidak akan dipublikasikan.</span> Ruas yang wajib ditandai <span class=\"required\">*</span></p>,\n",
              " <p class=\"comment-form-comment\"><label for=\"comment\">Komentar</label> <textarea cols=\"45\" id=\"comment\" maxlength=\"65525\" name=\"comment\" required=\"required\" rows=\"8\"></textarea></p>,\n",
              " <p class=\"comment-form-author\"><label for=\"author\">Nama <span class=\"required\">*</span></label> <input id=\"author\" maxlength=\"245\" name=\"author\" required=\"required\" size=\"30\" type=\"text\" value=\"\"/></p>,\n",
              " <p class=\"comment-form-email\"><label for=\"email\">Email <span class=\"required\">*</span></label> <input aria-describedby=\"email-notes\" id=\"email\" maxlength=\"100\" name=\"email\" required=\"required\" size=\"30\" type=\"text\" value=\"\"/></p>,\n",
              " <p class=\"comment-form-url\"><label for=\"url\">Situs Web</label> <input id=\"url\" maxlength=\"200\" name=\"url\" size=\"30\" type=\"text\" value=\"\"/></p>,\n",
              " <p class=\"form-submit\"><input class=\"submit\" id=\"submit\" name=\"submit\" type=\"submit\" value=\"Kirim Komentar\"/> <input id=\"comment_post_ID\" name=\"comment_post_ID\" type=\"hidden\" value=\"53021\"/>\n",
              " <input id=\"comment_parent\" name=\"comment_parent\" type=\"hidden\" value=\"0\"/>\n",
              " </p>,\n",
              " <p class=\"widget-title\">Cari Artikel</p>,\n",
              " <p class=\"widget-title\">Langganan via Email</p>,\n",
              " <p>Masukkan Email Anda:</p>,\n",
              " <p><input name=\"email\" style=\"width:180px\" type=\"text\"/></p>,\n",
              " <p class=\"widget-title\">Artikel Pilihan Editor</p>,\n",
              " <p> Berdasarkan DJ International Journal of Medical Research, obat merupakan hal pertama yang di pertimbangkan saat suatu penyakit menyerang. Dari zaman … </p>,\n",
              " <p> BepiColombo sedang di perjalanan sebelum mengorbit Merkurius tahun 2025. Bertemu dengan Merkurius minggu lalu, wahana buatan Eropa dan Jepang ini … </p>,\n",
              " <p> Komet Komet adalah benda langit yang mengelilingi matahari dengan garis edar berbentuk lonjong, parabolis, atau hiperbolis. Istilah “komet” berasal dari bahasa Yunani, kometes (κομήτης) yang berarti “rambut panjang”. Istilah lainnya adalah bintang berekor yang tidak … </p>,\n",
              " <p class=\"widget-title\">Artikel Terpopuler</p>,\n",
              " <p>\n",
              " <a class=\"rmp-tr-posts-widget__link\" href=\"https://warstek.com/bepicolombo/\">BepiColombo: Misi Satelit ke Planet Neraka, Merkurius</a>\n",
              " </p>,\n",
              " <p>\n",
              " <a class=\"rmp-tr-posts-widget__link\" href=\"https://warstek.com/sebelum-big-bang/\">Ada Apa Sebelum Big Bang? Ini Jawaban Peraih Nobel Fisika, Roger Penrose</a>\n",
              " </p>,\n",
              " <p>\n",
              " <a class=\"rmp-tr-posts-widget__link\" href=\"https://warstek.com/manajemen-bencana/\">Manajemen Bencana Dalam Perspektif Kesehatan Lingkungan dan Masyarakat</a>\n",
              " </p>,\n",
              " <p>\n",
              " <a class=\"rmp-tr-posts-widget__link\" href=\"https://warstek.com/bioinformatika-apa-sih-bioinformatika-itu/\">Bioinformatika, apa sih Bioinformatika itu?</a>\n",
              " </p>,\n",
              " <p>\n",
              " <a class=\"rmp-tr-posts-widget__link\" href=\"https://warstek.com/pancasila/\">Pancasila:  Pengertian, Sejarah, Butir, Nilai, dan Dasar Pandangan Hidup [Lengkap + Contoh Soal]</a>\n",
              " </p>,\n",
              " <p class=\"widget-title\">Artikel yang Terkait</p>,\n",
              " <p>Didesain dengan hati | Copyright Warstek.com 2021 </p>,\n",
              " <p><img alt=\"blank\" data-wpfc-original-src=\"http://warstek.com/wp-content/uploads/2017/12/footer-logo-copy-min.png\" height=\"50\" loading=\"lazy\" onload=\"Wpfcll.r(this,true);\" src=\"https://warstek.com/wp-content/plugins/wp-fastest-cache-premium/pro/images/blank.gif\" width=\"163\"/></p>,\n",
              " <p class=\"widget-title\">Kontak</p>,\n",
              " <p>Address: Jl. Sukolilo Baru gg. VI no 10 | Surabaya | Indonesia<br> Phone: (+62)87750118140<br> Email: warstek.jurnal@gmail.com<br> Office Hour: 08.00 WIB  – 15.00 WIB (Monday – Friday)</br></br></br></p>]"
            ]
          },
          "metadata": {},
          "execution_count": 8
        }
      ]
    },
    {
      "cell_type": "code",
      "metadata": {
        "colab": {
          "base_uri": "https://localhost:8080/"
        },
        "id": "K191Xpnyi-va",
        "outputId": "21990b55-dd02-4390-fcfa-9f67556040ef"
      },
      "source": [
        "full_text = []\n",
        "for paragraf in wp.find_all('p'):\n",
        "  full_text.append(paragraf.getText())\n",
        "\n",
        "full_text"
      ],
      "execution_count": 9,
      "outputs": [
        {
          "output_type": "execute_result",
          "data": {
            "text/plain": [
              "['Sains dan Teknologi yang Seru dan Menyenangkan',\n",
              " 'Kertas yang kita kenal sehari-hari merupakan suatu  lembaran yang memiliki sifat ringan, lunak, halus, mudah dibentuk, mudah terbakar, dan mudah sobek. Namun, tahukah Anda jika kertas dapat berubah menjadi sesuatu yang kuat bahkan dapat dijadikan sebuah perisai dalam sebuah pertarungan? ',\n",
              " '',\n",
              " 'Gambar 1: Pertarungan Taiju melawan pasukan Tsukasa dengan menggunakan kertas ajaib sebagai perisai (Sumber: duniagames.co.id)',\n",
              " 'Secara logika, rasanya memang tidak mungkin sebuah lembaran yang lunak dan mudah sobek seperti kertas dapat menjadi sesuatu kuat bak besi atau beton. Namun logika tersebut terbantahkan berdasarkan percobaan yang dilakukan oleh Senku Ishigami (tokoh dalam anime Dr. Stone) yang membuat perisai kertas untuk pelapis kereta uap dengan menggunakan prinsip ilmu kimia dalam proses pembuatannya. ',\n",
              " 'Berawal dari usaha kerajaan sains (yang dipimpin oleh Senku) ingin menyelamatkan Chrome dari pasukan Tsukasa, maka untuk menghindari perlawanan musuh dan menghindari adanya pertumpahan darah, Senku berinisiatif untuk menambah kekuatan alutsistanya yaitu steam gorila (kereta uap) dengan dilapisi perisai yang memiliki kekuatan seperti besi. ',\n",
              " 'Langkah pertama, Senku membuat kertas ajaib tersebut dari rumput dengan proses perebusan. Langkah kedua, Senku menambahkan sodium hidroksida (NaOH) untuk melunakkan rumput tersebut. Langkah ketiga, rumput yang telah direbus dengan NaOH akan menjadi lengket lalu kemudian angkat dan rumput tersebut dibersihkan dengan air bersih. Langkah keempat, Senku menghaluskan rumput dengan cara ditumbuk. Langkah kelima, Senku mengeringkan dan membentuk rumput tersebut seperti kertas dan berfungsi sebagai perisai untuk pasukannya. Langkah terakhir, Senku menambahkan resin alami yang dapat memberikan efek penguat dan pengeras yang sangat baik. ',\n",
              " '',\n",
              " 'Gambar 2: Senku melapisi kertas ajaibnya dengan resin alami dengan menggunakan lilin lebah cair (Sumber: benigmatica.wordpress.com)',\n",
              " 'Penggabungan fleksibilitas kertas dan kerasnya sifat plastik yang berasal dari resin akan menciptakan serat karbon. Dan pembuatan kertas ajaib ini dapat dicoba di rumah karena alat dan bahan yang digunakan sangat sederhana dan juga sebagai ajang pembuktian jika Anda masih ragu dalam kekuatan kertas ajaib tersebut. ',\n",
              " '',\n",
              " 'Gambar 3: Kinro teman Senku sedang mengetes kekuatan kertas ajaib yang telah dibuat (benigmatica.wordpress.com)',\n",
              " 'Hasilnya tombak Kinro yang hancur, sementara kertas ajaibnya hanya penyok saja dan berhasil menjadi perisai dari serangan tombak yang sangat cepat dan keras. ',\n",
              " '',\n",
              " 'Gambar 4: Tombak Kinro hancur setelah menghantam kertas ajaib Senku (Sumber: benigmatica.wordpress.com)',\n",
              " 'Percobaan Senku ternyata bukan imajinasi belaka. Hakikatnya, konsep kimia (yaitu serat karbon) yang dilakukan Senku sudah diterapkan di dunia otomotif, roket, dan moda transportasi.',\n",
              " 'Menurut Dinur (2019) menyatakan penggunaan material seperti serat karbon mulai banyak digunakan dalam dunia industri karena memiliki karakteristik yang mampu memenuhi tuntutan teknologi seperti ringan, tahan terhadap temperatur tinggi, dan tahan fatik (rusak). ',\n",
              " 'Selain itu, serat karbon juga memiliki ketahanan terhadap korosi, 70% lebih ringan dari baja dan 40% dari aluminium, dan memperkuat struktur benda yang dilapisi serat tersebut.',\n",
              " 'Kesimpulannya, dari anime Dr. Stone yang menampilkan percobaan mengenai pembuatan serat karbon dalam bentuk kertas ajaib (digunakan sebagai perisai ketahanan dan penambah kekuatan) memberikan wawasan kepada kita agar bisa memanfaatkan sumber daya yang ada disekitar untuk dijadikan sesuatu yang memiliki nilai guna. Selain itu, juga mengajarkan kita untuk dapat berekreasi dan produktif di manapun dan kapanpun kita berada. ',\n",
              " 'Referensi : ',\n",
              " '',\n",
              " '        Setelah selesai membaca, yuk berikan artikel ini penilaian!      ',\n",
              " '        Klik berdasarkan jumlah bintang untuk menilai!      ',\n",
              " '',\n",
              " '      Rata-rata nilai 4 / 5. Banyaknya vote: 1 ',\n",
              " '      Belum ada yang menilai! Yuk jadi yang pertama kali menilai!    ',\n",
              " '\\n',\n",
              " '',\n",
              " '',\n",
              " 'Alamat email Anda tidak akan dipublikasikan. Ruas yang wajib ditandai *',\n",
              " 'Komentar ',\n",
              " 'Nama * ',\n",
              " 'Email * ',\n",
              " 'Situs Web ',\n",
              " ' \\n\\n',\n",
              " 'Cari Artikel',\n",
              " 'Langganan via Email',\n",
              " 'Masukkan Email Anda:',\n",
              " '',\n",
              " 'Artikel Pilihan Editor',\n",
              " ' Berdasarkan DJ International Journal of Medical Research, obat merupakan hal pertama yang di pertimbangkan saat suatu penyakit menyerang. Dari zaman … ',\n",
              " ' BepiColombo sedang di perjalanan sebelum mengorbit Merkurius tahun 2025. Bertemu dengan Merkurius minggu lalu, wahana buatan Eropa dan Jepang ini … ',\n",
              " ' Komet Komet\\xa0adalah benda\\xa0langit\\xa0yang mengelilingi\\xa0matahari\\xa0dengan\\xa0garis edar\\xa0berbentuk\\xa0lonjong,\\xa0parabolis, atau\\xa0hiperbolis. Istilah “komet” berasal dari\\xa0bahasa Yunani,\\xa0kometes\\xa0(κομήτης) yang berarti “rambut panjang”.\\xa0Istilah lainnya adalah\\xa0bintang berekor yang tidak … ',\n",
              " 'Artikel Terpopuler',\n",
              " '\\nBepiColombo: Misi Satelit ke Planet Neraka, Merkurius\\n',\n",
              " '\\nAda Apa Sebelum Big Bang? Ini Jawaban Peraih Nobel Fisika, Roger Penrose\\n',\n",
              " '\\nManajemen Bencana Dalam Perspektif Kesehatan Lingkungan dan Masyarakat\\n',\n",
              " '\\nBioinformatika, apa sih Bioinformatika itu?\\n',\n",
              " '\\nPancasila:  Pengertian, Sejarah, Butir, Nilai, dan Dasar Pandangan Hidup [Lengkap + Contoh Soal]\\n',\n",
              " 'Artikel yang Terkait',\n",
              " 'Didesain dengan hati | Copyright Warstek.com 2021 ',\n",
              " '',\n",
              " 'Kontak',\n",
              " 'Address: Jl. Sukolilo Baru gg. VI no 10 | Surabaya | Indonesia Phone: (+62)87750118140 Email: warstek.jurnal@gmail.com Office Hour: 08.00 WIB \\xa0– 15.00 WIB (Monday – Friday)']"
            ]
          },
          "metadata": {},
          "execution_count": 9
        }
      ]
    },
    {
      "cell_type": "code",
      "metadata": {
        "colab": {
          "base_uri": "https://localhost:8080/"
        },
        "id": "Eja6-TXQjBZR",
        "outputId": "3d57eddc-11ef-47e2-ade8-f1876407434d"
      },
      "source": [
        "full_text = [paragraf.strip() for paragraf in full_text if paragraf != \"\"]\n",
        "full_text"
      ],
      "execution_count": 10,
      "outputs": [
        {
          "output_type": "execute_result",
          "data": {
            "text/plain": [
              "['Sains dan Teknologi yang Seru dan Menyenangkan',\n",
              " 'Kertas yang kita kenal sehari-hari merupakan suatu  lembaran yang memiliki sifat ringan, lunak, halus, mudah dibentuk, mudah terbakar, dan mudah sobek. Namun, tahukah Anda jika kertas dapat berubah menjadi sesuatu yang kuat bahkan dapat dijadikan sebuah perisai dalam sebuah pertarungan?',\n",
              " 'Gambar 1: Pertarungan Taiju melawan pasukan Tsukasa dengan menggunakan kertas ajaib sebagai perisai (Sumber: duniagames.co.id)',\n",
              " 'Secara logika, rasanya memang tidak mungkin sebuah lembaran yang lunak dan mudah sobek seperti kertas dapat menjadi sesuatu kuat bak besi atau beton. Namun logika tersebut terbantahkan berdasarkan percobaan yang dilakukan oleh Senku Ishigami (tokoh dalam anime Dr. Stone) yang membuat perisai kertas untuk pelapis kereta uap dengan menggunakan prinsip ilmu kimia dalam proses pembuatannya.',\n",
              " 'Berawal dari usaha kerajaan sains (yang dipimpin oleh Senku) ingin menyelamatkan Chrome dari pasukan Tsukasa, maka untuk menghindari perlawanan musuh dan menghindari adanya pertumpahan darah, Senku berinisiatif untuk menambah kekuatan alutsistanya yaitu steam gorila (kereta uap) dengan dilapisi perisai yang memiliki kekuatan seperti besi.',\n",
              " 'Langkah pertama, Senku membuat kertas ajaib tersebut dari rumput dengan proses perebusan. Langkah kedua, Senku menambahkan sodium hidroksida (NaOH) untuk melunakkan rumput tersebut. Langkah ketiga, rumput yang telah direbus dengan NaOH akan menjadi lengket lalu kemudian angkat dan rumput tersebut dibersihkan dengan air bersih. Langkah keempat, Senku menghaluskan rumput dengan cara ditumbuk. Langkah kelima, Senku mengeringkan dan membentuk rumput tersebut seperti kertas dan berfungsi sebagai perisai untuk pasukannya. Langkah terakhir, Senku menambahkan resin alami yang dapat memberikan efek penguat dan pengeras yang sangat baik.',\n",
              " 'Gambar 2: Senku melapisi kertas ajaibnya dengan resin alami dengan menggunakan lilin lebah cair (Sumber: benigmatica.wordpress.com)',\n",
              " 'Penggabungan fleksibilitas kertas dan kerasnya sifat plastik yang berasal dari resin akan menciptakan serat karbon. Dan pembuatan kertas ajaib ini dapat dicoba di rumah karena alat dan bahan yang digunakan sangat sederhana dan juga sebagai ajang pembuktian jika Anda masih ragu dalam kekuatan kertas ajaib tersebut.',\n",
              " 'Gambar 3: Kinro teman Senku sedang mengetes kekuatan kertas ajaib yang telah dibuat (benigmatica.wordpress.com)',\n",
              " 'Hasilnya tombak Kinro yang hancur, sementara kertas ajaibnya hanya penyok saja dan berhasil menjadi perisai dari serangan tombak yang sangat cepat dan keras.',\n",
              " 'Gambar 4: Tombak Kinro hancur setelah menghantam kertas ajaib Senku (Sumber: benigmatica.wordpress.com)',\n",
              " 'Percobaan Senku ternyata bukan imajinasi belaka. Hakikatnya, konsep kimia (yaitu serat karbon) yang dilakukan Senku sudah diterapkan di dunia otomotif, roket, dan moda transportasi.',\n",
              " 'Menurut Dinur (2019) menyatakan penggunaan material seperti serat karbon mulai banyak digunakan dalam dunia industri karena memiliki karakteristik yang mampu memenuhi tuntutan teknologi seperti ringan, tahan terhadap temperatur tinggi, dan tahan fatik (rusak).',\n",
              " 'Selain itu, serat karbon juga memiliki ketahanan terhadap korosi, 70% lebih ringan dari baja dan 40% dari aluminium, dan memperkuat struktur benda yang dilapisi serat tersebut.',\n",
              " 'Kesimpulannya, dari anime Dr. Stone yang menampilkan percobaan mengenai pembuatan serat karbon dalam bentuk kertas ajaib (digunakan sebagai perisai ketahanan dan penambah kekuatan) memberikan wawasan kepada kita agar bisa memanfaatkan sumber daya yang ada disekitar untuk dijadikan sesuatu yang memiliki nilai guna. Selain itu, juga mengajarkan kita untuk dapat berekreasi dan produktif di manapun dan kapanpun kita berada.',\n",
              " 'Referensi :',\n",
              " 'Setelah selesai membaca, yuk berikan artikel ini penilaian!',\n",
              " 'Klik berdasarkan jumlah bintang untuk menilai!',\n",
              " 'Rata-rata nilai 4 / 5. Banyaknya vote: 1',\n",
              " 'Belum ada yang menilai! Yuk jadi yang pertama kali menilai!',\n",
              " '',\n",
              " 'Alamat email Anda tidak akan dipublikasikan. Ruas yang wajib ditandai *',\n",
              " 'Komentar',\n",
              " 'Nama *',\n",
              " 'Email *',\n",
              " 'Situs Web',\n",
              " '',\n",
              " 'Cari Artikel',\n",
              " 'Langganan via Email',\n",
              " 'Masukkan Email Anda:',\n",
              " 'Artikel Pilihan Editor',\n",
              " 'Berdasarkan DJ International Journal of Medical Research, obat merupakan hal pertama yang di pertimbangkan saat suatu penyakit menyerang. Dari zaman …',\n",
              " 'BepiColombo sedang di perjalanan sebelum mengorbit Merkurius tahun 2025. Bertemu dengan Merkurius minggu lalu, wahana buatan Eropa dan Jepang ini …',\n",
              " 'Komet Komet\\xa0adalah benda\\xa0langit\\xa0yang mengelilingi\\xa0matahari\\xa0dengan\\xa0garis edar\\xa0berbentuk\\xa0lonjong,\\xa0parabolis, atau\\xa0hiperbolis. Istilah “komet” berasal dari\\xa0bahasa Yunani,\\xa0kometes\\xa0(κομήτης) yang berarti “rambut panjang”.\\xa0Istilah lainnya adalah\\xa0bintang berekor yang tidak …',\n",
              " 'Artikel Terpopuler',\n",
              " 'BepiColombo: Misi Satelit ke Planet Neraka, Merkurius',\n",
              " 'Ada Apa Sebelum Big Bang? Ini Jawaban Peraih Nobel Fisika, Roger Penrose',\n",
              " 'Manajemen Bencana Dalam Perspektif Kesehatan Lingkungan dan Masyarakat',\n",
              " 'Bioinformatika, apa sih Bioinformatika itu?',\n",
              " 'Pancasila:  Pengertian, Sejarah, Butir, Nilai, dan Dasar Pandangan Hidup [Lengkap + Contoh Soal]',\n",
              " 'Artikel yang Terkait',\n",
              " 'Didesain dengan hati | Copyright Warstek.com 2021',\n",
              " 'Kontak',\n",
              " 'Address: Jl. Sukolilo Baru gg. VI no 10 | Surabaya | Indonesia Phone: (+62)87750118140 Email: warstek.jurnal@gmail.com Office Hour: 08.00 WIB \\xa0– 15.00 WIB (Monday – Friday)']"
            ]
          },
          "metadata": {},
          "execution_count": 10
        }
      ]
    },
    {
      "cell_type": "code",
      "metadata": {
        "colab": {
          "base_uri": "https://localhost:8080/",
          "height": 118
        },
        "id": "QE8PYQ3qjDVp",
        "outputId": "adec1b2c-1d63-47d2-f63c-3751b0adf397"
      },
      "source": [
        "full_text = ' '.join(full_text)\n",
        "full_text"
      ],
      "execution_count": 11,
      "outputs": [
        {
          "output_type": "execute_result",
          "data": {
            "application/vnd.google.colaboratory.intrinsic+json": {
              "type": "string"
            },
            "text/plain": [
              "'Sains dan Teknologi yang Seru dan Menyenangkan Kertas yang kita kenal sehari-hari merupakan suatu  lembaran yang memiliki sifat ringan, lunak, halus, mudah dibentuk, mudah terbakar, dan mudah sobek. Namun, tahukah Anda jika kertas dapat berubah menjadi sesuatu yang kuat bahkan dapat dijadikan sebuah perisai dalam sebuah pertarungan? Gambar 1: Pertarungan Taiju melawan pasukan Tsukasa dengan menggunakan kertas ajaib sebagai perisai (Sumber: duniagames.co.id) Secara logika, rasanya memang tidak mungkin sebuah lembaran yang lunak dan mudah sobek seperti kertas dapat menjadi sesuatu kuat bak besi atau beton. Namun logika tersebut terbantahkan berdasarkan percobaan yang dilakukan oleh Senku Ishigami (tokoh dalam anime Dr. Stone) yang membuat perisai kertas untuk pelapis kereta uap dengan menggunakan prinsip ilmu kimia dalam proses pembuatannya. Berawal dari usaha kerajaan sains (yang dipimpin oleh Senku) ingin menyelamatkan Chrome dari pasukan Tsukasa, maka untuk menghindari perlawanan musuh dan menghindari adanya pertumpahan darah, Senku berinisiatif untuk menambah kekuatan alutsistanya yaitu steam gorila (kereta uap) dengan dilapisi perisai yang memiliki kekuatan seperti besi. Langkah pertama, Senku membuat kertas ajaib tersebut dari rumput dengan proses perebusan. Langkah kedua, Senku menambahkan sodium hidroksida (NaOH) untuk melunakkan rumput tersebut. Langkah ketiga, rumput yang telah direbus dengan NaOH akan menjadi lengket lalu kemudian angkat dan rumput tersebut dibersihkan dengan air bersih. Langkah keempat, Senku menghaluskan rumput dengan cara ditumbuk. Langkah kelima, Senku mengeringkan dan membentuk rumput tersebut seperti kertas dan berfungsi sebagai perisai untuk pasukannya. Langkah terakhir, Senku menambahkan resin alami yang dapat memberikan efek penguat dan pengeras yang sangat baik. Gambar 2: Senku melapisi kertas ajaibnya dengan resin alami dengan menggunakan lilin lebah cair (Sumber: benigmatica.wordpress.com) Penggabungan fleksibilitas kertas dan kerasnya sifat plastik yang berasal dari resin akan menciptakan serat karbon. Dan pembuatan kertas ajaib ini dapat dicoba di rumah karena alat dan bahan yang digunakan sangat sederhana dan juga sebagai ajang pembuktian jika Anda masih ragu dalam kekuatan kertas ajaib tersebut. Gambar 3: Kinro teman Senku sedang mengetes kekuatan kertas ajaib yang telah dibuat (benigmatica.wordpress.com) Hasilnya tombak Kinro yang hancur, sementara kertas ajaibnya hanya penyok saja dan berhasil menjadi perisai dari serangan tombak yang sangat cepat dan keras. Gambar 4: Tombak Kinro hancur setelah menghantam kertas ajaib Senku (Sumber: benigmatica.wordpress.com) Percobaan Senku ternyata bukan imajinasi belaka. Hakikatnya, konsep kimia (yaitu serat karbon) yang dilakukan Senku sudah diterapkan di dunia otomotif, roket, dan moda transportasi. Menurut Dinur (2019) menyatakan penggunaan material seperti serat karbon mulai banyak digunakan dalam dunia industri karena memiliki karakteristik yang mampu memenuhi tuntutan teknologi seperti ringan, tahan terhadap temperatur tinggi, dan tahan fatik (rusak). Selain itu, serat karbon juga memiliki ketahanan terhadap korosi, 70% lebih ringan dari baja dan 40% dari aluminium, dan memperkuat struktur benda yang dilapisi serat tersebut. Kesimpulannya, dari anime Dr. Stone yang menampilkan percobaan mengenai pembuatan serat karbon dalam bentuk kertas ajaib (digunakan sebagai perisai ketahanan dan penambah kekuatan) memberikan wawasan kepada kita agar bisa memanfaatkan sumber daya yang ada disekitar untuk dijadikan sesuatu yang memiliki nilai guna. Selain itu, juga mengajarkan kita untuk dapat berekreasi dan produktif di manapun dan kapanpun kita berada. Referensi : Setelah selesai membaca, yuk berikan artikel ini penilaian! Klik berdasarkan jumlah bintang untuk menilai! Rata-rata nilai 4 / 5. Banyaknya vote: 1 Belum ada yang menilai! Yuk jadi yang pertama kali menilai!  Alamat email Anda tidak akan dipublikasikan. Ruas yang wajib ditandai * Komentar Nama * Email * Situs Web  Cari Artikel Langganan via Email Masukkan Email Anda: Artikel Pilihan Editor Berdasarkan DJ International Journal of Medical Research, obat merupakan hal pertama yang di pertimbangkan saat suatu penyakit menyerang. Dari zaman … BepiColombo sedang di perjalanan sebelum mengorbit Merkurius tahun 2025. Bertemu dengan Merkurius minggu lalu, wahana buatan Eropa dan Jepang ini … Komet Komet\\xa0adalah benda\\xa0langit\\xa0yang mengelilingi\\xa0matahari\\xa0dengan\\xa0garis edar\\xa0berbentuk\\xa0lonjong,\\xa0parabolis, atau\\xa0hiperbolis. Istilah “komet” berasal dari\\xa0bahasa Yunani,\\xa0kometes\\xa0(κομήτης) yang berarti “rambut panjang”.\\xa0Istilah lainnya adalah\\xa0bintang berekor yang tidak … Artikel Terpopuler BepiColombo: Misi Satelit ke Planet Neraka, Merkurius Ada Apa Sebelum Big Bang? Ini Jawaban Peraih Nobel Fisika, Roger Penrose Manajemen Bencana Dalam Perspektif Kesehatan Lingkungan dan Masyarakat Bioinformatika, apa sih Bioinformatika itu? Pancasila:  Pengertian, Sejarah, Butir, Nilai, dan Dasar Pandangan Hidup [Lengkap + Contoh Soal] Artikel yang Terkait Didesain dengan hati | Copyright Warstek.com 2021 Kontak Address: Jl. Sukolilo Baru gg. VI no 10 | Surabaya | Indonesia Phone: (+62)87750118140 Email: warstek.jurnal@gmail.com Office Hour: 08.00 WIB \\xa0– 15.00 WIB (Monday – Friday)'"
            ]
          },
          "metadata": {},
          "execution_count": 11
        }
      ]
    },
    {
      "cell_type": "code",
      "metadata": {
        "id": "W6DjqHRzjFqZ"
      },
      "source": [
        "# NLTK, library NLP di bahasa pemrograman python\n",
        "import nltk\n",
        "\n",
        "# Regex (re), library untuk mengenali dan memanipulasi pola text\n",
        "import re\n",
        "\n",
        "from nltk.corpus import stopwords\n",
        "from nltk.stem import PorterStemmer\n",
        "from nltk.stem import WordNetLemmatizer\n",
        "from nltk import word_tokenize\n",
        "import requests"
      ],
      "execution_count": 12,
      "outputs": []
    },
    {
      "cell_type": "code",
      "metadata": {
        "colab": {
          "base_uri": "https://localhost:8080/",
          "height": 118
        },
        "id": "DyZ1mfmajIKB",
        "outputId": "521ce4f5-5287-4897-e3c6-e425784a860f"
      },
      "source": [
        "text = full_text.lower()\n",
        "text"
      ],
      "execution_count": 13,
      "outputs": [
        {
          "output_type": "execute_result",
          "data": {
            "application/vnd.google.colaboratory.intrinsic+json": {
              "type": "string"
            },
            "text/plain": [
              "'sains dan teknologi yang seru dan menyenangkan kertas yang kita kenal sehari-hari merupakan suatu  lembaran yang memiliki sifat ringan, lunak, halus, mudah dibentuk, mudah terbakar, dan mudah sobek. namun, tahukah anda jika kertas dapat berubah menjadi sesuatu yang kuat bahkan dapat dijadikan sebuah perisai dalam sebuah pertarungan? gambar 1: pertarungan taiju melawan pasukan tsukasa dengan menggunakan kertas ajaib sebagai perisai (sumber: duniagames.co.id) secara logika, rasanya memang tidak mungkin sebuah lembaran yang lunak dan mudah sobek seperti kertas dapat menjadi sesuatu kuat bak besi atau beton. namun logika tersebut terbantahkan berdasarkan percobaan yang dilakukan oleh senku ishigami (tokoh dalam anime dr. stone) yang membuat perisai kertas untuk pelapis kereta uap dengan menggunakan prinsip ilmu kimia dalam proses pembuatannya. berawal dari usaha kerajaan sains (yang dipimpin oleh senku) ingin menyelamatkan chrome dari pasukan tsukasa, maka untuk menghindari perlawanan musuh dan menghindari adanya pertumpahan darah, senku berinisiatif untuk menambah kekuatan alutsistanya yaitu steam gorila (kereta uap) dengan dilapisi perisai yang memiliki kekuatan seperti besi. langkah pertama, senku membuat kertas ajaib tersebut dari rumput dengan proses perebusan. langkah kedua, senku menambahkan sodium hidroksida (naoh) untuk melunakkan rumput tersebut. langkah ketiga, rumput yang telah direbus dengan naoh akan menjadi lengket lalu kemudian angkat dan rumput tersebut dibersihkan dengan air bersih. langkah keempat, senku menghaluskan rumput dengan cara ditumbuk. langkah kelima, senku mengeringkan dan membentuk rumput tersebut seperti kertas dan berfungsi sebagai perisai untuk pasukannya. langkah terakhir, senku menambahkan resin alami yang dapat memberikan efek penguat dan pengeras yang sangat baik. gambar 2: senku melapisi kertas ajaibnya dengan resin alami dengan menggunakan lilin lebah cair (sumber: benigmatica.wordpress.com) penggabungan fleksibilitas kertas dan kerasnya sifat plastik yang berasal dari resin akan menciptakan serat karbon. dan pembuatan kertas ajaib ini dapat dicoba di rumah karena alat dan bahan yang digunakan sangat sederhana dan juga sebagai ajang pembuktian jika anda masih ragu dalam kekuatan kertas ajaib tersebut. gambar 3: kinro teman senku sedang mengetes kekuatan kertas ajaib yang telah dibuat (benigmatica.wordpress.com) hasilnya tombak kinro yang hancur, sementara kertas ajaibnya hanya penyok saja dan berhasil menjadi perisai dari serangan tombak yang sangat cepat dan keras. gambar 4: tombak kinro hancur setelah menghantam kertas ajaib senku (sumber: benigmatica.wordpress.com) percobaan senku ternyata bukan imajinasi belaka. hakikatnya, konsep kimia (yaitu serat karbon) yang dilakukan senku sudah diterapkan di dunia otomotif, roket, dan moda transportasi. menurut dinur (2019) menyatakan penggunaan material seperti serat karbon mulai banyak digunakan dalam dunia industri karena memiliki karakteristik yang mampu memenuhi tuntutan teknologi seperti ringan, tahan terhadap temperatur tinggi, dan tahan fatik (rusak). selain itu, serat karbon juga memiliki ketahanan terhadap korosi, 70% lebih ringan dari baja dan 40% dari aluminium, dan memperkuat struktur benda yang dilapisi serat tersebut. kesimpulannya, dari anime dr. stone yang menampilkan percobaan mengenai pembuatan serat karbon dalam bentuk kertas ajaib (digunakan sebagai perisai ketahanan dan penambah kekuatan) memberikan wawasan kepada kita agar bisa memanfaatkan sumber daya yang ada disekitar untuk dijadikan sesuatu yang memiliki nilai guna. selain itu, juga mengajarkan kita untuk dapat berekreasi dan produktif di manapun dan kapanpun kita berada. referensi : setelah selesai membaca, yuk berikan artikel ini penilaian! klik berdasarkan jumlah bintang untuk menilai! rata-rata nilai 4 / 5. banyaknya vote: 1 belum ada yang menilai! yuk jadi yang pertama kali menilai!  alamat email anda tidak akan dipublikasikan. ruas yang wajib ditandai * komentar nama * email * situs web  cari artikel langganan via email masukkan email anda: artikel pilihan editor berdasarkan dj international journal of medical research, obat merupakan hal pertama yang di pertimbangkan saat suatu penyakit menyerang. dari zaman … bepicolombo sedang di perjalanan sebelum mengorbit merkurius tahun 2025. bertemu dengan merkurius minggu lalu, wahana buatan eropa dan jepang ini … komet komet\\xa0adalah benda\\xa0langit\\xa0yang mengelilingi\\xa0matahari\\xa0dengan\\xa0garis edar\\xa0berbentuk\\xa0lonjong,\\xa0parabolis, atau\\xa0hiperbolis. istilah “komet” berasal dari\\xa0bahasa yunani,\\xa0kometes\\xa0(κομήτης) yang berarti “rambut panjang”.\\xa0istilah lainnya adalah\\xa0bintang berekor yang tidak … artikel terpopuler bepicolombo: misi satelit ke planet neraka, merkurius ada apa sebelum big bang? ini jawaban peraih nobel fisika, roger penrose manajemen bencana dalam perspektif kesehatan lingkungan dan masyarakat bioinformatika, apa sih bioinformatika itu? pancasila:  pengertian, sejarah, butir, nilai, dan dasar pandangan hidup [lengkap + contoh soal] artikel yang terkait didesain dengan hati | copyright warstek.com 2021 kontak address: jl. sukolilo baru gg. vi no 10 | surabaya | indonesia phone: (+62)87750118140 email: warstek.jurnal@gmail.com office hour: 08.00 wib \\xa0– 15.00 wib (monday – friday)'"
            ]
          },
          "metadata": {},
          "execution_count": 13
        }
      ]
    },
    {
      "cell_type": "code",
      "metadata": {
        "colab": {
          "base_uri": "https://localhost:8080/",
          "height": 118
        },
        "id": "Kc7vfsFzjNeZ",
        "outputId": "3bed5eda-e9a0-461e-84cd-5948d1333e50"
      },
      "source": [
        "text = re.sub(r\"[-()\\\"#/@;:<>{}`+=~|.!?,]\", \"\", text)\n",
        "text"
      ],
      "execution_count": 14,
      "outputs": [
        {
          "output_type": "execute_result",
          "data": {
            "application/vnd.google.colaboratory.intrinsic+json": {
              "type": "string"
            },
            "text/plain": [
              "'sains dan teknologi yang seru dan menyenangkan kertas yang kita kenal seharihari merupakan suatu  lembaran yang memiliki sifat ringan lunak halus mudah dibentuk mudah terbakar dan mudah sobek namun tahukah anda jika kertas dapat berubah menjadi sesuatu yang kuat bahkan dapat dijadikan sebuah perisai dalam sebuah pertarungan gambar 1 pertarungan taiju melawan pasukan tsukasa dengan menggunakan kertas ajaib sebagai perisai sumber duniagamescoid secara logika rasanya memang tidak mungkin sebuah lembaran yang lunak dan mudah sobek seperti kertas dapat menjadi sesuatu kuat bak besi atau beton namun logika tersebut terbantahkan berdasarkan percobaan yang dilakukan oleh senku ishigami tokoh dalam anime dr stone yang membuat perisai kertas untuk pelapis kereta uap dengan menggunakan prinsip ilmu kimia dalam proses pembuatannya berawal dari usaha kerajaan sains yang dipimpin oleh senku ingin menyelamatkan chrome dari pasukan tsukasa maka untuk menghindari perlawanan musuh dan menghindari adanya pertumpahan darah senku berinisiatif untuk menambah kekuatan alutsistanya yaitu steam gorila kereta uap dengan dilapisi perisai yang memiliki kekuatan seperti besi langkah pertama senku membuat kertas ajaib tersebut dari rumput dengan proses perebusan langkah kedua senku menambahkan sodium hidroksida naoh untuk melunakkan rumput tersebut langkah ketiga rumput yang telah direbus dengan naoh akan menjadi lengket lalu kemudian angkat dan rumput tersebut dibersihkan dengan air bersih langkah keempat senku menghaluskan rumput dengan cara ditumbuk langkah kelima senku mengeringkan dan membentuk rumput tersebut seperti kertas dan berfungsi sebagai perisai untuk pasukannya langkah terakhir senku menambahkan resin alami yang dapat memberikan efek penguat dan pengeras yang sangat baik gambar 2 senku melapisi kertas ajaibnya dengan resin alami dengan menggunakan lilin lebah cair sumber benigmaticawordpresscom penggabungan fleksibilitas kertas dan kerasnya sifat plastik yang berasal dari resin akan menciptakan serat karbon dan pembuatan kertas ajaib ini dapat dicoba di rumah karena alat dan bahan yang digunakan sangat sederhana dan juga sebagai ajang pembuktian jika anda masih ragu dalam kekuatan kertas ajaib tersebut gambar 3 kinro teman senku sedang mengetes kekuatan kertas ajaib yang telah dibuat benigmaticawordpresscom hasilnya tombak kinro yang hancur sementara kertas ajaibnya hanya penyok saja dan berhasil menjadi perisai dari serangan tombak yang sangat cepat dan keras gambar 4 tombak kinro hancur setelah menghantam kertas ajaib senku sumber benigmaticawordpresscom percobaan senku ternyata bukan imajinasi belaka hakikatnya konsep kimia yaitu serat karbon yang dilakukan senku sudah diterapkan di dunia otomotif roket dan moda transportasi menurut dinur 2019 menyatakan penggunaan material seperti serat karbon mulai banyak digunakan dalam dunia industri karena memiliki karakteristik yang mampu memenuhi tuntutan teknologi seperti ringan tahan terhadap temperatur tinggi dan tahan fatik rusak selain itu serat karbon juga memiliki ketahanan terhadap korosi 70% lebih ringan dari baja dan 40% dari aluminium dan memperkuat struktur benda yang dilapisi serat tersebut kesimpulannya dari anime dr stone yang menampilkan percobaan mengenai pembuatan serat karbon dalam bentuk kertas ajaib digunakan sebagai perisai ketahanan dan penambah kekuatan memberikan wawasan kepada kita agar bisa memanfaatkan sumber daya yang ada disekitar untuk dijadikan sesuatu yang memiliki nilai guna selain itu juga mengajarkan kita untuk dapat berekreasi dan produktif di manapun dan kapanpun kita berada referensi  setelah selesai membaca yuk berikan artikel ini penilaian klik berdasarkan jumlah bintang untuk menilai ratarata nilai 4  5 banyaknya vote 1 belum ada yang menilai yuk jadi yang pertama kali menilai  alamat email anda tidak akan dipublikasikan ruas yang wajib ditandai * komentar nama * email * situs web  cari artikel langganan via email masukkan email anda artikel pilihan editor berdasarkan dj international journal of medical research obat merupakan hal pertama yang di pertimbangkan saat suatu penyakit menyerang dari zaman … bepicolombo sedang di perjalanan sebelum mengorbit merkurius tahun 2025 bertemu dengan merkurius minggu lalu wahana buatan eropa dan jepang ini … komet komet\\xa0adalah benda\\xa0langit\\xa0yang mengelilingi\\xa0matahari\\xa0dengan\\xa0garis edar\\xa0berbentuk\\xa0lonjong\\xa0parabolis atau\\xa0hiperbolis istilah “komet” berasal dari\\xa0bahasa yunani\\xa0kometes\\xa0κομήτης yang berarti “rambut panjang”\\xa0istilah lainnya adalah\\xa0bintang berekor yang tidak … artikel terpopuler bepicolombo misi satelit ke planet neraka merkurius ada apa sebelum big bang ini jawaban peraih nobel fisika roger penrose manajemen bencana dalam perspektif kesehatan lingkungan dan masyarakat bioinformatika apa sih bioinformatika itu pancasila  pengertian sejarah butir nilai dan dasar pandangan hidup [lengkap  contoh soal] artikel yang terkait didesain dengan hati  copyright warstekcom 2021 kontak address jl sukolilo baru gg vi no 10  surabaya  indonesia phone 6287750118140 email warstekjurnalgmailcom office hour 0800 wib \\xa0– 1500 wib monday – friday'"
            ]
          },
          "metadata": {},
          "execution_count": 14
        }
      ]
    },
    {
      "cell_type": "code",
      "metadata": {
        "colab": {
          "base_uri": "https://localhost:8080/"
        },
        "id": "tO4_xv_jjP6x",
        "outputId": "bdf5d4a3-8687-42e5-99cc-9fe8f74c79f9"
      },
      "source": [
        "nltk.download('punkt')\n",
        "nltk.download('stopwords')\n",
        "nltk.download('wordnet')"
      ],
      "execution_count": 15,
      "outputs": [
        {
          "output_type": "stream",
          "name": "stdout",
          "text": [
            "[nltk_data] Downloading package punkt to /root/nltk_data...\n",
            "[nltk_data]   Unzipping tokenizers/punkt.zip.\n",
            "[nltk_data] Downloading package stopwords to /root/nltk_data...\n",
            "[nltk_data]   Unzipping corpora/stopwords.zip.\n",
            "[nltk_data] Downloading package wordnet to /root/nltk_data...\n",
            "[nltk_data]   Unzipping corpora/wordnet.zip.\n"
          ]
        },
        {
          "output_type": "execute_result",
          "data": {
            "text/plain": [
              "True"
            ]
          },
          "metadata": {},
          "execution_count": 15
        }
      ]
    },
    {
      "cell_type": "code",
      "metadata": {
        "colab": {
          "base_uri": "https://localhost:8080/"
        },
        "id": "HtjlMAZgjS9K",
        "outputId": "b0806de5-8d29-4f76-90a5-f8974b0a2c1a"
      },
      "source": [
        "token = word_tokenize(text)\n",
        "token"
      ],
      "execution_count": 16,
      "outputs": [
        {
          "output_type": "execute_result",
          "data": {
            "text/plain": [
              "['sains',\n",
              " 'dan',\n",
              " 'teknologi',\n",
              " 'yang',\n",
              " 'seru',\n",
              " 'dan',\n",
              " 'menyenangkan',\n",
              " 'kertas',\n",
              " 'yang',\n",
              " 'kita',\n",
              " 'kenal',\n",
              " 'seharihari',\n",
              " 'merupakan',\n",
              " 'suatu',\n",
              " 'lembaran',\n",
              " 'yang',\n",
              " 'memiliki',\n",
              " 'sifat',\n",
              " 'ringan',\n",
              " 'lunak',\n",
              " 'halus',\n",
              " 'mudah',\n",
              " 'dibentuk',\n",
              " 'mudah',\n",
              " 'terbakar',\n",
              " 'dan',\n",
              " 'mudah',\n",
              " 'sobek',\n",
              " 'namun',\n",
              " 'tahukah',\n",
              " 'anda',\n",
              " 'jika',\n",
              " 'kertas',\n",
              " 'dapat',\n",
              " 'berubah',\n",
              " 'menjadi',\n",
              " 'sesuatu',\n",
              " 'yang',\n",
              " 'kuat',\n",
              " 'bahkan',\n",
              " 'dapat',\n",
              " 'dijadikan',\n",
              " 'sebuah',\n",
              " 'perisai',\n",
              " 'dalam',\n",
              " 'sebuah',\n",
              " 'pertarungan',\n",
              " 'gambar',\n",
              " '1',\n",
              " 'pertarungan',\n",
              " 'taiju',\n",
              " 'melawan',\n",
              " 'pasukan',\n",
              " 'tsukasa',\n",
              " 'dengan',\n",
              " 'menggunakan',\n",
              " 'kertas',\n",
              " 'ajaib',\n",
              " 'sebagai',\n",
              " 'perisai',\n",
              " 'sumber',\n",
              " 'duniagamescoid',\n",
              " 'secara',\n",
              " 'logika',\n",
              " 'rasanya',\n",
              " 'memang',\n",
              " 'tidak',\n",
              " 'mungkin',\n",
              " 'sebuah',\n",
              " 'lembaran',\n",
              " 'yang',\n",
              " 'lunak',\n",
              " 'dan',\n",
              " 'mudah',\n",
              " 'sobek',\n",
              " 'seperti',\n",
              " 'kertas',\n",
              " 'dapat',\n",
              " 'menjadi',\n",
              " 'sesuatu',\n",
              " 'kuat',\n",
              " 'bak',\n",
              " 'besi',\n",
              " 'atau',\n",
              " 'beton',\n",
              " 'namun',\n",
              " 'logika',\n",
              " 'tersebut',\n",
              " 'terbantahkan',\n",
              " 'berdasarkan',\n",
              " 'percobaan',\n",
              " 'yang',\n",
              " 'dilakukan',\n",
              " 'oleh',\n",
              " 'senku',\n",
              " 'ishigami',\n",
              " 'tokoh',\n",
              " 'dalam',\n",
              " 'anime',\n",
              " 'dr',\n",
              " 'stone',\n",
              " 'yang',\n",
              " 'membuat',\n",
              " 'perisai',\n",
              " 'kertas',\n",
              " 'untuk',\n",
              " 'pelapis',\n",
              " 'kereta',\n",
              " 'uap',\n",
              " 'dengan',\n",
              " 'menggunakan',\n",
              " 'prinsip',\n",
              " 'ilmu',\n",
              " 'kimia',\n",
              " 'dalam',\n",
              " 'proses',\n",
              " 'pembuatannya',\n",
              " 'berawal',\n",
              " 'dari',\n",
              " 'usaha',\n",
              " 'kerajaan',\n",
              " 'sains',\n",
              " 'yang',\n",
              " 'dipimpin',\n",
              " 'oleh',\n",
              " 'senku',\n",
              " 'ingin',\n",
              " 'menyelamatkan',\n",
              " 'chrome',\n",
              " 'dari',\n",
              " 'pasukan',\n",
              " 'tsukasa',\n",
              " 'maka',\n",
              " 'untuk',\n",
              " 'menghindari',\n",
              " 'perlawanan',\n",
              " 'musuh',\n",
              " 'dan',\n",
              " 'menghindari',\n",
              " 'adanya',\n",
              " 'pertumpahan',\n",
              " 'darah',\n",
              " 'senku',\n",
              " 'berinisiatif',\n",
              " 'untuk',\n",
              " 'menambah',\n",
              " 'kekuatan',\n",
              " 'alutsistanya',\n",
              " 'yaitu',\n",
              " 'steam',\n",
              " 'gorila',\n",
              " 'kereta',\n",
              " 'uap',\n",
              " 'dengan',\n",
              " 'dilapisi',\n",
              " 'perisai',\n",
              " 'yang',\n",
              " 'memiliki',\n",
              " 'kekuatan',\n",
              " 'seperti',\n",
              " 'besi',\n",
              " 'langkah',\n",
              " 'pertama',\n",
              " 'senku',\n",
              " 'membuat',\n",
              " 'kertas',\n",
              " 'ajaib',\n",
              " 'tersebut',\n",
              " 'dari',\n",
              " 'rumput',\n",
              " 'dengan',\n",
              " 'proses',\n",
              " 'perebusan',\n",
              " 'langkah',\n",
              " 'kedua',\n",
              " 'senku',\n",
              " 'menambahkan',\n",
              " 'sodium',\n",
              " 'hidroksida',\n",
              " 'naoh',\n",
              " 'untuk',\n",
              " 'melunakkan',\n",
              " 'rumput',\n",
              " 'tersebut',\n",
              " 'langkah',\n",
              " 'ketiga',\n",
              " 'rumput',\n",
              " 'yang',\n",
              " 'telah',\n",
              " 'direbus',\n",
              " 'dengan',\n",
              " 'naoh',\n",
              " 'akan',\n",
              " 'menjadi',\n",
              " 'lengket',\n",
              " 'lalu',\n",
              " 'kemudian',\n",
              " 'angkat',\n",
              " 'dan',\n",
              " 'rumput',\n",
              " 'tersebut',\n",
              " 'dibersihkan',\n",
              " 'dengan',\n",
              " 'air',\n",
              " 'bersih',\n",
              " 'langkah',\n",
              " 'keempat',\n",
              " 'senku',\n",
              " 'menghaluskan',\n",
              " 'rumput',\n",
              " 'dengan',\n",
              " 'cara',\n",
              " 'ditumbuk',\n",
              " 'langkah',\n",
              " 'kelima',\n",
              " 'senku',\n",
              " 'mengeringkan',\n",
              " 'dan',\n",
              " 'membentuk',\n",
              " 'rumput',\n",
              " 'tersebut',\n",
              " 'seperti',\n",
              " 'kertas',\n",
              " 'dan',\n",
              " 'berfungsi',\n",
              " 'sebagai',\n",
              " 'perisai',\n",
              " 'untuk',\n",
              " 'pasukannya',\n",
              " 'langkah',\n",
              " 'terakhir',\n",
              " 'senku',\n",
              " 'menambahkan',\n",
              " 'resin',\n",
              " 'alami',\n",
              " 'yang',\n",
              " 'dapat',\n",
              " 'memberikan',\n",
              " 'efek',\n",
              " 'penguat',\n",
              " 'dan',\n",
              " 'pengeras',\n",
              " 'yang',\n",
              " 'sangat',\n",
              " 'baik',\n",
              " 'gambar',\n",
              " '2',\n",
              " 'senku',\n",
              " 'melapisi',\n",
              " 'kertas',\n",
              " 'ajaibnya',\n",
              " 'dengan',\n",
              " 'resin',\n",
              " 'alami',\n",
              " 'dengan',\n",
              " 'menggunakan',\n",
              " 'lilin',\n",
              " 'lebah',\n",
              " 'cair',\n",
              " 'sumber',\n",
              " 'benigmaticawordpresscom',\n",
              " 'penggabungan',\n",
              " 'fleksibilitas',\n",
              " 'kertas',\n",
              " 'dan',\n",
              " 'kerasnya',\n",
              " 'sifat',\n",
              " 'plastik',\n",
              " 'yang',\n",
              " 'berasal',\n",
              " 'dari',\n",
              " 'resin',\n",
              " 'akan',\n",
              " 'menciptakan',\n",
              " 'serat',\n",
              " 'karbon',\n",
              " 'dan',\n",
              " 'pembuatan',\n",
              " 'kertas',\n",
              " 'ajaib',\n",
              " 'ini',\n",
              " 'dapat',\n",
              " 'dicoba',\n",
              " 'di',\n",
              " 'rumah',\n",
              " 'karena',\n",
              " 'alat',\n",
              " 'dan',\n",
              " 'bahan',\n",
              " 'yang',\n",
              " 'digunakan',\n",
              " 'sangat',\n",
              " 'sederhana',\n",
              " 'dan',\n",
              " 'juga',\n",
              " 'sebagai',\n",
              " 'ajang',\n",
              " 'pembuktian',\n",
              " 'jika',\n",
              " 'anda',\n",
              " 'masih',\n",
              " 'ragu',\n",
              " 'dalam',\n",
              " 'kekuatan',\n",
              " 'kertas',\n",
              " 'ajaib',\n",
              " 'tersebut',\n",
              " 'gambar',\n",
              " '3',\n",
              " 'kinro',\n",
              " 'teman',\n",
              " 'senku',\n",
              " 'sedang',\n",
              " 'mengetes',\n",
              " 'kekuatan',\n",
              " 'kertas',\n",
              " 'ajaib',\n",
              " 'yang',\n",
              " 'telah',\n",
              " 'dibuat',\n",
              " 'benigmaticawordpresscom',\n",
              " 'hasilnya',\n",
              " 'tombak',\n",
              " 'kinro',\n",
              " 'yang',\n",
              " 'hancur',\n",
              " 'sementara',\n",
              " 'kertas',\n",
              " 'ajaibnya',\n",
              " 'hanya',\n",
              " 'penyok',\n",
              " 'saja',\n",
              " 'dan',\n",
              " 'berhasil',\n",
              " 'menjadi',\n",
              " 'perisai',\n",
              " 'dari',\n",
              " 'serangan',\n",
              " 'tombak',\n",
              " 'yang',\n",
              " 'sangat',\n",
              " 'cepat',\n",
              " 'dan',\n",
              " 'keras',\n",
              " 'gambar',\n",
              " '4',\n",
              " 'tombak',\n",
              " 'kinro',\n",
              " 'hancur',\n",
              " 'setelah',\n",
              " 'menghantam',\n",
              " 'kertas',\n",
              " 'ajaib',\n",
              " 'senku',\n",
              " 'sumber',\n",
              " 'benigmaticawordpresscom',\n",
              " 'percobaan',\n",
              " 'senku',\n",
              " 'ternyata',\n",
              " 'bukan',\n",
              " 'imajinasi',\n",
              " 'belaka',\n",
              " 'hakikatnya',\n",
              " 'konsep',\n",
              " 'kimia',\n",
              " 'yaitu',\n",
              " 'serat',\n",
              " 'karbon',\n",
              " 'yang',\n",
              " 'dilakukan',\n",
              " 'senku',\n",
              " 'sudah',\n",
              " 'diterapkan',\n",
              " 'di',\n",
              " 'dunia',\n",
              " 'otomotif',\n",
              " 'roket',\n",
              " 'dan',\n",
              " 'moda',\n",
              " 'transportasi',\n",
              " 'menurut',\n",
              " 'dinur',\n",
              " '2019',\n",
              " 'menyatakan',\n",
              " 'penggunaan',\n",
              " 'material',\n",
              " 'seperti',\n",
              " 'serat',\n",
              " 'karbon',\n",
              " 'mulai',\n",
              " 'banyak',\n",
              " 'digunakan',\n",
              " 'dalam',\n",
              " 'dunia',\n",
              " 'industri',\n",
              " 'karena',\n",
              " 'memiliki',\n",
              " 'karakteristik',\n",
              " 'yang',\n",
              " 'mampu',\n",
              " 'memenuhi',\n",
              " 'tuntutan',\n",
              " 'teknologi',\n",
              " 'seperti',\n",
              " 'ringan',\n",
              " 'tahan',\n",
              " 'terhadap',\n",
              " 'temperatur',\n",
              " 'tinggi',\n",
              " 'dan',\n",
              " 'tahan',\n",
              " 'fatik',\n",
              " 'rusak',\n",
              " 'selain',\n",
              " 'itu',\n",
              " 'serat',\n",
              " 'karbon',\n",
              " 'juga',\n",
              " 'memiliki',\n",
              " 'ketahanan',\n",
              " 'terhadap',\n",
              " 'korosi',\n",
              " '70',\n",
              " '%',\n",
              " 'lebih',\n",
              " 'ringan',\n",
              " 'dari',\n",
              " 'baja',\n",
              " 'dan',\n",
              " '40',\n",
              " '%',\n",
              " 'dari',\n",
              " 'aluminium',\n",
              " 'dan',\n",
              " 'memperkuat',\n",
              " 'struktur',\n",
              " 'benda',\n",
              " 'yang',\n",
              " 'dilapisi',\n",
              " 'serat',\n",
              " 'tersebut',\n",
              " 'kesimpulannya',\n",
              " 'dari',\n",
              " 'anime',\n",
              " 'dr',\n",
              " 'stone',\n",
              " 'yang',\n",
              " 'menampilkan',\n",
              " 'percobaan',\n",
              " 'mengenai',\n",
              " 'pembuatan',\n",
              " 'serat',\n",
              " 'karbon',\n",
              " 'dalam',\n",
              " 'bentuk',\n",
              " 'kertas',\n",
              " 'ajaib',\n",
              " 'digunakan',\n",
              " 'sebagai',\n",
              " 'perisai',\n",
              " 'ketahanan',\n",
              " 'dan',\n",
              " 'penambah',\n",
              " 'kekuatan',\n",
              " 'memberikan',\n",
              " 'wawasan',\n",
              " 'kepada',\n",
              " 'kita',\n",
              " 'agar',\n",
              " 'bisa',\n",
              " 'memanfaatkan',\n",
              " 'sumber',\n",
              " 'daya',\n",
              " 'yang',\n",
              " 'ada',\n",
              " 'disekitar',\n",
              " 'untuk',\n",
              " 'dijadikan',\n",
              " 'sesuatu',\n",
              " 'yang',\n",
              " 'memiliki',\n",
              " 'nilai',\n",
              " 'guna',\n",
              " 'selain',\n",
              " 'itu',\n",
              " 'juga',\n",
              " 'mengajarkan',\n",
              " 'kita',\n",
              " 'untuk',\n",
              " 'dapat',\n",
              " 'berekreasi',\n",
              " 'dan',\n",
              " 'produktif',\n",
              " 'di',\n",
              " 'manapun',\n",
              " 'dan',\n",
              " 'kapanpun',\n",
              " 'kita',\n",
              " 'berada',\n",
              " 'referensi',\n",
              " 'setelah',\n",
              " 'selesai',\n",
              " 'membaca',\n",
              " 'yuk',\n",
              " 'berikan',\n",
              " 'artikel',\n",
              " 'ini',\n",
              " 'penilaian',\n",
              " 'klik',\n",
              " 'berdasarkan',\n",
              " 'jumlah',\n",
              " 'bintang',\n",
              " 'untuk',\n",
              " 'menilai',\n",
              " 'ratarata',\n",
              " 'nilai',\n",
              " '4',\n",
              " '5',\n",
              " 'banyaknya',\n",
              " 'vote',\n",
              " '1',\n",
              " 'belum',\n",
              " 'ada',\n",
              " 'yang',\n",
              " 'menilai',\n",
              " 'yuk',\n",
              " 'jadi',\n",
              " 'yang',\n",
              " 'pertama',\n",
              " 'kali',\n",
              " 'menilai',\n",
              " 'alamat',\n",
              " 'email',\n",
              " 'anda',\n",
              " 'tidak',\n",
              " 'akan',\n",
              " 'dipublikasikan',\n",
              " 'ruas',\n",
              " 'yang',\n",
              " 'wajib',\n",
              " 'ditandai',\n",
              " '*',\n",
              " 'komentar',\n",
              " 'nama',\n",
              " '*',\n",
              " 'email',\n",
              " '*',\n",
              " 'situs',\n",
              " 'web',\n",
              " 'cari',\n",
              " 'artikel',\n",
              " 'langganan',\n",
              " 'via',\n",
              " 'email',\n",
              " 'masukkan',\n",
              " 'email',\n",
              " 'anda',\n",
              " 'artikel',\n",
              " 'pilihan',\n",
              " 'editor',\n",
              " 'berdasarkan',\n",
              " 'dj',\n",
              " 'international',\n",
              " 'journal',\n",
              " 'of',\n",
              " 'medical',\n",
              " 'research',\n",
              " 'obat',\n",
              " 'merupakan',\n",
              " 'hal',\n",
              " 'pertama',\n",
              " 'yang',\n",
              " 'di',\n",
              " 'pertimbangkan',\n",
              " 'saat',\n",
              " 'suatu',\n",
              " 'penyakit',\n",
              " 'menyerang',\n",
              " 'dari',\n",
              " 'zaman',\n",
              " '…',\n",
              " 'bepicolombo',\n",
              " 'sedang',\n",
              " 'di',\n",
              " 'perjalanan',\n",
              " 'sebelum',\n",
              " 'mengorbit',\n",
              " 'merkurius',\n",
              " 'tahun',\n",
              " '2025',\n",
              " 'bertemu',\n",
              " 'dengan',\n",
              " 'merkurius',\n",
              " 'minggu',\n",
              " 'lalu',\n",
              " 'wahana',\n",
              " 'buatan',\n",
              " 'eropa',\n",
              " 'dan',\n",
              " 'jepang',\n",
              " 'ini',\n",
              " '…',\n",
              " 'komet',\n",
              " 'komet',\n",
              " 'adalah',\n",
              " 'benda',\n",
              " 'langit',\n",
              " 'yang',\n",
              " 'mengelilingi',\n",
              " 'matahari',\n",
              " 'dengan',\n",
              " 'garis',\n",
              " 'edar',\n",
              " 'berbentuk',\n",
              " 'lonjong',\n",
              " 'parabolis',\n",
              " 'atau',\n",
              " 'hiperbolis',\n",
              " 'istilah',\n",
              " '“',\n",
              " 'komet',\n",
              " '”',\n",
              " 'berasal',\n",
              " 'dari',\n",
              " 'bahasa',\n",
              " 'yunani',\n",
              " 'kometes',\n",
              " 'κομήτης',\n",
              " 'yang',\n",
              " 'berarti',\n",
              " '“',\n",
              " 'rambut',\n",
              " 'panjang',\n",
              " '”',\n",
              " 'istilah',\n",
              " 'lainnya',\n",
              " 'adalah',\n",
              " 'bintang',\n",
              " 'berekor',\n",
              " 'yang',\n",
              " 'tidak',\n",
              " '…',\n",
              " 'artikel',\n",
              " 'terpopuler',\n",
              " 'bepicolombo',\n",
              " 'misi',\n",
              " 'satelit',\n",
              " 'ke',\n",
              " 'planet',\n",
              " 'neraka',\n",
              " 'merkurius',\n",
              " 'ada',\n",
              " 'apa',\n",
              " 'sebelum',\n",
              " 'big',\n",
              " 'bang',\n",
              " 'ini',\n",
              " 'jawaban',\n",
              " 'peraih',\n",
              " 'nobel',\n",
              " 'fisika',\n",
              " 'roger',\n",
              " 'penrose',\n",
              " 'manajemen',\n",
              " 'bencana',\n",
              " 'dalam',\n",
              " 'perspektif',\n",
              " 'kesehatan',\n",
              " 'lingkungan',\n",
              " 'dan',\n",
              " 'masyarakat',\n",
              " 'bioinformatika',\n",
              " 'apa',\n",
              " 'sih',\n",
              " 'bioinformatika',\n",
              " 'itu',\n",
              " 'pancasila',\n",
              " 'pengertian',\n",
              " 'sejarah',\n",
              " 'butir',\n",
              " 'nilai',\n",
              " 'dan',\n",
              " 'dasar',\n",
              " 'pandangan',\n",
              " 'hidup',\n",
              " '[',\n",
              " 'lengkap',\n",
              " 'contoh',\n",
              " 'soal',\n",
              " ']',\n",
              " 'artikel',\n",
              " 'yang',\n",
              " 'terkait',\n",
              " 'didesain',\n",
              " 'dengan',\n",
              " 'hati',\n",
              " 'copyright',\n",
              " 'warstekcom',\n",
              " '2021',\n",
              " 'kontak',\n",
              " 'address',\n",
              " 'jl',\n",
              " 'sukolilo',\n",
              " 'baru',\n",
              " 'gg',\n",
              " 'vi',\n",
              " 'no',\n",
              " '10',\n",
              " 'surabaya',\n",
              " 'indonesia',\n",
              " 'phone',\n",
              " '6287750118140',\n",
              " 'email',\n",
              " 'warstekjurnalgmailcom',\n",
              " 'office',\n",
              " 'hour',\n",
              " '0800',\n",
              " 'wib',\n",
              " '–',\n",
              " '1500',\n",
              " 'wib',\n",
              " 'monday',\n",
              " '–',\n",
              " 'friday']"
            ]
          },
          "metadata": {},
          "execution_count": 16
        }
      ]
    },
    {
      "cell_type": "code",
      "metadata": {
        "colab": {
          "base_uri": "https://localhost:8080/"
        },
        "id": "6LOQocOfjXMs",
        "outputId": "09b0dfc7-db71-4576-e39a-7fa61ec06809"
      },
      "source": [
        "!pip3 install Sastrawi"
      ],
      "execution_count": 17,
      "outputs": [
        {
          "output_type": "stream",
          "name": "stdout",
          "text": [
            "Collecting Sastrawi\n",
            "  Downloading Sastrawi-1.0.1-py2.py3-none-any.whl (209 kB)\n",
            "\u001b[?25l\r\u001b[K     |█▋                              | 10 kB 24.1 MB/s eta 0:00:01\r\u001b[K     |███▏                            | 20 kB 28.4 MB/s eta 0:00:01\r\u001b[K     |████▊                           | 30 kB 23.2 MB/s eta 0:00:01\r\u001b[K     |██████▎                         | 40 kB 12.7 MB/s eta 0:00:01\r\u001b[K     |███████▉                        | 51 kB 5.9 MB/s eta 0:00:01\r\u001b[K     |█████████▍                      | 61 kB 5.2 MB/s eta 0:00:01\r\u001b[K     |███████████                     | 71 kB 5.6 MB/s eta 0:00:01\r\u001b[K     |████████████▌                   | 81 kB 6.2 MB/s eta 0:00:01\r\u001b[K     |██████████████                  | 92 kB 5.0 MB/s eta 0:00:01\r\u001b[K     |███████████████▋                | 102 kB 5.3 MB/s eta 0:00:01\r\u001b[K     |█████████████████▏              | 112 kB 5.3 MB/s eta 0:00:01\r\u001b[K     |██████████████████▊             | 122 kB 5.3 MB/s eta 0:00:01\r\u001b[K     |████████████████████▎           | 133 kB 5.3 MB/s eta 0:00:01\r\u001b[K     |█████████████████████▉          | 143 kB 5.3 MB/s eta 0:00:01\r\u001b[K     |███████████████████████▍        | 153 kB 5.3 MB/s eta 0:00:01\r\u001b[K     |█████████████████████████       | 163 kB 5.3 MB/s eta 0:00:01\r\u001b[K     |██████████████████████████▋     | 174 kB 5.3 MB/s eta 0:00:01\r\u001b[K     |████████████████████████████▏   | 184 kB 5.3 MB/s eta 0:00:01\r\u001b[K     |█████████████████████████████▊  | 194 kB 5.3 MB/s eta 0:00:01\r\u001b[K     |███████████████████████████████▎| 204 kB 5.3 MB/s eta 0:00:01\r\u001b[K     |████████████████████████████████| 209 kB 5.3 MB/s \n",
            "\u001b[?25hInstalling collected packages: Sastrawi\n",
            "Successfully installed Sastrawi-1.0.1\n"
          ]
        }
      ]
    },
    {
      "cell_type": "code",
      "metadata": {
        "colab": {
          "base_uri": "https://localhost:8080/"
        },
        "id": "LrR0DC9zjZ5x",
        "outputId": "924e9caa-7a65-48ea-fbb2-3361a2ca96c3"
      },
      "source": [
        "from Sastrawi.StopWordRemover.StopWordRemoverFactory import StopWordRemoverFactory\n",
        "from Sastrawi.Stemmer.StemmerFactory import StemmerFactory\n",
        "stopword_remover_factory = StopWordRemoverFactory()\n",
        "stemmer_factory = StemmerFactory()\n",
        "ina_stemmer = stemmer_factory.create_stemmer()\n",
        "ina_stopword = stopword_remover_factory.create_stop_word_remover()\n",
        "\n",
        "print(stopword_remover_factory.get_stop_words())"
      ],
      "execution_count": 18,
      "outputs": [
        {
          "output_type": "stream",
          "name": "stdout",
          "text": [
            "['yang', 'untuk', 'pada', 'ke', 'para', 'namun', 'menurut', 'antara', 'dia', 'dua', 'ia', 'seperti', 'jika', 'jika', 'sehingga', 'kembali', 'dan', 'tidak', 'ini', 'karena', 'kepada', 'oleh', 'saat', 'harus', 'sementara', 'setelah', 'belum', 'kami', 'sekitar', 'bagi', 'serta', 'di', 'dari', 'telah', 'sebagai', 'masih', 'hal', 'ketika', 'adalah', 'itu', 'dalam', 'bisa', 'bahwa', 'atau', 'hanya', 'kita', 'dengan', 'akan', 'juga', 'ada', 'mereka', 'sudah', 'saya', 'terhadap', 'secara', 'agar', 'lain', 'anda', 'begitu', 'mengapa', 'kenapa', 'yaitu', 'yakni', 'daripada', 'itulah', 'lagi', 'maka', 'tentang', 'demi', 'dimana', 'kemana', 'pula', 'sambil', 'sebelum', 'sesudah', 'supaya', 'guna', 'kah', 'pun', 'sampai', 'sedangkan', 'selagi', 'sementara', 'tetapi', 'apakah', 'kecuali', 'sebab', 'selain', 'seolah', 'seraya', 'seterusnya', 'tanpa', 'agak', 'boleh', 'dapat', 'dsb', 'dst', 'dll', 'dahulu', 'dulunya', 'anu', 'demikian', 'tapi', 'ingin', 'juga', 'nggak', 'mari', 'nanti', 'melainkan', 'oh', 'ok', 'seharusnya', 'sebetulnya', 'setiap', 'setidaknya', 'sesuatu', 'pasti', 'saja', 'toh', 'ya', 'walau', 'tolong', 'tentu', 'amat', 'apalagi', 'bagaimanapun']\n"
          ]
        }
      ]
    },
    {
      "cell_type": "code",
      "metadata": {
        "colab": {
          "base_uri": "https://localhost:8080/"
        },
        "id": "8QOFRKaIjbfa",
        "outputId": "15683eaa-f5ae-413f-921d-9a85fa37f6de"
      },
      "source": [
        "text_from_token = ' '.join(token)\n",
        "print(text_from_token)\n",
        "\n",
        "text_from_token_no_stop_words = ina_stopword.remove(text_from_token)"
      ],
      "execution_count": 19,
      "outputs": [
        {
          "output_type": "stream",
          "name": "stdout",
          "text": [
            "sains dan teknologi yang seru dan menyenangkan kertas yang kita kenal seharihari merupakan suatu lembaran yang memiliki sifat ringan lunak halus mudah dibentuk mudah terbakar dan mudah sobek namun tahukah anda jika kertas dapat berubah menjadi sesuatu yang kuat bahkan dapat dijadikan sebuah perisai dalam sebuah pertarungan gambar 1 pertarungan taiju melawan pasukan tsukasa dengan menggunakan kertas ajaib sebagai perisai sumber duniagamescoid secara logika rasanya memang tidak mungkin sebuah lembaran yang lunak dan mudah sobek seperti kertas dapat menjadi sesuatu kuat bak besi atau beton namun logika tersebut terbantahkan berdasarkan percobaan yang dilakukan oleh senku ishigami tokoh dalam anime dr stone yang membuat perisai kertas untuk pelapis kereta uap dengan menggunakan prinsip ilmu kimia dalam proses pembuatannya berawal dari usaha kerajaan sains yang dipimpin oleh senku ingin menyelamatkan chrome dari pasukan tsukasa maka untuk menghindari perlawanan musuh dan menghindari adanya pertumpahan darah senku berinisiatif untuk menambah kekuatan alutsistanya yaitu steam gorila kereta uap dengan dilapisi perisai yang memiliki kekuatan seperti besi langkah pertama senku membuat kertas ajaib tersebut dari rumput dengan proses perebusan langkah kedua senku menambahkan sodium hidroksida naoh untuk melunakkan rumput tersebut langkah ketiga rumput yang telah direbus dengan naoh akan menjadi lengket lalu kemudian angkat dan rumput tersebut dibersihkan dengan air bersih langkah keempat senku menghaluskan rumput dengan cara ditumbuk langkah kelima senku mengeringkan dan membentuk rumput tersebut seperti kertas dan berfungsi sebagai perisai untuk pasukannya langkah terakhir senku menambahkan resin alami yang dapat memberikan efek penguat dan pengeras yang sangat baik gambar 2 senku melapisi kertas ajaibnya dengan resin alami dengan menggunakan lilin lebah cair sumber benigmaticawordpresscom penggabungan fleksibilitas kertas dan kerasnya sifat plastik yang berasal dari resin akan menciptakan serat karbon dan pembuatan kertas ajaib ini dapat dicoba di rumah karena alat dan bahan yang digunakan sangat sederhana dan juga sebagai ajang pembuktian jika anda masih ragu dalam kekuatan kertas ajaib tersebut gambar 3 kinro teman senku sedang mengetes kekuatan kertas ajaib yang telah dibuat benigmaticawordpresscom hasilnya tombak kinro yang hancur sementara kertas ajaibnya hanya penyok saja dan berhasil menjadi perisai dari serangan tombak yang sangat cepat dan keras gambar 4 tombak kinro hancur setelah menghantam kertas ajaib senku sumber benigmaticawordpresscom percobaan senku ternyata bukan imajinasi belaka hakikatnya konsep kimia yaitu serat karbon yang dilakukan senku sudah diterapkan di dunia otomotif roket dan moda transportasi menurut dinur 2019 menyatakan penggunaan material seperti serat karbon mulai banyak digunakan dalam dunia industri karena memiliki karakteristik yang mampu memenuhi tuntutan teknologi seperti ringan tahan terhadap temperatur tinggi dan tahan fatik rusak selain itu serat karbon juga memiliki ketahanan terhadap korosi 70 % lebih ringan dari baja dan 40 % dari aluminium dan memperkuat struktur benda yang dilapisi serat tersebut kesimpulannya dari anime dr stone yang menampilkan percobaan mengenai pembuatan serat karbon dalam bentuk kertas ajaib digunakan sebagai perisai ketahanan dan penambah kekuatan memberikan wawasan kepada kita agar bisa memanfaatkan sumber daya yang ada disekitar untuk dijadikan sesuatu yang memiliki nilai guna selain itu juga mengajarkan kita untuk dapat berekreasi dan produktif di manapun dan kapanpun kita berada referensi setelah selesai membaca yuk berikan artikel ini penilaian klik berdasarkan jumlah bintang untuk menilai ratarata nilai 4 5 banyaknya vote 1 belum ada yang menilai yuk jadi yang pertama kali menilai alamat email anda tidak akan dipublikasikan ruas yang wajib ditandai * komentar nama * email * situs web cari artikel langganan via email masukkan email anda artikel pilihan editor berdasarkan dj international journal of medical research obat merupakan hal pertama yang di pertimbangkan saat suatu penyakit menyerang dari zaman … bepicolombo sedang di perjalanan sebelum mengorbit merkurius tahun 2025 bertemu dengan merkurius minggu lalu wahana buatan eropa dan jepang ini … komet komet adalah benda langit yang mengelilingi matahari dengan garis edar berbentuk lonjong parabolis atau hiperbolis istilah “ komet ” berasal dari bahasa yunani kometes κομήτης yang berarti “ rambut panjang ” istilah lainnya adalah bintang berekor yang tidak … artikel terpopuler bepicolombo misi satelit ke planet neraka merkurius ada apa sebelum big bang ini jawaban peraih nobel fisika roger penrose manajemen bencana dalam perspektif kesehatan lingkungan dan masyarakat bioinformatika apa sih bioinformatika itu pancasila pengertian sejarah butir nilai dan dasar pandangan hidup [ lengkap contoh soal ] artikel yang terkait didesain dengan hati copyright warstekcom 2021 kontak address jl sukolilo baru gg vi no 10 surabaya indonesia phone 6287750118140 email warstekjurnalgmailcom office hour 0800 wib – 1500 wib monday – friday\n"
          ]
        }
      ]
    },
    {
      "cell_type": "code",
      "metadata": {
        "colab": {
          "base_uri": "https://localhost:8080/",
          "height": 118
        },
        "id": "8JR4lNz7jfD5",
        "outputId": "df56a9f6-87c4-4d99-b41d-93daf4d1d9c4"
      },
      "source": [
        "stemmed_text = ina_stemmer.stem(text_from_token_no_stop_words)\n",
        "stemmed_text"
      ],
      "execution_count": 20,
      "outputs": [
        {
          "output_type": "execute_result",
          "data": {
            "application/vnd.google.colaboratory.intrinsic+json": {
              "type": "string"
            },
            "text/plain": [
              "'sains teknologi seru senang kertas kenal seharihari rupa suatu lembar milik sifat ringan lunak halus mudah bentuk mudah bakar mudah sobek tahu kertas ubah jadi kuat bahkan jadi buah perisai buah tarung gambar 1 tarung taiju lawan pasu tsukasa guna kertas ajaib perisai sumber duniagamescoid logika rasa memang mungkin buah lembar lunak mudah sobek kertas jadi kuat bak besi beton logika sebut bantah dasar coba laku sen ishigami tokoh anime dr stone buat perisai kertas lap kereta uap guna prinsip ilmu kimia proses buat awal usaha raja sains pimpin sen selamat chrome pasu tsukasa hindar lawan musuh hindar ada tumpah darah sen inisiatif tambah kuat alutsistanya steam gorila kereta uap lapis perisai milik kuat besi langkah pertama sen buat kertas ajaib sebut rumput proses rebus langkah dua sen tambah sodium hidroksida naoh lunak rumput sebut langkah tiga rumput telah rebus naoh jadi lengket lalu kemudian angkat rumput sebut bersih air bersih langkah empat sen halus rumput cara tumbuk langkah lima sen ering bentuk rumput sebut kertas fungsi perisai pasu langkah akhir sen tambah resin alami beri efek kuat keras sangat baik gambar 2 sen lapis kertas ajaib resin alami guna lilin lebah cair sumber benigmaticawordpresscom gabung fleksibilitas kertas keras sifat plastik asal resin cipta serat karbon buat kertas ajaib dapat coba rumah alat bahan guna sangat sederhana ajang bukti jika ragu kuat kertas ajaib sebut gambar 3 kinro teman sen sedang ketes kuat kertas ajaib telah buat benigmaticawordpresscom hasil tombak kinro hancur kertas ajaib penyok hasil jadi perisai serang tombak sangat cepat keras gambar 4 tombak kinro hancur hantam kertas ajaib sen sumber benigmaticawordpresscom coba sen nyata bukan imajinasi belaka hakikat konsep kimia serat karbon laku sen terap dunia otomotif roket moda transportasi nur 2019 nyata guna material serat karbon mulai banyak guna dunia industri milik karakteristik mampu penuh tuntut teknologi ringan tahan temperatur tinggi tahan fatik rusak serat karbon juga milik tahan korosi 70 lebih ringan baja 40 aluminium kuat struktur benda lapis serat sebut simpul anime dr stone tampil coba kena buat serat karbon bentuk kertas ajaib guna perisai tahan tambah kuat beri wawas bisa manfaat sumber daya sekitar jadi milik nilai selain juga ajar kita untuk dapat rekreasi produktif mana kapan kita ada referensi selesai baca yuk ikan artikel nilai klik dasar jumlah bintang untuk nilai ratarata nilai 4 5 banyak vote 1 ada nilai yuk jadi pertama kali nilai alamat email tidak publikasi ruas wajib tanda komentar nama email situs web cari artikel langgan via email masuk email anda artikel pilih editor dasar dj international journal of medical research obat rupa pertama timbang suatu sakit serang zaman bepicolombo sedang di jalan orbit merkurius tahun 2025 temu merkurius minggu lalu wahana buat eropa jepang komet komet benda langit keliling matahari garis edar bentuk lonjong parabolis hiperbolis istilah komet asal bahasa yunani kometes arti rambut panjang istilah lain bintang ekor yang tidak artikel populer bepicolombo misi satelit planet neraka merkurius ada apa big bang jawab raih nobel fisika roger penrose manajemen bencana perspektif sehat lingkung masyarakat bioinformatika apa sih bioinformatika itu pancasila erti sejarah butir nilai dan dasar pandang hidup lengkap contoh soal artikel yang kait desain hati copyright warstekcom 2021 kontak address jl sukolilo baru gg vi no 10 surabaya indonesia phone 6287750118140 email warstekjurnalgmailcom office hour 0800 wib 1500 wib monday friday'"
            ]
          },
          "metadata": {},
          "execution_count": 20
        }
      ]
    },
    {
      "cell_type": "code",
      "metadata": {
        "colab": {
          "base_uri": "https://localhost:8080/"
        },
        "id": "fGqCmK9fjhXp",
        "outputId": "42ff84da-3cac-4ca7-e670-d413db4b0ade"
      },
      "source": [
        "token_from_stemmed_text = word_tokenize(stemmed_text)\n",
        "print(token_from_stemmed_text)"
      ],
      "execution_count": 21,
      "outputs": [
        {
          "output_type": "stream",
          "name": "stdout",
          "text": [
            "['sains', 'teknologi', 'seru', 'senang', 'kertas', 'kenal', 'seharihari', 'rupa', 'suatu', 'lembar', 'milik', 'sifat', 'ringan', 'lunak', 'halus', 'mudah', 'bentuk', 'mudah', 'bakar', 'mudah', 'sobek', 'tahu', 'kertas', 'ubah', 'jadi', 'kuat', 'bahkan', 'jadi', 'buah', 'perisai', 'buah', 'tarung', 'gambar', '1', 'tarung', 'taiju', 'lawan', 'pasu', 'tsukasa', 'guna', 'kertas', 'ajaib', 'perisai', 'sumber', 'duniagamescoid', 'logika', 'rasa', 'memang', 'mungkin', 'buah', 'lembar', 'lunak', 'mudah', 'sobek', 'kertas', 'jadi', 'kuat', 'bak', 'besi', 'beton', 'logika', 'sebut', 'bantah', 'dasar', 'coba', 'laku', 'sen', 'ishigami', 'tokoh', 'anime', 'dr', 'stone', 'buat', 'perisai', 'kertas', 'lap', 'kereta', 'uap', 'guna', 'prinsip', 'ilmu', 'kimia', 'proses', 'buat', 'awal', 'usaha', 'raja', 'sains', 'pimpin', 'sen', 'selamat', 'chrome', 'pasu', 'tsukasa', 'hindar', 'lawan', 'musuh', 'hindar', 'ada', 'tumpah', 'darah', 'sen', 'inisiatif', 'tambah', 'kuat', 'alutsistanya', 'steam', 'gorila', 'kereta', 'uap', 'lapis', 'perisai', 'milik', 'kuat', 'besi', 'langkah', 'pertama', 'sen', 'buat', 'kertas', 'ajaib', 'sebut', 'rumput', 'proses', 'rebus', 'langkah', 'dua', 'sen', 'tambah', 'sodium', 'hidroksida', 'naoh', 'lunak', 'rumput', 'sebut', 'langkah', 'tiga', 'rumput', 'telah', 'rebus', 'naoh', 'jadi', 'lengket', 'lalu', 'kemudian', 'angkat', 'rumput', 'sebut', 'bersih', 'air', 'bersih', 'langkah', 'empat', 'sen', 'halus', 'rumput', 'cara', 'tumbuk', 'langkah', 'lima', 'sen', 'ering', 'bentuk', 'rumput', 'sebut', 'kertas', 'fungsi', 'perisai', 'pasu', 'langkah', 'akhir', 'sen', 'tambah', 'resin', 'alami', 'beri', 'efek', 'kuat', 'keras', 'sangat', 'baik', 'gambar', '2', 'sen', 'lapis', 'kertas', 'ajaib', 'resin', 'alami', 'guna', 'lilin', 'lebah', 'cair', 'sumber', 'benigmaticawordpresscom', 'gabung', 'fleksibilitas', 'kertas', 'keras', 'sifat', 'plastik', 'asal', 'resin', 'cipta', 'serat', 'karbon', 'buat', 'kertas', 'ajaib', 'dapat', 'coba', 'rumah', 'alat', 'bahan', 'guna', 'sangat', 'sederhana', 'ajang', 'bukti', 'jika', 'ragu', 'kuat', 'kertas', 'ajaib', 'sebut', 'gambar', '3', 'kinro', 'teman', 'sen', 'sedang', 'ketes', 'kuat', 'kertas', 'ajaib', 'telah', 'buat', 'benigmaticawordpresscom', 'hasil', 'tombak', 'kinro', 'hancur', 'kertas', 'ajaib', 'penyok', 'hasil', 'jadi', 'perisai', 'serang', 'tombak', 'sangat', 'cepat', 'keras', 'gambar', '4', 'tombak', 'kinro', 'hancur', 'hantam', 'kertas', 'ajaib', 'sen', 'sumber', 'benigmaticawordpresscom', 'coba', 'sen', 'nyata', 'bukan', 'imajinasi', 'belaka', 'hakikat', 'konsep', 'kimia', 'serat', 'karbon', 'laku', 'sen', 'terap', 'dunia', 'otomotif', 'roket', 'moda', 'transportasi', 'nur', '2019', 'nyata', 'guna', 'material', 'serat', 'karbon', 'mulai', 'banyak', 'guna', 'dunia', 'industri', 'milik', 'karakteristik', 'mampu', 'penuh', 'tuntut', 'teknologi', 'ringan', 'tahan', 'temperatur', 'tinggi', 'tahan', 'fatik', 'rusak', 'serat', 'karbon', 'juga', 'milik', 'tahan', 'korosi', '70', 'lebih', 'ringan', 'baja', '40', 'aluminium', 'kuat', 'struktur', 'benda', 'lapis', 'serat', 'sebut', 'simpul', 'anime', 'dr', 'stone', 'tampil', 'coba', 'kena', 'buat', 'serat', 'karbon', 'bentuk', 'kertas', 'ajaib', 'guna', 'perisai', 'tahan', 'tambah', 'kuat', 'beri', 'wawas', 'bisa', 'manfaat', 'sumber', 'daya', 'sekitar', 'jadi', 'milik', 'nilai', 'selain', 'juga', 'ajar', 'kita', 'untuk', 'dapat', 'rekreasi', 'produktif', 'mana', 'kapan', 'kita', 'ada', 'referensi', 'selesai', 'baca', 'yuk', 'ikan', 'artikel', 'nilai', 'klik', 'dasar', 'jumlah', 'bintang', 'untuk', 'nilai', 'ratarata', 'nilai', '4', '5', 'banyak', 'vote', '1', 'ada', 'nilai', 'yuk', 'jadi', 'pertama', 'kali', 'nilai', 'alamat', 'email', 'tidak', 'publikasi', 'ruas', 'wajib', 'tanda', 'komentar', 'nama', 'email', 'situs', 'web', 'cari', 'artikel', 'langgan', 'via', 'email', 'masuk', 'email', 'anda', 'artikel', 'pilih', 'editor', 'dasar', 'dj', 'international', 'journal', 'of', 'medical', 'research', 'obat', 'rupa', 'pertama', 'timbang', 'suatu', 'sakit', 'serang', 'zaman', 'bepicolombo', 'sedang', 'di', 'jalan', 'orbit', 'merkurius', 'tahun', '2025', 'temu', 'merkurius', 'minggu', 'lalu', 'wahana', 'buat', 'eropa', 'jepang', 'komet', 'komet', 'benda', 'langit', 'keliling', 'matahari', 'garis', 'edar', 'bentuk', 'lonjong', 'parabolis', 'hiperbolis', 'istilah', 'komet', 'asal', 'bahasa', 'yunani', 'kometes', 'arti', 'rambut', 'panjang', 'istilah', 'lain', 'bintang', 'ekor', 'yang', 'tidak', 'artikel', 'populer', 'bepicolombo', 'misi', 'satelit', 'planet', 'neraka', 'merkurius', 'ada', 'apa', 'big', 'bang', 'jawab', 'raih', 'nobel', 'fisika', 'roger', 'penrose', 'manajemen', 'bencana', 'perspektif', 'sehat', 'lingkung', 'masyarakat', 'bioinformatika', 'apa', 'sih', 'bioinformatika', 'itu', 'pancasila', 'erti', 'sejarah', 'butir', 'nilai', 'dan', 'dasar', 'pandang', 'hidup', 'lengkap', 'contoh', 'soal', 'artikel', 'yang', 'kait', 'desain', 'hati', 'copyright', 'warstekcom', '2021', 'kontak', 'address', 'jl', 'sukolilo', 'baru', 'gg', 'vi', 'no', '10', 'surabaya', 'indonesia', 'phone', '6287750118140', 'email', 'warstekjurnalgmailcom', 'office', 'hour', '0800', 'wib', '1500', 'wib', 'monday', 'friday']\n"
          ]
        }
      ]
    },
    {
      "cell_type": "code",
      "metadata": {
        "id": "4PmrNGU3jmDw",
        "colab": {
          "base_uri": "https://localhost:8080/"
        },
        "outputId": "f5b6c1bf-7551-4e9b-c055-d6f1a837ca9e"
      },
      "source": [
        "frekuensi_kata_ina = {}\n",
        "for kata in token_from_stemmed_text:\n",
        "  if kata not in frekuensi_kata_ina:\n",
        "    frekuensi_kata_ina[kata] = 1\n",
        "  else:\n",
        "    frekuensi_kata_ina[kata] += 1\n",
        "\n",
        "print(frekuensi_kata_ina)"
      ],
      "execution_count": 22,
      "outputs": [
        {
          "output_type": "stream",
          "name": "stdout",
          "text": [
            "{'sains': 2, 'teknologi': 2, 'seru': 1, 'senang': 1, 'kertas': 15, 'kenal': 1, 'seharihari': 1, 'rupa': 2, 'suatu': 2, 'lembar': 2, 'milik': 5, 'sifat': 2, 'ringan': 3, 'lunak': 3, 'halus': 2, 'mudah': 4, 'bentuk': 4, 'bakar': 1, 'sobek': 2, 'tahu': 1, 'ubah': 1, 'jadi': 7, 'kuat': 9, 'bahkan': 1, 'buah': 3, 'perisai': 7, 'tarung': 2, 'gambar': 4, '1': 2, 'taiju': 1, 'lawan': 2, 'pasu': 3, 'tsukasa': 2, 'guna': 7, 'ajaib': 9, 'sumber': 4, 'duniagamescoid': 1, 'logika': 2, 'rasa': 1, 'memang': 1, 'mungkin': 1, 'bak': 1, 'besi': 2, 'beton': 1, 'sebut': 7, 'bantah': 1, 'dasar': 4, 'coba': 4, 'laku': 2, 'sen': 13, 'ishigami': 1, 'tokoh': 1, 'anime': 2, 'dr': 2, 'stone': 2, 'buat': 7, 'lap': 1, 'kereta': 2, 'uap': 2, 'prinsip': 1, 'ilmu': 1, 'kimia': 2, 'proses': 2, 'awal': 1, 'usaha': 1, 'raja': 1, 'pimpin': 1, 'selamat': 1, 'chrome': 1, 'hindar': 2, 'musuh': 1, 'ada': 4, 'tumpah': 1, 'darah': 1, 'inisiatif': 1, 'tambah': 4, 'alutsistanya': 1, 'steam': 1, 'gorila': 1, 'lapis': 3, 'langkah': 6, 'pertama': 3, 'rumput': 6, 'rebus': 2, 'dua': 1, 'sodium': 1, 'hidroksida': 1, 'naoh': 2, 'tiga': 1, 'telah': 2, 'lengket': 1, 'lalu': 2, 'kemudian': 1, 'angkat': 1, 'bersih': 2, 'air': 1, 'empat': 1, 'cara': 1, 'tumbuk': 1, 'lima': 1, 'ering': 1, 'fungsi': 1, 'akhir': 1, 'resin': 3, 'alami': 2, 'beri': 2, 'efek': 1, 'keras': 3, 'sangat': 3, 'baik': 1, '2': 1, 'lilin': 1, 'lebah': 1, 'cair': 1, 'benigmaticawordpresscom': 3, 'gabung': 1, 'fleksibilitas': 1, 'plastik': 1, 'asal': 2, 'cipta': 1, 'serat': 6, 'karbon': 5, 'dapat': 2, 'rumah': 1, 'alat': 1, 'bahan': 1, 'sederhana': 1, 'ajang': 1, 'bukti': 1, 'jika': 1, 'ragu': 1, '3': 1, 'kinro': 3, 'teman': 1, 'sedang': 2, 'ketes': 1, 'hasil': 2, 'tombak': 3, 'hancur': 2, 'penyok': 1, 'serang': 2, 'cepat': 1, '4': 2, 'hantam': 1, 'nyata': 2, 'bukan': 1, 'imajinasi': 1, 'belaka': 1, 'hakikat': 1, 'konsep': 1, 'terap': 1, 'dunia': 2, 'otomotif': 1, 'roket': 1, 'moda': 1, 'transportasi': 1, 'nur': 1, '2019': 1, 'material': 1, 'mulai': 1, 'banyak': 2, 'industri': 1, 'karakteristik': 1, 'mampu': 1, 'penuh': 1, 'tuntut': 1, 'tahan': 4, 'temperatur': 1, 'tinggi': 1, 'fatik': 1, 'rusak': 1, 'juga': 2, 'korosi': 1, '70': 1, 'lebih': 1, 'baja': 1, '40': 1, 'aluminium': 1, 'struktur': 1, 'benda': 2, 'simpul': 1, 'tampil': 1, 'kena': 1, 'wawas': 1, 'bisa': 1, 'manfaat': 1, 'daya': 1, 'sekitar': 1, 'nilai': 7, 'selain': 1, 'ajar': 1, 'kita': 2, 'untuk': 2, 'rekreasi': 1, 'produktif': 1, 'mana': 1, 'kapan': 1, 'referensi': 1, 'selesai': 1, 'baca': 1, 'yuk': 2, 'ikan': 1, 'artikel': 5, 'klik': 1, 'jumlah': 1, 'bintang': 2, 'ratarata': 1, '5': 1, 'vote': 1, 'kali': 1, 'alamat': 1, 'email': 5, 'tidak': 2, 'publikasi': 1, 'ruas': 1, 'wajib': 1, 'tanda': 1, 'komentar': 1, 'nama': 1, 'situs': 1, 'web': 1, 'cari': 1, 'langgan': 1, 'via': 1, 'masuk': 1, 'anda': 1, 'pilih': 1, 'editor': 1, 'dj': 1, 'international': 1, 'journal': 1, 'of': 1, 'medical': 1, 'research': 1, 'obat': 1, 'timbang': 1, 'sakit': 1, 'zaman': 1, 'bepicolombo': 2, 'di': 1, 'jalan': 1, 'orbit': 1, 'merkurius': 3, 'tahun': 1, '2025': 1, 'temu': 1, 'minggu': 1, 'wahana': 1, 'eropa': 1, 'jepang': 1, 'komet': 3, 'langit': 1, 'keliling': 1, 'matahari': 1, 'garis': 1, 'edar': 1, 'lonjong': 1, 'parabolis': 1, 'hiperbolis': 1, 'istilah': 2, 'bahasa': 1, 'yunani': 1, 'kometes': 1, 'arti': 1, 'rambut': 1, 'panjang': 1, 'lain': 1, 'ekor': 1, 'yang': 2, 'populer': 1, 'misi': 1, 'satelit': 1, 'planet': 1, 'neraka': 1, 'apa': 2, 'big': 1, 'bang': 1, 'jawab': 1, 'raih': 1, 'nobel': 1, 'fisika': 1, 'roger': 1, 'penrose': 1, 'manajemen': 1, 'bencana': 1, 'perspektif': 1, 'sehat': 1, 'lingkung': 1, 'masyarakat': 1, 'bioinformatika': 2, 'sih': 1, 'itu': 1, 'pancasila': 1, 'erti': 1, 'sejarah': 1, 'butir': 1, 'dan': 1, 'pandang': 1, 'hidup': 1, 'lengkap': 1, 'contoh': 1, 'soal': 1, 'kait': 1, 'desain': 1, 'hati': 1, 'copyright': 1, 'warstekcom': 1, '2021': 1, 'kontak': 1, 'address': 1, 'jl': 1, 'sukolilo': 1, 'baru': 1, 'gg': 1, 'vi': 1, 'no': 1, '10': 1, 'surabaya': 1, 'indonesia': 1, 'phone': 1, '6287750118140': 1, 'warstekjurnalgmailcom': 1, 'office': 1, 'hour': 1, '0800': 1, 'wib': 2, '1500': 1, 'monday': 1, 'friday': 1}\n"
          ]
        }
      ]
    }
  ]
}