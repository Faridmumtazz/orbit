{
  "nbformat": 4,
  "nbformat_minor": 0,
  "metadata": {
    "colab": {
      "name": "Latihan 2.ipynb",
      "provenance": []
    },
    "kernelspec": {
      "name": "python3",
      "display_name": "Python 3"
    },
    "language_info": {
      "name": "python"
    }
  },
  "cells": [
    {
      "cell_type": "code",
      "metadata": {
        "id": "z4il-MsvU-Fn"
      },
      "source": [
        "# Import Library yang dibutuhkan\n",
        "\n",
        "import nltk\n",
        "from nltk.tokenize import word_tokenize\n",
        "from gensim.models import Word2Vec\n",
        "import re"
      ],
      "execution_count": 1,
      "outputs": []
    },
    {
      "cell_type": "code",
      "metadata": {
        "colab": {
          "base_uri": "https://localhost:8080/"
        },
        "id": "gCf61hxcVIRG",
        "outputId": "acec90c4-2991-4aa7-ddc4-ed9879a36788"
      },
      "source": [
        "nltk.download('punkt')"
      ],
      "execution_count": 3,
      "outputs": [
        {
          "output_type": "stream",
          "name": "stdout",
          "text": [
            "[nltk_data] Downloading package punkt to /root/nltk_data...\n",
            "[nltk_data]   Unzipping tokenizers/punkt.zip.\n"
          ]
        },
        {
          "output_type": "execute_result",
          "data": {
            "text/plain": [
              "True"
            ]
          },
          "metadata": {},
          "execution_count": 3
        }
      ]
    },
    {
      "cell_type": "code",
      "metadata": {
        "id": "z1rO79HvVZg0"
      },
      "source": [
        "komentar = [\n",
        "          \"Banyak promosi ekslusif yang bisa kamu dapatkan\",\n",
        "          \"Raih cashback dan diskon cuma di Shopee\",\n",
        "          \"Pesan online produk favoritmu hanya di Shopee\",\n",
        "          \"Tersedia berbagai opsi pengiriman\",\n",
        "          \"Flash sale, Cash on Delivery, No.1 belanja online\",    \n",
        "]"
      ],
      "execution_count": 4,
      "outputs": []
    },
    {
      "cell_type": "code",
      "metadata": {
        "colab": {
          "base_uri": "https://localhost:8080/"
        },
        "id": "zzyOBKNxV2MG",
        "outputId": "4dbb7662-4ef2-4b8c-d718-724d2e20da22"
      },
      "source": [
        "komentar = [re.sub(r'[,.]', '', k) for k in komentar]\n",
        "komentar"
      ],
      "execution_count": 5,
      "outputs": [
        {
          "output_type": "execute_result",
          "data": {
            "text/plain": [
              "['Banyak promosi ekslusif yang bisa kamu dapatkan',\n",
              " 'Raih cashback dan diskon cuma di Shopee',\n",
              " 'Pesan online produk favoritmu hanya di Shopee',\n",
              " 'Tersedia berbagai opsi pengiriman',\n",
              " 'Flash sale Cash on Delivery No1 belanja online']"
            ]
          },
          "metadata": {},
          "execution_count": 5
        }
      ]
    },
    {
      "cell_type": "code",
      "metadata": {
        "colab": {
          "base_uri": "https://localhost:8080/"
        },
        "id": "f45whlX1V7Kz",
        "outputId": "539068bb-76ab-42c9-91f2-65513af850a2"
      },
      "source": [
        "corpus = [word_tokenize(k.lower()) for k in komentar]\n",
        "corpus"
      ],
      "execution_count": 6,
      "outputs": [
        {
          "output_type": "execute_result",
          "data": {
            "text/plain": [
              "[['banyak', 'promosi', 'ekslusif', 'yang', 'bisa', 'kamu', 'dapatkan'],\n",
              " ['raih', 'cashback', 'dan', 'diskon', 'cuma', 'di', 'shopee'],\n",
              " ['pesan', 'online', 'produk', 'favoritmu', 'hanya', 'di', 'shopee'],\n",
              " ['tersedia', 'berbagai', 'opsi', 'pengiriman'],\n",
              " ['flash', 'sale', 'cash', 'on', 'delivery', 'no1', 'belanja', 'online']]"
            ]
          },
          "metadata": {},
          "execution_count": 6
        }
      ]
    },
    {
      "cell_type": "code",
      "metadata": {
        "id": "k_2JEVqmWBHs"
      },
      "source": [
        "model = Word2Vec(corpus, size=100, window=5, workers=2, min_count=1, iter=100)"
      ],
      "execution_count": 7,
      "outputs": []
    },
    {
      "cell_type": "code",
      "metadata": {
        "id": "ob8zSqrTWCa5"
      },
      "source": [
        "model.save(\"komentar_app.w2v\")"
      ],
      "execution_count": 8,
      "outputs": []
    },
    {
      "cell_type": "code",
      "metadata": {
        "id": "mvEBcYKoWGNN"
      },
      "source": [
        "model = Word2Vec.load(\"komentar_app.w2v\")"
      ],
      "execution_count": 9,
      "outputs": []
    },
    {
      "cell_type": "code",
      "metadata": {
        "id": "eV2dRRBDWJsm"
      },
      "source": [
        "w2v = model.wv"
      ],
      "execution_count": 10,
      "outputs": []
    },
    {
      "cell_type": "code",
      "metadata": {
        "colab": {
          "base_uri": "https://localhost:8080/"
        },
        "id": "2Ks2w1JqWMiI",
        "outputId": "ccc3e4cd-e310-4685-e41a-c46a107c0a0f"
      },
      "source": [
        "w2v.index2word"
      ],
      "execution_count": 11,
      "outputs": [
        {
          "output_type": "execute_result",
          "data": {
            "text/plain": [
              "['di',\n",
              " 'shopee',\n",
              " 'online',\n",
              " 'banyak',\n",
              " 'promosi',\n",
              " 'ekslusif',\n",
              " 'yang',\n",
              " 'bisa',\n",
              " 'kamu',\n",
              " 'dapatkan',\n",
              " 'raih',\n",
              " 'cashback',\n",
              " 'dan',\n",
              " 'diskon',\n",
              " 'cuma',\n",
              " 'pesan',\n",
              " 'produk',\n",
              " 'favoritmu',\n",
              " 'hanya',\n",
              " 'tersedia',\n",
              " 'berbagai',\n",
              " 'opsi',\n",
              " 'pengiriman',\n",
              " 'flash',\n",
              " 'sale',\n",
              " 'cash',\n",
              " 'on',\n",
              " 'delivery',\n",
              " 'no1',\n",
              " 'belanja']"
            ]
          },
          "metadata": {},
          "execution_count": 11
        }
      ]
    },
    {
      "cell_type": "code",
      "metadata": {
        "colab": {
          "base_uri": "https://localhost:8080/"
        },
        "id": "T7-1nXc_WQPn",
        "outputId": "e840d6ca-066c-4205-953d-98752f32ab0e"
      },
      "source": [
        "w2v.vectors"
      ],
      "execution_count": 12,
      "outputs": [
        {
          "output_type": "execute_result",
          "data": {
            "text/plain": [
              "array([[-3.5156156e-03, -2.9670657e-03, -2.7111784e-04, ...,\n",
              "        -4.6866802e-03, -7.7585410e-04,  2.4836609e-04],\n",
              "       [ 1.4709512e-03, -1.5814094e-03, -6.7448083e-05, ...,\n",
              "        -4.7875969e-03, -7.9074182e-04,  3.3831086e-03],\n",
              "       [-2.6560817e-03,  2.9108315e-04,  3.7607420e-04, ...,\n",
              "         3.2408553e-04,  4.1577839e-03, -1.6074103e-03],\n",
              "       ...,\n",
              "       [-3.7875632e-03,  1.2436198e-04,  3.4354879e-03, ...,\n",
              "         3.0823799e-03, -1.0371885e-03, -3.8083773e-03],\n",
              "       [ 1.0511801e-03,  5.9601711e-04, -1.7071962e-03, ...,\n",
              "        -3.9599165e-03, -3.3430827e-03, -3.5270670e-04],\n",
              "       [ 2.6813776e-03, -2.4521023e-03, -2.5384268e-03, ...,\n",
              "         4.0892619e-04, -2.5746629e-03,  9.0970955e-04]], dtype=float32)"
            ]
          },
          "metadata": {},
          "execution_count": 12
        }
      ]
    },
    {
      "cell_type": "code",
      "metadata": {
        "colab": {
          "base_uri": "https://localhost:8080/"
        },
        "id": "MrpKLHe7WTiw",
        "outputId": "226222cd-a11c-427c-edbd-7c2297b5d1b5"
      },
      "source": [
        "w2v.vector_size"
      ],
      "execution_count": 13,
      "outputs": [
        {
          "output_type": "execute_result",
          "data": {
            "text/plain": [
              "100"
            ]
          },
          "metadata": {},
          "execution_count": 13
        }
      ]
    },
    {
      "cell_type": "code",
      "metadata": {
        "colab": {
          "base_uri": "https://localhost:8080/"
        },
        "id": "NDx4B3YKWWTa",
        "outputId": "e693dd15-4088-41d1-b48d-d4d5b525831d"
      },
      "source": [
        "w2v['belanja']"
      ],
      "execution_count": 14,
      "outputs": [
        {
          "output_type": "execute_result",
          "data": {
            "text/plain": [
              "array([ 2.6813776e-03, -2.4521023e-03, -2.5384268e-03,  3.4961620e-04,\n",
              "        7.6133106e-04, -2.9165347e-03,  1.8508889e-03, -8.9305849e-04,\n",
              "        3.8152507e-03,  4.8151519e-03,  3.0270540e-03,  2.8140091e-03,\n",
              "       -2.6187657e-03,  2.3806447e-03, -8.5021474e-04,  3.2201519e-03,\n",
              "       -1.3760714e-03,  1.2935405e-03, -1.8900862e-03,  3.6715996e-03,\n",
              "        3.6978943e-03, -1.7504682e-04, -1.1153915e-03,  4.5551257e-03,\n",
              "       -2.7168372e-03,  1.5176128e-03,  2.0363899e-04, -3.9279256e-03,\n",
              "        3.8737725e-04, -4.4075707e-03,  5.0108274e-03,  1.2730076e-03,\n",
              "        3.1211390e-03,  2.5141814e-03,  3.4012310e-03, -4.3145213e-03,\n",
              "        2.1550274e-03,  1.7263988e-03, -1.3077767e-04, -1.3572880e-04,\n",
              "        3.1043154e-03, -4.9858722e-03, -3.0681763e-03,  2.5036989e-03,\n",
              "       -1.2197333e-03, -3.3147491e-03,  1.5185987e-04,  4.5110215e-03,\n",
              "       -3.4155108e-03,  2.2745288e-03,  2.2994326e-03,  3.2121860e-03,\n",
              "       -3.5529255e-03, -4.8749098e-03, -2.1642495e-03,  4.1663395e-03,\n",
              "       -2.7655582e-03, -3.9750072e-03, -3.2362421e-03, -4.2334599e-03,\n",
              "        3.8873325e-03, -3.2416813e-03,  3.5048868e-03,  2.7820183e-04,\n",
              "        2.8678728e-03, -2.9337204e-03, -2.5673052e-03,  4.4203669e-04,\n",
              "        3.4809676e-03, -3.7171533e-03, -3.2890151e-04,  2.8255482e-03,\n",
              "        2.6915604e-03, -2.0148426e-03, -2.9448015e-03, -8.3414030e-05,\n",
              "       -2.2153566e-03, -2.8465085e-03,  2.0377024e-03, -7.8638061e-04,\n",
              "       -2.2300384e-03,  4.3553673e-03,  3.8080055e-03,  2.8657878e-03,\n",
              "        2.3726532e-03, -2.9398932e-03, -4.0206960e-03,  3.3048945e-03,\n",
              "       -2.9913078e-03,  1.3139100e-03,  2.6449789e-03, -2.6807140e-03,\n",
              "        3.1970467e-03,  1.0752797e-03,  2.9125668e-03,  3.0784428e-03,\n",
              "       -2.3305537e-03,  4.0892619e-04, -2.5746629e-03,  9.0970955e-04],\n",
              "      dtype=float32)"
            ]
          },
          "metadata": {},
          "execution_count": 14
        }
      ]
    },
    {
      "cell_type": "code",
      "metadata": {
        "colab": {
          "base_uri": "https://localhost:8080/"
        },
        "id": "keL6xmzPWd3A",
        "outputId": "60d45e00-f474-445f-8ed1-2d9bafca01e8"
      },
      "source": [
        "w2v.similar_by_word(\"produk\", topn=5)"
      ],
      "execution_count": 15,
      "outputs": [
        {
          "output_type": "execute_result",
          "data": {
            "text/plain": [
              "[('cuma', 0.27767032384872437),\n",
              " ('hanya', 0.20780302584171295),\n",
              " ('banyak', 0.12105467915534973),\n",
              " ('dan', 0.1142985075712204),\n",
              " ('sale', 0.10658380389213562)]"
            ]
          },
          "metadata": {},
          "execution_count": 15
        }
      ]
    },
    {
      "cell_type": "code",
      "metadata": {
        "colab": {
          "base_uri": "https://localhost:8080/"
        },
        "id": "N56BAXG3Wmg0",
        "outputId": "6b249867-5750-4909-9b08-ae92030f94ec"
      },
      "source": [
        "komentar"
      ],
      "execution_count": 16,
      "outputs": [
        {
          "output_type": "execute_result",
          "data": {
            "text/plain": [
              "['Banyak promosi ekslusif yang bisa kamu dapatkan',\n",
              " 'Raih cashback dan diskon cuma di Shopee',\n",
              " 'Pesan online produk favoritmu hanya di Shopee',\n",
              " 'Tersedia berbagai opsi pengiriman',\n",
              " 'Flash sale Cash on Delivery No1 belanja online']"
            ]
          },
          "metadata": {},
          "execution_count": 16
        }
      ]
    },
    {
      "cell_type": "code",
      "metadata": {
        "id": "wTRU5zP2Wv7i"
      },
      "source": [
        "from sklearn.feature_extraction.text import TfidfVectorizer\n",
        "import pandas as pd\n",
        "\n",
        "\n",
        "vectorizer = TfidfVectorizer()\n",
        "result = vectorizer.fit_transform(komentar) #tfidf"
      ],
      "execution_count": 17,
      "outputs": []
    },
    {
      "cell_type": "code",
      "metadata": {
        "colab": {
          "base_uri": "https://localhost:8080/"
        },
        "id": "wczFHqNAWxXt",
        "outputId": "0c65ca2f-2ae4-4298-e26e-83619b3737de"
      },
      "source": [
        "print(vectorizer.get_feature_names())"
      ],
      "execution_count": 18,
      "outputs": [
        {
          "output_type": "stream",
          "name": "stdout",
          "text": [
            "['banyak', 'belanja', 'berbagai', 'bisa', 'cash', 'cashback', 'cuma', 'dan', 'dapatkan', 'delivery', 'di', 'diskon', 'ekslusif', 'favoritmu', 'flash', 'hanya', 'kamu', 'no1', 'on', 'online', 'opsi', 'pengiriman', 'pesan', 'produk', 'promosi', 'raih', 'sale', 'shopee', 'tersedia', 'yang']\n"
          ]
        }
      ]
    },
    {
      "cell_type": "code",
      "metadata": {
        "colab": {
          "base_uri": "https://localhost:8080/"
        },
        "id": "yficMAygW2Fl",
        "outputId": "1fd62323-73a5-46f3-9895-a9471e5a2571"
      },
      "source": [
        "print(result)"
      ],
      "execution_count": 19,
      "outputs": [
        {
          "output_type": "stream",
          "name": "stdout",
          "text": [
            "  (0, 8)\t0.3779644730092272\n",
            "  (0, 16)\t0.3779644730092272\n",
            "  (0, 3)\t0.3779644730092272\n",
            "  (0, 29)\t0.3779644730092272\n",
            "  (0, 12)\t0.3779644730092272\n",
            "  (0, 24)\t0.3779644730092272\n",
            "  (0, 0)\t0.3779644730092272\n",
            "  (1, 27)\t0.32138757599667\n",
            "  (1, 10)\t0.32138757599667\n",
            "  (1, 6)\t0.3983516165374428\n",
            "  (1, 11)\t0.3983516165374428\n",
            "  (1, 7)\t0.3983516165374428\n",
            "  (1, 5)\t0.3983516165374428\n",
            "  (1, 25)\t0.3983516165374428\n",
            "  (2, 15)\t0.4098653856022429\n",
            "  (2, 13)\t0.4098653856022429\n",
            "  (2, 23)\t0.4098653856022429\n",
            "  (2, 19)\t0.3306768123815655\n",
            "  (2, 22)\t0.4098653856022429\n",
            "  (2, 27)\t0.3306768123815655\n",
            "  (2, 10)\t0.3306768123815655\n",
            "  (3, 21)\t0.5\n",
            "  (3, 20)\t0.5\n",
            "  (3, 2)\t0.5\n",
            "  (3, 28)\t0.5\n",
            "  (4, 1)\t0.36152911730069653\n",
            "  (4, 17)\t0.36152911730069653\n",
            "  (4, 9)\t0.36152911730069653\n",
            "  (4, 18)\t0.36152911730069653\n",
            "  (4, 4)\t0.36152911730069653\n",
            "  (4, 26)\t0.36152911730069653\n",
            "  (4, 14)\t0.36152911730069653\n",
            "  (4, 19)\t0.2916794154657719\n"
          ]
        }
      ]
    },
    {
      "cell_type": "code",
      "metadata": {
        "colab": {
          "base_uri": "https://localhost:8080/"
        },
        "id": "BJKISEIKW_Eb",
        "outputId": "f749bf28-3696-4112-f2d1-15103124237f"
      },
      "source": [
        "print(f\"Teks dokumen ke-{4+1}:\\n{komentar[4]}\")\n",
        "print(f\"Fitur Name ke-19: {vectorizer.get_feature_names()[19]}\")"
      ],
      "execution_count": 20,
      "outputs": [
        {
          "output_type": "stream",
          "name": "stdout",
          "text": [
            "Teks dokumen ke-5:\n",
            "Flash sale Cash on Delivery No1 belanja online\n",
            "Fitur Name ke-19: online\n"
          ]
        }
      ]
    },
    {
      "cell_type": "code",
      "metadata": {
        "colab": {
          "base_uri": "https://localhost:8080/"
        },
        "id": "9XWKTf9mXGFp",
        "outputId": "21706780-d2c0-4e9c-acaa-eb059256f570"
      },
      "source": [
        "result.todense()"
      ],
      "execution_count": 21,
      "outputs": [
        {
          "output_type": "execute_result",
          "data": {
            "text/plain": [
              "matrix([[0.37796447, 0.        , 0.        , 0.37796447, 0.        ,\n",
              "         0.        , 0.        , 0.        , 0.37796447, 0.        ,\n",
              "         0.        , 0.        , 0.37796447, 0.        , 0.        ,\n",
              "         0.        , 0.37796447, 0.        , 0.        , 0.        ,\n",
              "         0.        , 0.        , 0.        , 0.        , 0.37796447,\n",
              "         0.        , 0.        , 0.        , 0.        , 0.37796447],\n",
              "        [0.        , 0.        , 0.        , 0.        , 0.        ,\n",
              "         0.39835162, 0.39835162, 0.39835162, 0.        , 0.        ,\n",
              "         0.32138758, 0.39835162, 0.        , 0.        , 0.        ,\n",
              "         0.        , 0.        , 0.        , 0.        , 0.        ,\n",
              "         0.        , 0.        , 0.        , 0.        , 0.        ,\n",
              "         0.39835162, 0.        , 0.32138758, 0.        , 0.        ],\n",
              "        [0.        , 0.        , 0.        , 0.        , 0.        ,\n",
              "         0.        , 0.        , 0.        , 0.        , 0.        ,\n",
              "         0.33067681, 0.        , 0.        , 0.40986539, 0.        ,\n",
              "         0.40986539, 0.        , 0.        , 0.        , 0.33067681,\n",
              "         0.        , 0.        , 0.40986539, 0.40986539, 0.        ,\n",
              "         0.        , 0.        , 0.33067681, 0.        , 0.        ],\n",
              "        [0.        , 0.        , 0.5       , 0.        , 0.        ,\n",
              "         0.        , 0.        , 0.        , 0.        , 0.        ,\n",
              "         0.        , 0.        , 0.        , 0.        , 0.        ,\n",
              "         0.        , 0.        , 0.        , 0.        , 0.        ,\n",
              "         0.5       , 0.5       , 0.        , 0.        , 0.        ,\n",
              "         0.        , 0.        , 0.        , 0.5       , 0.        ],\n",
              "        [0.        , 0.36152912, 0.        , 0.        , 0.36152912,\n",
              "         0.        , 0.        , 0.        , 0.        , 0.36152912,\n",
              "         0.        , 0.        , 0.        , 0.        , 0.36152912,\n",
              "         0.        , 0.        , 0.36152912, 0.36152912, 0.29167942,\n",
              "         0.        , 0.        , 0.        , 0.        , 0.        ,\n",
              "         0.        , 0.36152912, 0.        , 0.        , 0.        ]])"
            ]
          },
          "metadata": {},
          "execution_count": 21
        }
      ]
    },
    {
      "cell_type": "code",
      "metadata": {
        "colab": {
          "base_uri": "https://localhost:8080/",
          "height": 979
        },
        "id": "7azl-BXBXI-X",
        "outputId": "8627953b-8096-4c07-c231-d444f9ce8471"
      },
      "source": [
        "df = pd.DataFrame(result.todense().T,\n",
        "                  index=vectorizer.get_feature_names(),\n",
        "                  columns=[f\"D{i+1}\" for i in range(len(komentar))])\n",
        "df"
      ],
      "execution_count": 22,
      "outputs": [
        {
          "output_type": "execute_result",
          "data": {
            "text/html": [
              "<div>\n",
              "<style scoped>\n",
              "    .dataframe tbody tr th:only-of-type {\n",
              "        vertical-align: middle;\n",
              "    }\n",
              "\n",
              "    .dataframe tbody tr th {\n",
              "        vertical-align: top;\n",
              "    }\n",
              "\n",
              "    .dataframe thead th {\n",
              "        text-align: right;\n",
              "    }\n",
              "</style>\n",
              "<table border=\"1\" class=\"dataframe\">\n",
              "  <thead>\n",
              "    <tr style=\"text-align: right;\">\n",
              "      <th></th>\n",
              "      <th>D1</th>\n",
              "      <th>D2</th>\n",
              "      <th>D3</th>\n",
              "      <th>D4</th>\n",
              "      <th>D5</th>\n",
              "    </tr>\n",
              "  </thead>\n",
              "  <tbody>\n",
              "    <tr>\n",
              "      <th>banyak</th>\n",
              "      <td>0.377964</td>\n",
              "      <td>0.000000</td>\n",
              "      <td>0.000000</td>\n",
              "      <td>0.0</td>\n",
              "      <td>0.000000</td>\n",
              "    </tr>\n",
              "    <tr>\n",
              "      <th>belanja</th>\n",
              "      <td>0.000000</td>\n",
              "      <td>0.000000</td>\n",
              "      <td>0.000000</td>\n",
              "      <td>0.0</td>\n",
              "      <td>0.361529</td>\n",
              "    </tr>\n",
              "    <tr>\n",
              "      <th>berbagai</th>\n",
              "      <td>0.000000</td>\n",
              "      <td>0.000000</td>\n",
              "      <td>0.000000</td>\n",
              "      <td>0.5</td>\n",
              "      <td>0.000000</td>\n",
              "    </tr>\n",
              "    <tr>\n",
              "      <th>bisa</th>\n",
              "      <td>0.377964</td>\n",
              "      <td>0.000000</td>\n",
              "      <td>0.000000</td>\n",
              "      <td>0.0</td>\n",
              "      <td>0.000000</td>\n",
              "    </tr>\n",
              "    <tr>\n",
              "      <th>cash</th>\n",
              "      <td>0.000000</td>\n",
              "      <td>0.000000</td>\n",
              "      <td>0.000000</td>\n",
              "      <td>0.0</td>\n",
              "      <td>0.361529</td>\n",
              "    </tr>\n",
              "    <tr>\n",
              "      <th>cashback</th>\n",
              "      <td>0.000000</td>\n",
              "      <td>0.398352</td>\n",
              "      <td>0.000000</td>\n",
              "      <td>0.0</td>\n",
              "      <td>0.000000</td>\n",
              "    </tr>\n",
              "    <tr>\n",
              "      <th>cuma</th>\n",
              "      <td>0.000000</td>\n",
              "      <td>0.398352</td>\n",
              "      <td>0.000000</td>\n",
              "      <td>0.0</td>\n",
              "      <td>0.000000</td>\n",
              "    </tr>\n",
              "    <tr>\n",
              "      <th>dan</th>\n",
              "      <td>0.000000</td>\n",
              "      <td>0.398352</td>\n",
              "      <td>0.000000</td>\n",
              "      <td>0.0</td>\n",
              "      <td>0.000000</td>\n",
              "    </tr>\n",
              "    <tr>\n",
              "      <th>dapatkan</th>\n",
              "      <td>0.377964</td>\n",
              "      <td>0.000000</td>\n",
              "      <td>0.000000</td>\n",
              "      <td>0.0</td>\n",
              "      <td>0.000000</td>\n",
              "    </tr>\n",
              "    <tr>\n",
              "      <th>delivery</th>\n",
              "      <td>0.000000</td>\n",
              "      <td>0.000000</td>\n",
              "      <td>0.000000</td>\n",
              "      <td>0.0</td>\n",
              "      <td>0.361529</td>\n",
              "    </tr>\n",
              "    <tr>\n",
              "      <th>di</th>\n",
              "      <td>0.000000</td>\n",
              "      <td>0.321388</td>\n",
              "      <td>0.330677</td>\n",
              "      <td>0.0</td>\n",
              "      <td>0.000000</td>\n",
              "    </tr>\n",
              "    <tr>\n",
              "      <th>diskon</th>\n",
              "      <td>0.000000</td>\n",
              "      <td>0.398352</td>\n",
              "      <td>0.000000</td>\n",
              "      <td>0.0</td>\n",
              "      <td>0.000000</td>\n",
              "    </tr>\n",
              "    <tr>\n",
              "      <th>ekslusif</th>\n",
              "      <td>0.377964</td>\n",
              "      <td>0.000000</td>\n",
              "      <td>0.000000</td>\n",
              "      <td>0.0</td>\n",
              "      <td>0.000000</td>\n",
              "    </tr>\n",
              "    <tr>\n",
              "      <th>favoritmu</th>\n",
              "      <td>0.000000</td>\n",
              "      <td>0.000000</td>\n",
              "      <td>0.409865</td>\n",
              "      <td>0.0</td>\n",
              "      <td>0.000000</td>\n",
              "    </tr>\n",
              "    <tr>\n",
              "      <th>flash</th>\n",
              "      <td>0.000000</td>\n",
              "      <td>0.000000</td>\n",
              "      <td>0.000000</td>\n",
              "      <td>0.0</td>\n",
              "      <td>0.361529</td>\n",
              "    </tr>\n",
              "    <tr>\n",
              "      <th>hanya</th>\n",
              "      <td>0.000000</td>\n",
              "      <td>0.000000</td>\n",
              "      <td>0.409865</td>\n",
              "      <td>0.0</td>\n",
              "      <td>0.000000</td>\n",
              "    </tr>\n",
              "    <tr>\n",
              "      <th>kamu</th>\n",
              "      <td>0.377964</td>\n",
              "      <td>0.000000</td>\n",
              "      <td>0.000000</td>\n",
              "      <td>0.0</td>\n",
              "      <td>0.000000</td>\n",
              "    </tr>\n",
              "    <tr>\n",
              "      <th>no1</th>\n",
              "      <td>0.000000</td>\n",
              "      <td>0.000000</td>\n",
              "      <td>0.000000</td>\n",
              "      <td>0.0</td>\n",
              "      <td>0.361529</td>\n",
              "    </tr>\n",
              "    <tr>\n",
              "      <th>on</th>\n",
              "      <td>0.000000</td>\n",
              "      <td>0.000000</td>\n",
              "      <td>0.000000</td>\n",
              "      <td>0.0</td>\n",
              "      <td>0.361529</td>\n",
              "    </tr>\n",
              "    <tr>\n",
              "      <th>online</th>\n",
              "      <td>0.000000</td>\n",
              "      <td>0.000000</td>\n",
              "      <td>0.330677</td>\n",
              "      <td>0.0</td>\n",
              "      <td>0.291679</td>\n",
              "    </tr>\n",
              "    <tr>\n",
              "      <th>opsi</th>\n",
              "      <td>0.000000</td>\n",
              "      <td>0.000000</td>\n",
              "      <td>0.000000</td>\n",
              "      <td>0.5</td>\n",
              "      <td>0.000000</td>\n",
              "    </tr>\n",
              "    <tr>\n",
              "      <th>pengiriman</th>\n",
              "      <td>0.000000</td>\n",
              "      <td>0.000000</td>\n",
              "      <td>0.000000</td>\n",
              "      <td>0.5</td>\n",
              "      <td>0.000000</td>\n",
              "    </tr>\n",
              "    <tr>\n",
              "      <th>pesan</th>\n",
              "      <td>0.000000</td>\n",
              "      <td>0.000000</td>\n",
              "      <td>0.409865</td>\n",
              "      <td>0.0</td>\n",
              "      <td>0.000000</td>\n",
              "    </tr>\n",
              "    <tr>\n",
              "      <th>produk</th>\n",
              "      <td>0.000000</td>\n",
              "      <td>0.000000</td>\n",
              "      <td>0.409865</td>\n",
              "      <td>0.0</td>\n",
              "      <td>0.000000</td>\n",
              "    </tr>\n",
              "    <tr>\n",
              "      <th>promosi</th>\n",
              "      <td>0.377964</td>\n",
              "      <td>0.000000</td>\n",
              "      <td>0.000000</td>\n",
              "      <td>0.0</td>\n",
              "      <td>0.000000</td>\n",
              "    </tr>\n",
              "    <tr>\n",
              "      <th>raih</th>\n",
              "      <td>0.000000</td>\n",
              "      <td>0.398352</td>\n",
              "      <td>0.000000</td>\n",
              "      <td>0.0</td>\n",
              "      <td>0.000000</td>\n",
              "    </tr>\n",
              "    <tr>\n",
              "      <th>sale</th>\n",
              "      <td>0.000000</td>\n",
              "      <td>0.000000</td>\n",
              "      <td>0.000000</td>\n",
              "      <td>0.0</td>\n",
              "      <td>0.361529</td>\n",
              "    </tr>\n",
              "    <tr>\n",
              "      <th>shopee</th>\n",
              "      <td>0.000000</td>\n",
              "      <td>0.321388</td>\n",
              "      <td>0.330677</td>\n",
              "      <td>0.0</td>\n",
              "      <td>0.000000</td>\n",
              "    </tr>\n",
              "    <tr>\n",
              "      <th>tersedia</th>\n",
              "      <td>0.000000</td>\n",
              "      <td>0.000000</td>\n",
              "      <td>0.000000</td>\n",
              "      <td>0.5</td>\n",
              "      <td>0.000000</td>\n",
              "    </tr>\n",
              "    <tr>\n",
              "      <th>yang</th>\n",
              "      <td>0.377964</td>\n",
              "      <td>0.000000</td>\n",
              "      <td>0.000000</td>\n",
              "      <td>0.0</td>\n",
              "      <td>0.000000</td>\n",
              "    </tr>\n",
              "  </tbody>\n",
              "</table>\n",
              "</div>"
            ],
            "text/plain": [
              "                  D1        D2        D3   D4        D5\n",
              "banyak      0.377964  0.000000  0.000000  0.0  0.000000\n",
              "belanja     0.000000  0.000000  0.000000  0.0  0.361529\n",
              "berbagai    0.000000  0.000000  0.000000  0.5  0.000000\n",
              "bisa        0.377964  0.000000  0.000000  0.0  0.000000\n",
              "cash        0.000000  0.000000  0.000000  0.0  0.361529\n",
              "cashback    0.000000  0.398352  0.000000  0.0  0.000000\n",
              "cuma        0.000000  0.398352  0.000000  0.0  0.000000\n",
              "dan         0.000000  0.398352  0.000000  0.0  0.000000\n",
              "dapatkan    0.377964  0.000000  0.000000  0.0  0.000000\n",
              "delivery    0.000000  0.000000  0.000000  0.0  0.361529\n",
              "di          0.000000  0.321388  0.330677  0.0  0.000000\n",
              "diskon      0.000000  0.398352  0.000000  0.0  0.000000\n",
              "ekslusif    0.377964  0.000000  0.000000  0.0  0.000000\n",
              "favoritmu   0.000000  0.000000  0.409865  0.0  0.000000\n",
              "flash       0.000000  0.000000  0.000000  0.0  0.361529\n",
              "hanya       0.000000  0.000000  0.409865  0.0  0.000000\n",
              "kamu        0.377964  0.000000  0.000000  0.0  0.000000\n",
              "no1         0.000000  0.000000  0.000000  0.0  0.361529\n",
              "on          0.000000  0.000000  0.000000  0.0  0.361529\n",
              "online      0.000000  0.000000  0.330677  0.0  0.291679\n",
              "opsi        0.000000  0.000000  0.000000  0.5  0.000000\n",
              "pengiriman  0.000000  0.000000  0.000000  0.5  0.000000\n",
              "pesan       0.000000  0.000000  0.409865  0.0  0.000000\n",
              "produk      0.000000  0.000000  0.409865  0.0  0.000000\n",
              "promosi     0.377964  0.000000  0.000000  0.0  0.000000\n",
              "raih        0.000000  0.398352  0.000000  0.0  0.000000\n",
              "sale        0.000000  0.000000  0.000000  0.0  0.361529\n",
              "shopee      0.000000  0.321388  0.330677  0.0  0.000000\n",
              "tersedia    0.000000  0.000000  0.000000  0.5  0.000000\n",
              "yang        0.377964  0.000000  0.000000  0.0  0.000000"
            ]
          },
          "metadata": {},
          "execution_count": 22
        }
      ]
    },
    {
      "cell_type": "code",
      "metadata": {
        "id": "_tbcZLDHXMuL"
      },
      "source": [
        ""
      ],
      "execution_count": null,
      "outputs": []
    }
  ]
}