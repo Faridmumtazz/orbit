{
  "nbformat": 4,
  "nbformat_minor": 0,
  "metadata": {
    "colab": {
      "name": "chatbotpemula.ipynb",
      "provenance": []
    },
    "kernelspec": {
      "name": "python3",
      "display_name": "Python 3"
    },
    "language_info": {
      "name": "python"
    }
  },
  "cells": [
    {
      "cell_type": "code",
      "metadata": {
        "colab": {
          "base_uri": "https://localhost:8080/"
        },
        "id": "Oof0qe5L45LW",
        "outputId": "9f3aa0ac-effe-4c26-cd52-e44121b2fbea"
      },
      "source": [
        "!pip install newspaper3k"
      ],
      "execution_count": 23,
      "outputs": [
        {
          "output_type": "stream",
          "name": "stdout",
          "text": [
            "Requirement already satisfied: newspaper3k in /usr/local/lib/python3.7/dist-packages (0.2.8)\n",
            "Requirement already satisfied: cssselect>=0.9.2 in /usr/local/lib/python3.7/dist-packages (from newspaper3k) (1.1.0)\n",
            "Requirement already satisfied: PyYAML>=3.11 in /usr/local/lib/python3.7/dist-packages (from newspaper3k) (3.13)\n",
            "Requirement already satisfied: beautifulsoup4>=4.4.1 in /usr/local/lib/python3.7/dist-packages (from newspaper3k) (4.6.3)\n",
            "Requirement already satisfied: nltk>=3.2.1 in /usr/local/lib/python3.7/dist-packages (from newspaper3k) (3.2.5)\n",
            "Requirement already satisfied: lxml>=3.6.0 in /usr/local/lib/python3.7/dist-packages (from newspaper3k) (4.2.6)\n",
            "Requirement already satisfied: Pillow>=3.3.0 in /usr/local/lib/python3.7/dist-packages (from newspaper3k) (7.1.2)\n",
            "Requirement already satisfied: tldextract>=2.0.1 in /usr/local/lib/python3.7/dist-packages (from newspaper3k) (3.1.2)\n",
            "Requirement already satisfied: python-dateutil>=2.5.3 in /usr/local/lib/python3.7/dist-packages (from newspaper3k) (2.8.2)\n",
            "Requirement already satisfied: tinysegmenter==0.3 in /usr/local/lib/python3.7/dist-packages (from newspaper3k) (0.3)\n",
            "Requirement already satisfied: requests>=2.10.0 in /usr/local/lib/python3.7/dist-packages (from newspaper3k) (2.23.0)\n",
            "Requirement already satisfied: feedfinder2>=0.0.4 in /usr/local/lib/python3.7/dist-packages (from newspaper3k) (0.0.4)\n",
            "Requirement already satisfied: feedparser>=5.2.1 in /usr/local/lib/python3.7/dist-packages (from newspaper3k) (6.0.8)\n",
            "Requirement already satisfied: jieba3k>=0.35.1 in /usr/local/lib/python3.7/dist-packages (from newspaper3k) (0.35.1)\n",
            "Requirement already satisfied: six in /usr/local/lib/python3.7/dist-packages (from feedfinder2>=0.0.4->newspaper3k) (1.15.0)\n",
            "Requirement already satisfied: sgmllib3k in /usr/local/lib/python3.7/dist-packages (from feedparser>=5.2.1->newspaper3k) (1.0.0)\n",
            "Requirement already satisfied: idna<3,>=2.5 in /usr/local/lib/python3.7/dist-packages (from requests>=2.10.0->newspaper3k) (2.10)\n",
            "Requirement already satisfied: certifi>=2017.4.17 in /usr/local/lib/python3.7/dist-packages (from requests>=2.10.0->newspaper3k) (2021.5.30)\n",
            "Requirement already satisfied: chardet<4,>=3.0.2 in /usr/local/lib/python3.7/dist-packages (from requests>=2.10.0->newspaper3k) (3.0.4)\n",
            "Requirement already satisfied: urllib3!=1.25.0,!=1.25.1,<1.26,>=1.21.1 in /usr/local/lib/python3.7/dist-packages (from requests>=2.10.0->newspaper3k) (1.24.3)\n",
            "Requirement already satisfied: requests-file>=1.4 in /usr/local/lib/python3.7/dist-packages (from tldextract>=2.0.1->newspaper3k) (1.5.1)\n",
            "Requirement already satisfied: filelock>=3.0.8 in /usr/local/lib/python3.7/dist-packages (from tldextract>=2.0.1->newspaper3k) (3.3.0)\n"
          ]
        }
      ]
    },
    {
      "cell_type": "code",
      "metadata": {
        "id": "2fNtbS4h5Ro3"
      },
      "source": [
        "from newspaper import Article\n",
        "import random\n",
        "import nltk\n",
        "import string\n",
        "from sklearn.feature_extraction.text import CountVectorizer\n",
        "from sklearn.metrics.pairwise import cosine_similarity\n",
        "import numpy as np\n",
        "import warnings\n",
        "warnings.filterwarnings('ignore')"
      ],
      "execution_count": 24,
      "outputs": []
    },
    {
      "cell_type": "code",
      "metadata": {
        "colab": {
          "base_uri": "https://localhost:8080/"
        },
        "id": "1Fq0ThKb5ifc",
        "outputId": "8caaf1de-4b62-4185-cbe5-a3e46db30749"
      },
      "source": [
        "nltk.download('punkt', quiet=True)"
      ],
      "execution_count": 25,
      "outputs": [
        {
          "output_type": "execute_result",
          "data": {
            "text/plain": [
              "True"
            ]
          },
          "metadata": {},
          "execution_count": 25
        }
      ]
    },
    {
      "cell_type": "code",
      "metadata": {
        "colab": {
          "base_uri": "https://localhost:8080/"
        },
        "id": "jtv3rPWI5oKd",
        "outputId": "5f9cdbb6-2c2a-4dac-96b9-9e3fb2af7252"
      },
      "source": [
        "article = Article ('https://kompaspedia.kompas.id/baca/paparan-topik/merdeka-belajar-kampus-merdeka-dan-prestasi-mahasiswa-indonesia')\n",
        "article.download()\n",
        "article.parse()\n",
        "article.nlp\n",
        "corpus = article.text\n",
        "print(corpus)"
      ],
      "execution_count": 26,
      "outputs": [
        {
          "output_type": "stream",
          "name": "stdout",
          "text": [
            "Prestasi mahasiswa\n",
            "\n",
            "Berbagai kegiatan di atas bukanlah kegiatan baru bagi mahasiswa. Akan tetapi, kebaruan dalam kebijakan Kampus Merdeka ini adalah bahwa kegiatan tersebut diperhitungkan sebagai SKS yang dipenuhi oleh mahasiswa.\n",
            "\n",
            "Dalam praktiknya, berbagai kegiatan mahasiswa Indonesia sepanjang tahun 2020-2021, termasuk juga kegiatan yang tercantum dalam kebijakan Kampus Merdeka, telah menunjukkan prestasi yang patut dibanggakan.\n",
            "\n",
            "Salah satu contoh bentuk kegiatan mahasiswa yang mengharumkan nama bangsa dapat dilihat dalam keikutsertaan mahasiswa Indonesia dalam kompetisi bertaraf internasional.\n",
            "\n",
            "Awal 2021, tim mahasiswa Indonesia membuktikan kemampuan dan daya saingnya melalui keikutsertaan dalam kompetisi internasional inovasi kendaraan hemat energi Shell Eco-marathon (SEM). Dengan adanya pandemi, SEM digelar dengan menggunakan format baru berupa kompetisi virtual SEM Off-Track Awards (OTA) 2021 dari 1 Februari – 3 Maret 2021.\n",
            "\n",
            "Shell Eco-marathon adalah ajang untuk bagi para mahasiswa untuk mengembangkan solusi mobilitas yang inovatif dalam mendesain, membangun, menguji, dan mengendarai kendaraan masa depan yang memenuhi unsur keamanan serta dapat menempuh jarak terjauh dengan menggunakan sumber energi seminimal mungkin.\n",
            "\n",
            "Shell Eco-marathon pertama kali diadakan di Perancis pada tahun 1985. Pada tahun 2010, Shell Eco-marathon hadir pertama kali di Asia, yaitu di Malaysia. Kini, Shell Eco-marathon Asia menjadi gerakan nasional yang menggugah inspirasi dan antusiasme bagi mahasiswa di seluruh Indonesia untuk bangkit dan berinovasi menjawab tantangan energi masa depan dunia secara mandiri.\n",
            "\n",
            "Partisipasi Indonesia dalam kompetisi bergengsi ini merupakan keikutsertaan ke-11 sejak pertama kali SEM diadakan di Asia pada tahun 2010. Melalui ajang ini, berbagai inovasi kendaraan hemat energi dan ramah lingkungan telah berhasil ditampilkan oleh para inovator muda asal Indonesia yang berkompetisi di kancah global.\n",
            "\n",
            "Di antara 64 tim dari 12 negara yang mendaftar di wilayah Asia Pasifik dan Timur Tengah, terdapat 4 tim asal Indonesia dinobatkan sebagai juara I dan II untuk kategori berbeda.\n",
            "\n",
            "Tim Garuda Universitas Negeri Yogyakarta (UNY) menjadi Juara I di kategori Vehicle Design Award for UrbanConcept, dan Tim Sapuangin Institut Teknologi Sepuluh Nopember (ITS) menjadi Juara I di kategori Data & Telemetry Award. Selain itu, posisi runner-up berhasil dimenangkan oleh Tim Rakata Institut Teknologi Bandung (ITB) di kategori Data & Telemetry Award dan Tim Arjuna Universitas Indonesia (UI) di kategori Safety Award.\n",
            "\n",
            "Tim Garuda UNY menjadi Juara I di kategori Vehicle Design Award for UrbanConcept karena dinilai berhasil menunjukkan pengembangan produk yang konstruktif yang menghasilkan pengurangan berat tanpa mengurangi performa kendaraan.\n",
            "\n",
            "Tim Sapuangin ITS menjadi Juara I di kategori Data & Telemetry Award dinilai sukses menggunakan data telemetri, yaitu teknologi yang memungkinkan pengukuran jarak jauh dan pelaporan informasi kepada perancang atau operator sistem dengan cermat sehingga meningkatkan optimasi strategi berkendara. Selain itu, tim Sapuangin juga mencetak sejarah sebagai tim yang pertama kali menjuarai kategori terbaru ini di dunia.\n",
            "\n",
            "Penghargaan dalam OTA 2021 diberikan untuk tujuh kategori berbeda, yaitu Vehicle Design Award for UrbanConcept, Vehicle Design Award for Prototype, Data & Telemetry Award, Safety Award, Communications Award, Simulate to Innovate, dan Technical Innovation.\n",
            "\n",
            "Secara global, ada total 154 tim dari 137 universitas di 37 negara yang berpartisipasi sampai tahap akhir, dengan 27 tim dari Indonesia. Para peserta tersebut bersaing menyajikan inovasi kendaraan hemat energi mereka di hadapan panel juri yang terdiri dari para eksekutif dari Shell, Nissan, SwRI, Altair, dan Schmid Elektronik. Para juara pertama dari setiap kategori berhak mendapatkan hadiah uang sebesar 1.500 dolar AS dan runner-up sebesar 750 dollar AS.\n",
            "\n",
            "Kementerian Pendidikan, Kebudayaan, Riset dan Teknologi (Kemdikbudristek) mengapresiasi capaian para anak bangsa di kancah dunia dalam kompetisi inovasi internasional seperti SEM Off-Track Awards 2021 tersebut. Kemendikbudristek berharap prestasi ini menjadi pendorong kuat bagi anak muda lainnya untuk mengembangkan semangat berinovasi.\n",
            "\n",
            "Prestasi lain yang patut disebut adalah inovasi mahasiswa dalam kompetisi tingkat dunia. Lima mahasiswa dari Institut Teknologi Sepuluh Nopember (ITS) di Surabaya meraih medali emas pada ajang World Invention and Competition Exhibition (WICE) 2020 yakni membuat karya inovasi berupa sensor pendeteksi penangkapan ikan ilegal dan bencana laut. Mereka adalah Wildan Muhammad Mursyid (Teknik Material 2017), Ghifari Hanif Mustofa (Teknik Mesin 2017), Ahmad Fahmi Prakoso (Teknik Material 2018), Edo Danilyan (Biologi 2018), dan Aldiansyah Wahfiudin (Teknik Material 2018).\n",
            "\n",
            "KOMPAS/LARASWATI ARIADNE ANWAR Tim Universitas Negeri Yogyakarta melakukan pemeriksaan atas mobil konsep urban Garuda Urban Gasoline 19 di hanggar Sirkuit Internasional Sepang, Malaysia, Selasa (30/4/2019).\n",
            "\n",
            "Di bidang medis, Pusat Kedokteran Tropis Fakultas Kedokteran, Kesehatan Masyarakat, dan Keperawatan Universitas Gadjah Mada, Monash University, dan Yayasan Tahija menemukan rekayasa teknologi melalui pemberian bakteri Wolbachia pada nyamuk Aedes aegypti yang menurunkan kejadian demam berdarah dengue hingga 77 persen. Publikasi temuan ini disampaikan oleh Ketua Proyek World Mosquito Program (WMP) Yogyakarta Adi Utarini dalam diskusi daring, di Yogyakarta, 26 Agustus 2020.\n",
            "\n",
            "Pada 2020, tim peneliti Universitas Gadjah Mada (UGM) Yogyakarta mengembangkan alat deteksi Covid-19 melalui embusan napas. Alat yang diberi nama GeNose C19 itu disebut bisa mendeteksi infeksi Covid-19 dalam waktu tiga menit. Keberadaan alat ini diharapkan bisa mempermudah penapisan Covid-19 di Indonesia.\n",
            "\n",
            "GeNose C19 mendeteksi pola dari volatile organic compounds (VOC) atau senyawa organik mudah menguap yang terdapat pada embusan napas seseorang. Aktivitas bakteri atau virus di dalam jaringan tubuh manusia akan menghasilkan pola VOC yang khas.\n",
            "\n",
            "GeNose dilengkapi sejumlah sensor yang bisa membedakan pola VOC yang terdapat dalam embusan napas seseorang. Pola VOC itu bisa dibedakan berdasarkan kondisi kesehatan seseorang. Oleh karena itu, pola VOC orang sehat akan berbeda dengan pola VOC orang sakit. Selain itu, pola VOC orang yang terinfeksi Covid-19 berbeda dengan orang sehat maupun orang yang menderita penyakit lain.\n",
            "\n",
            "Untuk membaca atau menganalisis pola VOC, GeNose C19 dilengkapi dengan sistem artificial intelligence atau kecerdasan buatan. Dari hasil analisis tersebut, bisa disimpulkan apakah seseorang terinfeksi Covid-19 atau tidak.\n",
            "\n",
            "Di bidang olahraga, mahasiswa Universitas Muhammadiyah Sumatera Utara (UMSU) Yulfira Barkah berhasil menorehkan prestasi dalam ajang Spain Masters 2021. Mahasiswa asal Fakultas Ekonomi dan Bisnis (FEB UMSU) ini telah mengharumkan nama Indonesia setelah berhasil memenangkan medali emas pada ajang Spain Masters 2021, di Federación Española de Bádminton, Huelva, Spanyol pada Minggu (23/5/2021).\n",
            "\n",
            "Yulfira Barkah berpasangan dengan Febby Valencia Dwijayanti Gani, menorehkan sejarah dengan meraih gelar juara Spain Masters 2021. Kesuksesan Yulfira-Febby dituai seusai membekuk wakil Denmark, Amalie Magelund – Freja Ravn, pada laga final Spain Masters 2021 di Palacio de Deportes Carolina Marín, Spanyol.\n",
            "\n",
            "Ganda putri Merah Putih tampil luar biasa saat mengatasi sang unggulan pertama turnamen. Mereka menang dua gim langsung dengan skor 21-16 dan 21-14. Hasil ini membuat Yulfira/Febby mengikuti langkah seniornya, Greysia Polii/ Apriyani Rahayu, yang juga sukses menjadi juara di Spain Masters pada 2020.\n",
            "\n",
            "Prestasi yang diraih mahasiswa UMSU di level Internasional menunjukkan bahwa mahasiswa tidak hanya dapat meraih prestasi secara akademik, tetapi juga prestasi olahraga. Prestasi para mahasiswa tersebut memberikan nilai lebih karena diraih pada masa pandemi Covid-19.\n",
            "\n",
            "Berbagai prestasi mahasiswa Indonesia di atas menunjukkan bahwa kegiatan mahasiswa terbukti mampu mengembangkan inovasi, kreativitas, kapasitas, kepribadian hingga kebutuhan mahasiswa. Selain itu, berbagai kegiatan mahasiswa mampu menjawab tantangan permasalahan riil yang sedang dihadapi masyarakat. (LITBANG KOMPAS)\n"
          ]
        }
      ]
    },
    {
      "cell_type": "code",
      "metadata": {
        "colab": {
          "base_uri": "https://localhost:8080/"
        },
        "id": "zZLkLmWn6RdJ",
        "outputId": "4a9efe55-cc5e-4c6e-dbc0-4d35a546fbe5"
      },
      "source": [
        "text = corpus\n",
        "sentence_list = nltk.sent_tokenize(text)\n",
        "\n",
        "print(sentence_list)"
      ],
      "execution_count": 27,
      "outputs": [
        {
          "output_type": "stream",
          "name": "stdout",
          "text": [
            "['Prestasi mahasiswa\\n\\nBerbagai kegiatan di atas bukanlah kegiatan baru bagi mahasiswa.', 'Akan tetapi, kebaruan dalam kebijakan Kampus Merdeka ini adalah bahwa kegiatan tersebut diperhitungkan sebagai SKS yang dipenuhi oleh mahasiswa.', 'Dalam praktiknya, berbagai kegiatan mahasiswa Indonesia sepanjang tahun 2020-2021, termasuk juga kegiatan yang tercantum dalam kebijakan Kampus Merdeka, telah menunjukkan prestasi yang patut dibanggakan.', 'Salah satu contoh bentuk kegiatan mahasiswa yang mengharumkan nama bangsa dapat dilihat dalam keikutsertaan mahasiswa Indonesia dalam kompetisi bertaraf internasional.', 'Awal 2021, tim mahasiswa Indonesia membuktikan kemampuan dan daya saingnya melalui keikutsertaan dalam kompetisi internasional inovasi kendaraan hemat energi Shell Eco-marathon (SEM).', 'Dengan adanya pandemi, SEM digelar dengan menggunakan format baru berupa kompetisi virtual SEM Off-Track Awards (OTA) 2021 dari 1 Februari – 3 Maret 2021.', 'Shell Eco-marathon adalah ajang untuk bagi para mahasiswa untuk mengembangkan solusi mobilitas yang inovatif dalam mendesain, membangun, menguji, dan mengendarai kendaraan masa depan yang memenuhi unsur keamanan serta dapat menempuh jarak terjauh dengan menggunakan sumber energi seminimal mungkin.', 'Shell Eco-marathon pertama kali diadakan di Perancis pada tahun 1985.', 'Pada tahun 2010, Shell Eco-marathon hadir pertama kali di Asia, yaitu di Malaysia.', 'Kini, Shell Eco-marathon Asia menjadi gerakan nasional yang menggugah inspirasi dan antusiasme bagi mahasiswa di seluruh Indonesia untuk bangkit dan berinovasi menjawab tantangan energi masa depan dunia secara mandiri.', 'Partisipasi Indonesia dalam kompetisi bergengsi ini merupakan keikutsertaan ke-11 sejak pertama kali SEM diadakan di Asia pada tahun 2010.', 'Melalui ajang ini, berbagai inovasi kendaraan hemat energi dan ramah lingkungan telah berhasil ditampilkan oleh para inovator muda asal Indonesia yang berkompetisi di kancah global.', 'Di antara 64 tim dari 12 negara yang mendaftar di wilayah Asia Pasifik dan Timur Tengah, terdapat 4 tim asal Indonesia dinobatkan sebagai juara I dan II untuk kategori berbeda.', 'Tim Garuda Universitas Negeri Yogyakarta (UNY) menjadi Juara I di kategori Vehicle Design Award for UrbanConcept, dan Tim Sapuangin Institut Teknologi Sepuluh Nopember (ITS) menjadi Juara I di kategori Data & Telemetry Award.', 'Selain itu, posisi runner-up berhasil dimenangkan oleh Tim Rakata Institut Teknologi Bandung (ITB) di kategori Data & Telemetry Award dan Tim Arjuna Universitas Indonesia (UI) di kategori Safety Award.', 'Tim Garuda UNY menjadi Juara I di kategori Vehicle Design Award for UrbanConcept karena dinilai berhasil menunjukkan pengembangan produk yang konstruktif yang menghasilkan pengurangan berat tanpa mengurangi performa kendaraan.', 'Tim Sapuangin ITS menjadi Juara I di kategori Data & Telemetry Award dinilai sukses menggunakan data telemetri, yaitu teknologi yang memungkinkan pengukuran jarak jauh dan pelaporan informasi kepada perancang atau operator sistem dengan cermat sehingga meningkatkan optimasi strategi berkendara.', 'Selain itu, tim Sapuangin juga mencetak sejarah sebagai tim yang pertama kali menjuarai kategori terbaru ini di dunia.', 'Penghargaan dalam OTA 2021 diberikan untuk tujuh kategori berbeda, yaitu Vehicle Design Award for UrbanConcept, Vehicle Design Award for Prototype, Data & Telemetry Award, Safety Award, Communications Award, Simulate to Innovate, dan Technical Innovation.', 'Secara global, ada total 154 tim dari 137 universitas di 37 negara yang berpartisipasi sampai tahap akhir, dengan 27 tim dari Indonesia.', 'Para peserta tersebut bersaing menyajikan inovasi kendaraan hemat energi mereka di hadapan panel juri yang terdiri dari para eksekutif dari Shell, Nissan, SwRI, Altair, dan Schmid Elektronik.', 'Para juara pertama dari setiap kategori berhak mendapatkan hadiah uang sebesar 1.500 dolar AS dan runner-up sebesar 750 dollar AS.', 'Kementerian Pendidikan, Kebudayaan, Riset dan Teknologi (Kemdikbudristek) mengapresiasi capaian para anak bangsa di kancah dunia dalam kompetisi inovasi internasional seperti SEM Off-Track Awards 2021 tersebut.', 'Kemendikbudristek berharap prestasi ini menjadi pendorong kuat bagi anak muda lainnya untuk mengembangkan semangat berinovasi.', 'Prestasi lain yang patut disebut adalah inovasi mahasiswa dalam kompetisi tingkat dunia.', 'Lima mahasiswa dari Institut Teknologi Sepuluh Nopember (ITS) di Surabaya meraih medali emas pada ajang World Invention and Competition Exhibition (WICE) 2020 yakni membuat karya inovasi berupa sensor pendeteksi penangkapan ikan ilegal dan bencana laut.', 'Mereka adalah Wildan Muhammad Mursyid (Teknik Material 2017), Ghifari Hanif Mustofa (Teknik Mesin 2017), Ahmad Fahmi Prakoso (Teknik Material 2018), Edo Danilyan (Biologi 2018), dan Aldiansyah Wahfiudin (Teknik Material 2018).', 'KOMPAS/LARASWATI ARIADNE ANWAR Tim Universitas Negeri Yogyakarta melakukan pemeriksaan atas mobil konsep urban Garuda Urban Gasoline 19 di hanggar Sirkuit Internasional Sepang, Malaysia, Selasa (30/4/2019).', 'Di bidang medis, Pusat Kedokteran Tropis Fakultas Kedokteran, Kesehatan Masyarakat, dan Keperawatan Universitas Gadjah Mada, Monash University, dan Yayasan Tahija menemukan rekayasa teknologi melalui pemberian bakteri Wolbachia pada nyamuk Aedes aegypti yang menurunkan kejadian demam berdarah dengue hingga 77 persen.', 'Publikasi temuan ini disampaikan oleh Ketua Proyek World Mosquito Program (WMP) Yogyakarta Adi Utarini dalam diskusi daring, di Yogyakarta, 26 Agustus 2020.', 'Pada 2020, tim peneliti Universitas Gadjah Mada (UGM) Yogyakarta mengembangkan alat deteksi Covid-19 melalui embusan napas.', 'Alat yang diberi nama GeNose C19 itu disebut bisa mendeteksi infeksi Covid-19 dalam waktu tiga menit.', 'Keberadaan alat ini diharapkan bisa mempermudah penapisan Covid-19 di Indonesia.', 'GeNose C19 mendeteksi pola dari volatile organic compounds (VOC) atau senyawa organik mudah menguap yang terdapat pada embusan napas seseorang.', 'Aktivitas bakteri atau virus di dalam jaringan tubuh manusia akan menghasilkan pola VOC yang khas.', 'GeNose dilengkapi sejumlah sensor yang bisa membedakan pola VOC yang terdapat dalam embusan napas seseorang.', 'Pola VOC itu bisa dibedakan berdasarkan kondisi kesehatan seseorang.', 'Oleh karena itu, pola VOC orang sehat akan berbeda dengan pola VOC orang sakit.', 'Selain itu, pola VOC orang yang terinfeksi Covid-19 berbeda dengan orang sehat maupun orang yang menderita penyakit lain.', 'Untuk membaca atau menganalisis pola VOC, GeNose C19 dilengkapi dengan sistem artificial intelligence atau kecerdasan buatan.', 'Dari hasil analisis tersebut, bisa disimpulkan apakah seseorang terinfeksi Covid-19 atau tidak.', 'Di bidang olahraga, mahasiswa Universitas Muhammadiyah Sumatera Utara (UMSU) Yulfira Barkah berhasil menorehkan prestasi dalam ajang Spain Masters 2021.', 'Mahasiswa asal Fakultas Ekonomi dan Bisnis (FEB UMSU) ini telah mengharumkan nama Indonesia setelah berhasil memenangkan medali emas pada ajang Spain Masters 2021, di Federación Española de Bádminton, Huelva, Spanyol pada Minggu (23/5/2021).', 'Yulfira Barkah berpasangan dengan Febby Valencia Dwijayanti Gani, menorehkan sejarah dengan meraih gelar juara Spain Masters 2021.', 'Kesuksesan Yulfira-Febby dituai seusai membekuk wakil Denmark, Amalie Magelund – Freja Ravn, pada laga final Spain Masters 2021 di Palacio de Deportes Carolina Marín, Spanyol.', 'Ganda putri Merah Putih tampil luar biasa saat mengatasi sang unggulan pertama turnamen.', 'Mereka menang dua gim langsung dengan skor 21-16 dan 21-14.', 'Hasil ini membuat Yulfira/Febby mengikuti langkah seniornya, Greysia Polii/ Apriyani Rahayu, yang juga sukses menjadi juara di Spain Masters pada 2020.', 'Prestasi yang diraih mahasiswa UMSU di level Internasional menunjukkan bahwa mahasiswa tidak hanya dapat meraih prestasi secara akademik, tetapi juga prestasi olahraga.', 'Prestasi para mahasiswa tersebut memberikan nilai lebih karena diraih pada masa pandemi Covid-19.', 'Berbagai prestasi mahasiswa Indonesia di atas menunjukkan bahwa kegiatan mahasiswa terbukti mampu mengembangkan inovasi, kreativitas, kapasitas, kepribadian hingga kebutuhan mahasiswa.', 'Selain itu, berbagai kegiatan mahasiswa mampu menjawab tantangan permasalahan riil yang sedang dihadapi masyarakat.', '(LITBANG KOMPAS)']\n"
          ]
        }
      ]
    },
    {
      "cell_type": "code",
      "metadata": {
        "id": "V0Zprldn6d1L"
      },
      "source": [
        "def greeting_response(text):\n",
        "  text = text.lower()\n",
        "\n",
        "  user_greetings = ['hi','hey','hello','greetings','wassup']\n",
        "\n",
        "  bot_greetings = ['howdy','hi','hello','hola']\n",
        "\n",
        "  for word in text.split():\n",
        "    if word in user_greetings:\n",
        "      return random.choice(bot_greetings)\n",
        "\n",
        "  #def gratitude_response(text):\n",
        "    #text=text.lower()\n"
      ],
      "execution_count": 28,
      "outputs": []
    },
    {
      "cell_type": "code",
      "metadata": {
        "id": "tTW_m2Re8GBI"
      },
      "source": [
        "def index_sort(list_var):\n",
        "  length = len(list_var)\n",
        "  list_index = list(range(0, length))\n",
        "\n",
        "  x = list_var\n",
        "  for i in range(length):\n",
        "    for j in range(length):\n",
        "      if x[list_index[i]] > x[list_index[j]]:\n",
        "        temp = list_index[i]\n",
        "        list_index[i] = list_index[j]\n",
        "        list_index[j] = temp\n",
        "\n",
        "  return list_index"
      ],
      "execution_count": 29,
      "outputs": []
    },
    {
      "cell_type": "code",
      "metadata": {
        "id": "wHP5z5lI8cwM"
      },
      "source": [
        "def bot_response(user_input):\n",
        "  user_input=user_input.lower()\n",
        "  sentence_list.append(user_input)\n",
        "  bot_response= ''\n",
        "  cm=CountVectorizer().fit_transform(sentence_list)\n",
        "  similarity_scores=cosine_similarity(cm[-1],cm)\n",
        "  similarity_scores_list=similarity_scores.flatten()\n",
        "  index=index_sort(similarity_scores_list)\n",
        "  index=index[1:]\n",
        "  response_flag=0\n",
        "\n",
        "  j=0\n",
        "  for i in range(len(index)):\n",
        "    if similarity_score_list[index[i]]>0.0:\n",
        "      bot_response=bot_response+' '+sentence_list[index[i]]\n",
        "      response_flag=1\n",
        "      j=j+1\n",
        "    if j>2:\n",
        "      break\n",
        "\n",
        "    if response_flag==0:\n",
        "      bot_response=bpt_response+\" \"+\"I apalogize, I dont understand\"\n",
        "\n",
        "    sentence_list.remove(user_input)\n",
        "\n",
        "    return bot_response\n"
      ],
      "execution_count": 30,
      "outputs": []
    },
    {
      "cell_type": "code",
      "metadata": {
        "colab": {
          "base_uri": "https://localhost:8080/"
        },
        "id": "WVfzzmo5AnwU",
        "outputId": "a3f060bd-bcfc-4559-b352-df7f15564ebb"
      },
      "source": [
        "print(\"sir bot : saya sir bot , mau jawab pertanyaan tentang kampus merdeka, kamu mau nanya apa?\")\n",
        "\n",
        "exit_list=['exit','bye','see you later']\n",
        "\n",
        "while(True):\n",
        "  user_input=input()\n",
        "  if user_input.lower() in exit_list:\n",
        "    print('Doc bot: Bye bYe see you')\n",
        "    break\n",
        "  else:\n",
        "    if greeting_response(user_input)!=None:\n",
        "      print('Doc bot: '+ greeting_response(user_input))\n",
        "    else:\n",
        "      print('Doc bot: '+ bot_response(user_input))\n"
      ],
      "execution_count": null,
      "outputs": [
        {
          "output_type": "stream",
          "name": "stdout",
          "text": [
            "sir bot : saya sir bot , mau jawab pertanyaan tentang kampus merdeka, kamu mau nanya apa?\n"
          ]
        }
      ]
    },
    {
      "cell_type": "code",
      "metadata": {
        "id": "N7S-z5YTBkTO"
      },
      "source": [
        ""
      ],
      "execution_count": null,
      "outputs": []
    }
  ]
}