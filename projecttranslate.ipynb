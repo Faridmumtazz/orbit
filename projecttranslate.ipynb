{
  "nbformat": 4,
  "nbformat_minor": 0,
  "metadata": {
    "colab": {
      "name": "projecttranslate",
      "provenance": [],
      "collapsed_sections": []
    },
    "kernelspec": {
      "name": "python3",
      "display_name": "Python 3"
    },
    "language_info": {
      "name": "python"
    }
  },
  "cells": [
    {
      "cell_type": "code",
      "metadata": {
        "id": "VjyiLvo5UmOi",
        "colab": {
          "base_uri": "https://localhost:8080/"
        },
        "outputId": "0698b9b7-0e8c-4cec-c8d0-f74144b86b0c"
      },
      "source": [
        "!pip install -q gradio newspaper3k"
      ],
      "execution_count": 1,
      "outputs": [
        {
          "output_type": "stream",
          "name": "stdout",
          "text": [
            "\u001b[K     |████████████████████████████████| 2.0 MB 5.2 MB/s \n",
            "\u001b[K     |████████████████████████████████| 211 kB 58.1 MB/s \n",
            "\u001b[K     |████████████████████████████████| 206 kB 53.8 MB/s \n",
            "\u001b[K     |████████████████████████████████| 1.9 MB 25.5 MB/s \n",
            "\u001b[K     |████████████████████████████████| 87 kB 4.9 MB/s \n",
            "\u001b[K     |████████████████████████████████| 81 kB 7.2 MB/s \n",
            "\u001b[K     |████████████████████████████████| 7.4 MB 50.0 MB/s \n",
            "\u001b[K     |████████████████████████████████| 3.5 MB 17.5 MB/s \n",
            "\u001b[K     |████████████████████████████████| 961 kB 31.7 MB/s \n",
            "\u001b[K     |████████████████████████████████| 63 kB 2.1 MB/s \n",
            "\u001b[?25h  Building wheel for tinysegmenter (setup.py) ... \u001b[?25l\u001b[?25hdone\n",
            "  Building wheel for feedfinder2 (setup.py) ... \u001b[?25l\u001b[?25hdone\n",
            "  Building wheel for jieba3k (setup.py) ... \u001b[?25l\u001b[?25hdone\n",
            "  Building wheel for ffmpy (setup.py) ... \u001b[?25l\u001b[?25hdone\n",
            "  Building wheel for flask-cachebuster (setup.py) ... \u001b[?25l\u001b[?25hdone\n",
            "  Building wheel for sgmllib3k (setup.py) ... \u001b[?25l\u001b[?25hdone\n"
          ]
        }
      ]
    },
    {
      "cell_type": "code",
      "metadata": {
        "id": "mF6u-0-7Unh2"
      },
      "source": [
        "import newspaper\n",
        "import gradio as gr\n",
        "from gradio.mix import Series"
      ],
      "execution_count": 2,
      "outputs": []
    },
    {
      "cell_type": "code",
      "metadata": {
        "id": "PRju-rfD5EAn"
      },
      "source": [
        "aljazeera = newspaper.build('https://www.aljazeera.net/', language='ar', memoize_articles=False)"
      ],
      "execution_count": 3,
      "outputs": []
    },
    {
      "cell_type": "code",
      "metadata": {
        "id": "hN1Z1izAYM0f"
      },
      "source": [
        "def get_article_on_topic(topic_en):\n",
        "  en_to_ar = gr.Interface.load(\"Helsinki-NLP/opus-mt-en-ar\", src=\"huggingface\").run_prediction\n",
        "  topic_ar = en_to_ar([topic_en])[0].split()[0]\n",
        "  for article in aljazeera.articles:\n",
        "    article.download(); article.parse()\n",
        "    if topic_ar in article.text:\n",
        "      return article.text[:1024]"
      ],
      "execution_count": 4,
      "outputs": []
    },
    {
      "cell_type": "code",
      "metadata": {
        "id": "EeB3rupOYvZw",
        "colab": {
          "base_uri": "https://localhost:8080/"
        },
        "outputId": "7a32ee13-3b40-48f7-8ade-2039ca44f150"
      },
      "source": [
        "article_getter = gr.Interface(get_article_on_topic, \"text\", \"text\") # Get article on topic\n",
        "translator = gr.Interface.load(\"Helsinki-NLP/opus-mt-ar-en\", src=\"huggingface\") # Translate it to English\n",
        "summarizer = gr.Interface.load(\"facebook/bart-large-cnn\", src=\"huggingface\") # Summarize it"
      ],
      "execution_count": 5,
      "outputs": [
        {
          "output_type": "stream",
          "name": "stdout",
          "text": [
            "Fetching model from: https://huggingface.co/Helsinki-NLP/opus-mt-ar-en\n",
            "Fetching model from: https://huggingface.co/facebook/bart-large-cnn\n"
          ]
        }
      ]
    },
    {
      "cell_type": "code",
      "metadata": {
        "colab": {
          "base_uri": "https://localhost:8080/",
          "height": 627
        },
        "id": "vTKc8nGY-wyt",
        "outputId": "4e51a46d-e66a-4816-fc40-8d41dab7564f"
      },
      "source": [
        "Series(article_getter, translator, summarizer).launch()"
      ],
      "execution_count": 6,
      "outputs": [
        {
          "output_type": "stream",
          "name": "stdout",
          "text": [
            "Colab notebook detected. To show errors in colab notebook, set `debug=True` in `launch()`\n",
            "This share link will expire in 72 hours. If you need a permanent link, visit: https://gradio.app/introducing-hosted\n",
            "Running on External URL: https://21952.gradio.app\n"
          ]
        },
        {
          "output_type": "display_data",
          "data": {
            "text/html": [
              "\n",
              "        <iframe\n",
              "            width=\"900\"\n",
              "            height=\"500\"\n",
              "            src=\"https://21952.gradio.app\"\n",
              "            frameborder=\"0\"\n",
              "            allowfullscreen\n",
              "        ></iframe>\n",
              "        "
            ],
            "text/plain": [
              "<IPython.lib.display.IFrame at 0x7fa71629ebd0>"
            ]
          },
          "metadata": {}
        },
        {
          "output_type": "execute_result",
          "data": {
            "text/plain": [
              "(<Flask 'gradio.networking'>,\n",
              " 'http://127.0.0.1:7860/',\n",
              " 'https://21952.gradio.app')"
            ]
          },
          "metadata": {},
          "execution_count": 6
        }
      ]
    }
  ]
}