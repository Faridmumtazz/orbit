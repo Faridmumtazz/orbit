{
 "cells": [
  {
   "cell_type": "code",
   "execution_count": 1,
   "id": "0dc4e0ad",
   "metadata": {},
   "outputs": [],
   "source": [
    "import numpy as np\n",
    "import pandas as pd\n",
    "import matplotlib.pyplot as plt"
   ]
  },
  {
   "cell_type": "code",
   "execution_count": 3,
   "id": "eb6042c1",
   "metadata": {},
   "outputs": [],
   "source": [
    "df = pd.read_csv(\"brooklyn (1).csv\")"
   ]
  },
  {
   "cell_type": "code",
   "execution_count": 4,
   "id": "7d8d12a2",
   "metadata": {},
   "outputs": [
    {
     "data": {
      "text/html": [
       "<div>\n",
       "<style scoped>\n",
       "    .dataframe tbody tr th:only-of-type {\n",
       "        vertical-align: middle;\n",
       "    }\n",
       "\n",
       "    .dataframe tbody tr th {\n",
       "        vertical-align: top;\n",
       "    }\n",
       "\n",
       "    .dataframe thead th {\n",
       "        text-align: right;\n",
       "    }\n",
       "</style>\n",
       "<table border=\"1\" class=\"dataframe\">\n",
       "  <thead>\n",
       "    <tr style=\"text-align: right;\">\n",
       "      <th></th>\n",
       "      <th>id</th>\n",
       "      <th>date_collected</th>\n",
       "      <th>retailer_type</th>\n",
       "      <th>retailer_detail</th>\n",
       "      <th>food_type</th>\n",
       "      <th>food_detail</th>\n",
       "      <th>label_type</th>\n",
       "      <th>label_language</th>\n",
       "      <th>label_date</th>\n",
       "      <th>approximate_dollar_value</th>\n",
       "      <th>image_id</th>\n",
       "      <th>collection_lat</th>\n",
       "      <th>collection_long</th>\n",
       "      <th>label_explanation</th>\n",
       "    </tr>\n",
       "  </thead>\n",
       "  <tbody>\n",
       "    <tr>\n",
       "      <th>0</th>\n",
       "      <td>5e31d5503b85a2e63d634187</td>\n",
       "      <td>2020-01-27</td>\n",
       "      <td>counter service</td>\n",
       "      <td>ready-to-eat and prepackaged health food</td>\n",
       "      <td>ready-to-eat</td>\n",
       "      <td>organic oatmeal</td>\n",
       "      <td>sticker</td>\n",
       "      <td>use by</td>\n",
       "      <td>2020-01-28</td>\n",
       "      <td>5.25</td>\n",
       "      <td>IMG_1872</td>\n",
       "      <td>40.69453</td>\n",
       "      <td>-73.99447</td>\n",
       "      <td>NaN</td>\n",
       "    </tr>\n",
       "    <tr>\n",
       "      <th>1</th>\n",
       "      <td>5e31d5643b85a2e63d634188</td>\n",
       "      <td>2020-01-27</td>\n",
       "      <td>counter service</td>\n",
       "      <td>ready-to-eat and prepackaged health food</td>\n",
       "      <td>ready-to-eat</td>\n",
       "      <td>organic oatmeal</td>\n",
       "      <td>sticker</td>\n",
       "      <td>use by</td>\n",
       "      <td>2020-01-28</td>\n",
       "      <td>5.25</td>\n",
       "      <td>IMG_1873</td>\n",
       "      <td>40.69453</td>\n",
       "      <td>-73.99447</td>\n",
       "      <td>NaN</td>\n",
       "    </tr>\n",
       "    <tr>\n",
       "      <th>2</th>\n",
       "      <td>5e31d8903b85a2e63d634189</td>\n",
       "      <td>2020-01-27</td>\n",
       "      <td>counter service</td>\n",
       "      <td>ready-to-eat and prepackaged health food</td>\n",
       "      <td>ready-to-eat</td>\n",
       "      <td>organic middle eastern salad</td>\n",
       "      <td>sticker</td>\n",
       "      <td>use by</td>\n",
       "      <td>2020-01-28</td>\n",
       "      <td>10.00</td>\n",
       "      <td>IMG_1874</td>\n",
       "      <td>40.69453</td>\n",
       "      <td>-73.99447</td>\n",
       "      <td>NaN</td>\n",
       "    </tr>\n",
       "    <tr>\n",
       "      <th>3</th>\n",
       "      <td>5e31dcee3b85a2e63d63418a</td>\n",
       "      <td>2020-01-27</td>\n",
       "      <td>counter service</td>\n",
       "      <td>ready-to-eat and prepackaged health food</td>\n",
       "      <td>ready-to-eat</td>\n",
       "      <td>organic oatmeal</td>\n",
       "      <td>sticker</td>\n",
       "      <td>use by</td>\n",
       "      <td>2020-01-28</td>\n",
       "      <td>6.25</td>\n",
       "      <td>IMG_1875</td>\n",
       "      <td>40.69453</td>\n",
       "      <td>-73.99447</td>\n",
       "      <td>NaN</td>\n",
       "    </tr>\n",
       "    <tr>\n",
       "      <th>4</th>\n",
       "      <td>5e31dd273b85a2e63d63418b</td>\n",
       "      <td>2020-01-27</td>\n",
       "      <td>counter service</td>\n",
       "      <td>ready-to-eat and prepackaged health food</td>\n",
       "      <td>ready-to-eat</td>\n",
       "      <td>organic mexican salad</td>\n",
       "      <td>sticker</td>\n",
       "      <td>use by</td>\n",
       "      <td>2020-01-28</td>\n",
       "      <td>10.00</td>\n",
       "      <td>IMG_1876</td>\n",
       "      <td>40.69453</td>\n",
       "      <td>-73.99447</td>\n",
       "      <td>NaN</td>\n",
       "    </tr>\n",
       "  </tbody>\n",
       "</table>\n",
       "</div>"
      ],
      "text/plain": [
       "                         id date_collected    retailer_type  \\\n",
       "0  5e31d5503b85a2e63d634187     2020-01-27  counter service   \n",
       "1  5e31d5643b85a2e63d634188     2020-01-27  counter service   \n",
       "2  5e31d8903b85a2e63d634189     2020-01-27  counter service   \n",
       "3  5e31dcee3b85a2e63d63418a     2020-01-27  counter service   \n",
       "4  5e31dd273b85a2e63d63418b     2020-01-27  counter service   \n",
       "\n",
       "                            retailer_detail     food_type  \\\n",
       "0  ready-to-eat and prepackaged health food  ready-to-eat   \n",
       "1  ready-to-eat and prepackaged health food  ready-to-eat   \n",
       "2  ready-to-eat and prepackaged health food  ready-to-eat   \n",
       "3  ready-to-eat and prepackaged health food  ready-to-eat   \n",
       "4  ready-to-eat and prepackaged health food  ready-to-eat   \n",
       "\n",
       "                    food_detail label_type label_language  label_date  \\\n",
       "0               organic oatmeal    sticker         use by  2020-01-28   \n",
       "1               organic oatmeal    sticker         use by  2020-01-28   \n",
       "2  organic middle eastern salad    sticker         use by  2020-01-28   \n",
       "3               organic oatmeal    sticker         use by  2020-01-28   \n",
       "4         organic mexican salad    sticker         use by  2020-01-28   \n",
       "\n",
       "   approximate_dollar_value  image_id  collection_lat  collection_long  \\\n",
       "0                      5.25  IMG_1872        40.69453        -73.99447   \n",
       "1                      5.25  IMG_1873        40.69453        -73.99447   \n",
       "2                     10.00  IMG_1874        40.69453        -73.99447   \n",
       "3                      6.25  IMG_1875        40.69453        -73.99447   \n",
       "4                     10.00  IMG_1876        40.69453        -73.99447   \n",
       "\n",
       "  label_explanation  \n",
       "0               NaN  \n",
       "1               NaN  \n",
       "2               NaN  \n",
       "3               NaN  \n",
       "4               NaN  "
      ]
     },
     "execution_count": 4,
     "metadata": {},
     "output_type": "execute_result"
    }
   ],
   "source": [
    "df.head()"
   ]
  },
  {
   "cell_type": "code",
   "execution_count": 5,
   "id": "de361112",
   "metadata": {},
   "outputs": [],
   "source": [
    "df['date_collected'] = pd.to_datetime(df['date_collected'], errors='coerce')"
   ]
  },
  {
   "cell_type": "code",
   "execution_count": 6,
   "id": "cea7ee64",
   "metadata": {},
   "outputs": [],
   "source": [
    "df['label_date'] = pd.to_datetime(df['label_date'], errors='coerce')"
   ]
  },
  {
   "cell_type": "code",
   "execution_count": 7,
   "id": "59876d8b",
   "metadata": {},
   "outputs": [],
   "source": [
    "df = df[df['label_date'].notna()]"
   ]
  },
  {
   "cell_type": "code",
   "execution_count": 8,
   "id": "b48c81bd",
   "metadata": {},
   "outputs": [],
   "source": [
    "df['diff'] = df['label_date']-df['date_collected']"
   ]
  },
  {
   "cell_type": "code",
   "execution_count": 9,
   "id": "90c44566",
   "metadata": {},
   "outputs": [],
   "source": [
    "# removing outliers\n",
    "\n",
    "df = df[(df['diff'] > df['diff'].quantile(.05)) & (df['diff'] < df['diff'].quantile(0.95))]"
   ]
  },
  {
   "cell_type": "code",
   "execution_count": 10,
   "id": "95224baa",
   "metadata": {},
   "outputs": [],
   "source": [
    "df['diff'] = df['diff'].astype('str').apply(lambda x: x.split(' ')[0]).astype('int')"
   ]
  },
  {
   "cell_type": "code",
   "execution_count": 11,
   "id": "383d6351",
   "metadata": {},
   "outputs": [],
   "source": [
    "df_labels = df.groupby('label_language').agg({'id':'count', 'diff':'mean'})\n",
    "df_labels.columns = ['count','diff']"
   ]
  },
  {
   "cell_type": "code",
   "execution_count": 12,
   "id": "35677980",
   "metadata": {},
   "outputs": [
    {
     "data": {
      "text/html": [
       "<div>\n",
       "<style scoped>\n",
       "    .dataframe tbody tr th:only-of-type {\n",
       "        vertical-align: middle;\n",
       "    }\n",
       "\n",
       "    .dataframe tbody tr th {\n",
       "        vertical-align: top;\n",
       "    }\n",
       "\n",
       "    .dataframe thead th {\n",
       "        text-align: right;\n",
       "    }\n",
       "</style>\n",
       "<table border=\"1\" class=\"dataframe\">\n",
       "  <thead>\n",
       "    <tr style=\"text-align: right;\">\n",
       "      <th></th>\n",
       "      <th>count</th>\n",
       "      <th>diff</th>\n",
       "    </tr>\n",
       "    <tr>\n",
       "      <th>label_language</th>\n",
       "      <th></th>\n",
       "      <th></th>\n",
       "    </tr>\n",
       "  </thead>\n",
       "  <tbody>\n",
       "    <tr>\n",
       "      <th>sell by</th>\n",
       "      <td>31</td>\n",
       "      <td>0.903226</td>\n",
       "    </tr>\n",
       "    <tr>\n",
       "      <th>sell thru</th>\n",
       "      <td>25</td>\n",
       "      <td>-0.520000</td>\n",
       "    </tr>\n",
       "    <tr>\n",
       "      <th>exp</th>\n",
       "      <td>14</td>\n",
       "      <td>-1.428571</td>\n",
       "    </tr>\n",
       "    <tr>\n",
       "      <th>use by</th>\n",
       "      <td>14</td>\n",
       "      <td>0.214286</td>\n",
       "    </tr>\n",
       "    <tr>\n",
       "      <th>best if used by</th>\n",
       "      <td>5</td>\n",
       "      <td>-0.200000</td>\n",
       "    </tr>\n",
       "  </tbody>\n",
       "</table>\n",
       "</div>"
      ],
      "text/plain": [
       "                 count      diff\n",
       "label_language                  \n",
       "sell by             31  0.903226\n",
       "sell thru           25 -0.520000\n",
       "exp                 14 -1.428571\n",
       "use by              14  0.214286\n",
       "best if used by      5 -0.200000"
      ]
     },
     "execution_count": 12,
     "metadata": {},
     "output_type": "execute_result"
    }
   ],
   "source": [
    "df_labels.nlargest(5, 'count')"
   ]
  },
  {
   "cell_type": "code",
   "execution_count": 13,
   "id": "3596ba83",
   "metadata": {},
   "outputs": [
    {
     "data": {
      "text/plain": [
       "<AxesSubplot:xlabel='label_language'>"
      ]
     },
     "execution_count": 13,
     "metadata": {},
     "output_type": "execute_result"
    },
    {
     "data": {
      "image/png": "[encoded data removed]",
      "text/plain": [
       "<Figure size 432x288 with 1 Axes>"
      ]
     },
     "metadata": {
      "needs_background": "light"
     },
     "output_type": "display_data"
    }
   ],
   "source": [
    "df_labels.nlargest(5, 'count').plot.bar(y='diff')"
   ]
  },
  {
   "cell_type": "code",
   "execution_count": 14,
   "id": "0456f37b",
   "metadata": {},
   "outputs": [
    {
     "data": {
      "text/plain": [
       "<AxesSubplot:xlabel='retailer_type'>"
      ]
     },
     "execution_count": 14,
     "metadata": {},
     "output_type": "execute_result"
    },
    {
     "data": {
      "image/png": "[encoded data removed]",
      "text/plain": [
       "<Figure size 432x288 with 1 Axes>"
      ]
     },
     "metadata": {
      "needs_background": "light"
     },
     "output_type": "display_data"
    }
   ],
   "source": [
    "df.groupby('retailer_type')['diff'].mean().plot(kind='bar')"
   ]
  },
  {
   "cell_type": "code",
   "execution_count": 15,
   "id": "5fe627c1",
   "metadata": {},
   "outputs": [
    {
     "data": {
      "text/html": [
       "<div>\n",
       "<style scoped>\n",
       "    .dataframe tbody tr th:only-of-type {\n",
       "        vertical-align: middle;\n",
       "    }\n",
       "\n",
       "    .dataframe tbody tr th {\n",
       "        vertical-align: top;\n",
       "    }\n",
       "\n",
       "    .dataframe thead th {\n",
       "        text-align: right;\n",
       "    }\n",
       "</style>\n",
       "<table border=\"1\" class=\"dataframe\">\n",
       "  <thead>\n",
       "    <tr style=\"text-align: right;\">\n",
       "      <th></th>\n",
       "      <th>id</th>\n",
       "    </tr>\n",
       "    <tr>\n",
       "      <th>retailer_type</th>\n",
       "      <th></th>\n",
       "    </tr>\n",
       "  </thead>\n",
       "  <tbody>\n",
       "    <tr>\n",
       "      <th>drugstore</th>\n",
       "      <td>39</td>\n",
       "    </tr>\n",
       "    <tr>\n",
       "      <th>chain grocer</th>\n",
       "      <td>34</td>\n",
       "    </tr>\n",
       "    <tr>\n",
       "      <th>bakery/deli</th>\n",
       "      <td>31</td>\n",
       "    </tr>\n",
       "    <tr>\n",
       "      <th>health food grocer</th>\n",
       "      <td>30</td>\n",
       "    </tr>\n",
       "    <tr>\n",
       "      <th>counter service</th>\n",
       "      <td>9</td>\n",
       "    </tr>\n",
       "    <tr>\n",
       "      <th>coffeeshop</th>\n",
       "      <td>2</td>\n",
       "    </tr>\n",
       "  </tbody>\n",
       "</table>\n",
       "</div>"
      ],
      "text/plain": [
       "                    id\n",
       "retailer_type         \n",
       "drugstore           39\n",
       "chain grocer        34\n",
       "bakery/deli         31\n",
       "health food grocer  30\n",
       "counter service      9\n",
       "coffeeshop           2"
      ]
     },
     "execution_count": 15,
     "metadata": {},
     "output_type": "execute_result"
    }
   ],
   "source": [
    "df.groupby('retailer_type').count().id.to_frame().sort_values(by='id', ascending=False)"
   ]
  },
  {
   "cell_type": "code",
   "execution_count": 16,
   "id": "d82ddc5e",
   "metadata": {},
   "outputs": [
    {
     "data": {
      "text/plain": [
       "perishable    30\n",
       "Name: food_type, dtype: int64"
      ]
     },
     "execution_count": 16,
     "metadata": {},
     "output_type": "execute_result"
    }
   ],
   "source": [
    "df[df['retailer_type']=='health food grocer']['food_type'].value_counts()"
   ]
  },
  {
   "cell_type": "code",
   "execution_count": 17,
   "id": "13c6becb",
   "metadata": {},
   "outputs": [
    {
     "data": {
      "text/plain": [
       "perishable      23\n",
       "ready-to-eat    10\n",
       "packaged         6\n",
       "Name: food_type, dtype: int64"
      ]
     },
     "execution_count": 17,
     "metadata": {},
     "output_type": "execute_result"
    }
   ],
   "source": [
    "df[df['retailer_type']=='drugstore']['food_type'].value_counts()"
   ]
  },
  {
   "cell_type": "code",
   "execution_count": 18,
   "id": "6cd28bdc",
   "metadata": {},
   "outputs": [
    {
     "data": {
      "text/plain": [
       "<AxesSubplot:xlabel='food_type'>"
      ]
     },
     "execution_count": 18,
     "metadata": {},
     "output_type": "execute_result"
    },
    {
     "data": {
      "image/png": "[encoded data removed]",
      "text/plain": [
       "<Figure size 432x288 with 1 Axes>"
      ]
     },
     "metadata": {
      "needs_background": "light"
     },
     "output_type": "display_data"
    }
   ],
   "source": [
    "df.groupby('food_type')['id'].count().plot(kind='bar')"
   ]
  },
  {
   "cell_type": "code",
   "execution_count": 19,
   "id": "06e03217",
   "metadata": {},
   "outputs": [],
   "source": [
    "df_food = df.groupby('food_detail').agg({'id':'count', 'diff':'mean'}).sort_values(by='id', ascending=False).head(10).reset_index()"
   ]
  },
  {
   "cell_type": "code",
   "execution_count": 20,
   "id": "cc432963",
   "metadata": {},
   "outputs": [],
   "source": [
    "df_food.columns = ['food_detail','count','diff']"
   ]
  },
  {
   "cell_type": "code",
   "execution_count": 21,
   "id": "9e69548b",
   "metadata": {},
   "outputs": [
    {
     "data": {
      "text/html": [
       "<div>\n",
       "<style scoped>\n",
       "    .dataframe tbody tr th:only-of-type {\n",
       "        vertical-align: middle;\n",
       "    }\n",
       "\n",
       "    .dataframe tbody tr th {\n",
       "        vertical-align: top;\n",
       "    }\n",
       "\n",
       "    .dataframe thead th {\n",
       "        text-align: right;\n",
       "    }\n",
       "</style>\n",
       "<table border=\"1\" class=\"dataframe\">\n",
       "  <thead>\n",
       "    <tr style=\"text-align: right;\">\n",
       "      <th></th>\n",
       "      <th>food_detail</th>\n",
       "      <th>count</th>\n",
       "      <th>diff</th>\n",
       "    </tr>\n",
       "  </thead>\n",
       "  <tbody>\n",
       "    <tr>\n",
       "      <th>0</th>\n",
       "      <td>yogurt</td>\n",
       "      <td>17</td>\n",
       "      <td>1.882353</td>\n",
       "    </tr>\n",
       "    <tr>\n",
       "      <th>1</th>\n",
       "      <td>flatbread pepperoni pizza</td>\n",
       "      <td>7</td>\n",
       "      <td>0.000000</td>\n",
       "    </tr>\n",
       "    <tr>\n",
       "      <th>2</th>\n",
       "      <td>honey turkey and swiss wrap</td>\n",
       "      <td>7</td>\n",
       "      <td>-2.714286</td>\n",
       "    </tr>\n",
       "    <tr>\n",
       "      <th>3</th>\n",
       "      <td>pasteurized grade a goat milk</td>\n",
       "      <td>5</td>\n",
       "      <td>3.000000</td>\n",
       "    </tr>\n",
       "    <tr>\n",
       "      <th>4</th>\n",
       "      <td>mixed fruit cup</td>\n",
       "      <td>5</td>\n",
       "      <td>-0.200000</td>\n",
       "    </tr>\n",
       "    <tr>\n",
       "      <th>5</th>\n",
       "      <td>red velvet cake slice</td>\n",
       "      <td>4</td>\n",
       "      <td>3.500000</td>\n",
       "    </tr>\n",
       "    <tr>\n",
       "      <th>6</th>\n",
       "      <td>organic riced cauliflower</td>\n",
       "      <td>4</td>\n",
       "      <td>-1.000000</td>\n",
       "    </tr>\n",
       "    <tr>\n",
       "      <th>7</th>\n",
       "      <td>organic energy bar</td>\n",
       "      <td>4</td>\n",
       "      <td>3.000000</td>\n",
       "    </tr>\n",
       "    <tr>\n",
       "      <th>8</th>\n",
       "      <td>california roll sushi</td>\n",
       "      <td>4</td>\n",
       "      <td>-1.000000</td>\n",
       "    </tr>\n",
       "    <tr>\n",
       "      <th>9</th>\n",
       "      <td>chocolate cake</td>\n",
       "      <td>3</td>\n",
       "      <td>1.000000</td>\n",
       "    </tr>\n",
       "  </tbody>\n",
       "</table>\n",
       "</div>"
      ],
      "text/plain": [
       "                     food_detail  count      diff\n",
       "0                         yogurt     17  1.882353\n",
       "1      flatbread pepperoni pizza      7  0.000000\n",
       "2    honey turkey and swiss wrap      7 -2.714286\n",
       "3  pasteurized grade a goat milk      5  3.000000\n",
       "4                mixed fruit cup      5 -0.200000\n",
       "5          red velvet cake slice      4  3.500000\n",
       "6      organic riced cauliflower      4 -1.000000\n",
       "7             organic energy bar      4  3.000000\n",
       "8          california roll sushi      4 -1.000000\n",
       "9                 chocolate cake      3  1.000000"
      ]
     },
     "execution_count": 21,
     "metadata": {},
     "output_type": "execute_result"
    }
   ],
   "source": [
    "df_food"
   ]
  },
  {
   "cell_type": "code",
   "execution_count": 22,
   "id": "53f2eeb5",
   "metadata": {},
   "outputs": [
    {
     "data": {
      "text/plain": [
       "<AxesSubplot:xlabel='food_detail'>"
      ]
     },
     "execution_count": 22,
     "metadata": {},
     "output_type": "execute_result"
    },
    {
     "data": {
      "image/png": "[encoded data removed]",
      "text/plain": [
       "<Figure size 432x288 with 1 Axes>"
      ]
     },
     "metadata": {
      "needs_background": "light"
     },
     "output_type": "display_data"
    }
   ],
   "source": [
    "df_food.sort_values(by='diff').plot.bar(x='food_detail',y='diff')"
   ]
  },
  {
   "cell_type": "code",
   "execution_count": 23,
   "id": "2936cd4b",
   "metadata": {},
   "outputs": [],
   "source": [
    "df_r = df.groupby(['retailer_type', 'food_detail'])['diff'].mean().to_frame().reset_index()"
   ]
  },
  {
   "cell_type": "code",
   "execution_count": 24,
   "id": "a79158c8",
   "metadata": {},
   "outputs": [],
   "source": [
    "dup = df_r[df_r['food_detail'].duplicated()]"
   ]
  },
  {
   "cell_type": "code",
   "execution_count": 26,
   "id": "550bc48b",
   "metadata": {},
   "outputs": [],
   "source": [
    "df_duplicates = df[df['food_detail'].apply(lambda x: x in dup['food_detail'].to_list())]"
   ]
  },
  {
   "cell_type": "code",
   "execution_count": 27,
   "id": "1c093e39",
   "metadata": {},
   "outputs": [
    {
     "data": {
      "text/html": [
       "<div>\n",
       "<style scoped>\n",
       "    .dataframe tbody tr th:only-of-type {\n",
       "        vertical-align: middle;\n",
       "    }\n",
       "\n",
       "    .dataframe tbody tr th {\n",
       "        vertical-align: top;\n",
       "    }\n",
       "\n",
       "    .dataframe thead th {\n",
       "        text-align: right;\n",
       "    }\n",
       "</style>\n",
       "<table border=\"1\" class=\"dataframe\">\n",
       "  <thead>\n",
       "    <tr style=\"text-align: right;\">\n",
       "      <th></th>\n",
       "      <th></th>\n",
       "      <th>diff</th>\n",
       "      <th>count</th>\n",
       "    </tr>\n",
       "    <tr>\n",
       "      <th>retailer_type</th>\n",
       "      <th>food_detail</th>\n",
       "      <th></th>\n",
       "      <th></th>\n",
       "    </tr>\n",
       "  </thead>\n",
       "  <tbody>\n",
       "    <tr>\n",
       "      <th>bakery/deli</th>\n",
       "      <th>cut cantaloupe</th>\n",
       "      <td>-2.000000</td>\n",
       "      <td>1</td>\n",
       "    </tr>\n",
       "    <tr>\n",
       "      <th>chain grocer</th>\n",
       "      <th>cut cantaloupe</th>\n",
       "      <td>0.000000</td>\n",
       "      <td>2</td>\n",
       "    </tr>\n",
       "    <tr>\n",
       "      <th>drugstore</th>\n",
       "      <th>yogurt</th>\n",
       "      <td>2.133333</td>\n",
       "      <td>15</td>\n",
       "    </tr>\n",
       "    <tr>\n",
       "      <th>health food grocer</th>\n",
       "      <th>yogurt</th>\n",
       "      <td>0.000000</td>\n",
       "      <td>2</td>\n",
       "    </tr>\n",
       "  </tbody>\n",
       "</table>\n",
       "</div>"
      ],
      "text/plain": [
       "                                       diff  count\n",
       "retailer_type      food_detail                    \n",
       "bakery/deli        cut cantaloupe -2.000000      1\n",
       "chain grocer       cut cantaloupe  0.000000      2\n",
       "drugstore          yogurt          2.133333     15\n",
       "health food grocer yogurt          0.000000      2"
      ]
     },
     "execution_count": 27,
     "metadata": {},
     "output_type": "execute_result"
    }
   ],
   "source": [
    "df_duplicates = df_duplicates.groupby(['retailer_type', 'food_detail']).agg({'diff':'mean','id':'count'})\n",
    "df_duplicates.columns = ['diff','count']\n",
    "df_duplicates.head()"
   ]
  },
  {
   "cell_type": "code",
   "execution_count": 28,
   "id": "9e100b0f",
   "metadata": {},
   "outputs": [],
   "source": [
    "df['organic'] = df['food_detail'].apply(lambda x: ('organic' in x)*1)"
   ]
  },
  {
   "cell_type": "code",
   "execution_count": 29,
   "id": "aa0146eb",
   "metadata": {},
   "outputs": [
    {
     "data": {
      "text/plain": [
       "organic\n",
       "0    454\n",
       "1    121\n",
       "Name: diff, dtype: int32"
      ]
     },
     "execution_count": 29,
     "metadata": {},
     "output_type": "execute_result"
    }
   ],
   "source": [
    "df.groupby('organic')['diff'].sum()"
   ]
  },
  {
   "cell_type": "code",
   "execution_count": 30,
   "id": "bfc8dd29",
   "metadata": {},
   "outputs": [
    {
     "data": {
      "text/plain": [
       "organic\n",
       "0    3.752066\n",
       "1    5.041667\n",
       "Name: diff, dtype: float64"
      ]
     },
     "execution_count": 30,
     "metadata": {},
     "output_type": "execute_result"
    }
   ],
   "source": [
    "df.groupby('organic')['diff'].mean()"
   ]
  }
 ],
 "metadata": {
  "kernelspec": {
   "display_name": "Python 3",
   "language": "python",
   "name": "python3"
  },
  "language_info": {
   "codemirror_mode": {
    "name": "ipython",
    "version": 3
   },
   "file_extension": ".py",
   "mimetype": "text/x-python",
   "name": "python",
   "nbconvert_exporter": "python",
   "pygments_lexer": "ipython3",
   "version": "3.8.8"
  }
 },
 "nbformat": 4,
 "nbformat_minor": 5
}
